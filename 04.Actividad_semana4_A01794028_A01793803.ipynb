{
 "cells": [
  {
   "cell_type": "markdown",
   "metadata": {},
   "source": [
    "# **Actividad semanal - 04**\n",
    "# **Ciencia y analítica de datos**"
   ]
  },
  {
   "cell_type": "markdown",
   "metadata": {},
   "source": [
    "## **Nombre del profesor:** Jobish Vallikavungal Devassia\n",
    "\n",
    "## **Nombre:** Yeison Fernando Villamil Franco, Diego Alberto Olarte Mira\n",
    "## **Matrícula:** A01793803, A01794028\n",
    "## **Fecha:** 11 de octubre/2022"
   ]
  },
  {
   "cell_type": "code",
   "execution_count": 51,
   "metadata": {},
   "outputs": [],
   "source": [
    "import pandas as pd\n",
    "import numpy as np\n",
    "import matplotlib.pyplot as plt\n",
    "import seaborn as sns\n",
    "from sklearn.decomposition import PCA\n",
    "from sklearn.preprocessing import StandardScaler"
   ]
  },
  {
   "cell_type": "markdown",
   "metadata": {},
   "source": [
    "## **Parte 1: Ejercicio guiado**"
   ]
  },
  {
   "cell_type": "code",
   "execution_count": 3,
   "metadata": {},
   "outputs": [
    {
     "data": {
      "text/html": [
       "<div>\n",
       "<style scoped>\n",
       "    .dataframe tbody tr th:only-of-type {\n",
       "        vertical-align: middle;\n",
       "    }\n",
       "\n",
       "    .dataframe tbody tr th {\n",
       "        vertical-align: top;\n",
       "    }\n",
       "\n",
       "    .dataframe thead th {\n",
       "        text-align: right;\n",
       "    }\n",
       "</style>\n",
       "<table border=\"1\" class=\"dataframe\">\n",
       "  <thead>\n",
       "    <tr style=\"text-align: right;\">\n",
       "      <th></th>\n",
       "      <th>ID</th>\n",
       "      <th>X1</th>\n",
       "      <th>X2</th>\n",
       "      <th>X3</th>\n",
       "      <th>X4</th>\n",
       "      <th>X5</th>\n",
       "      <th>X6</th>\n",
       "      <th>X7</th>\n",
       "      <th>X8</th>\n",
       "      <th>X9</th>\n",
       "      <th>...</th>\n",
       "      <th>X15</th>\n",
       "      <th>X16</th>\n",
       "      <th>X17</th>\n",
       "      <th>X18</th>\n",
       "      <th>X19</th>\n",
       "      <th>X20</th>\n",
       "      <th>X21</th>\n",
       "      <th>X22</th>\n",
       "      <th>X23</th>\n",
       "      <th>Y</th>\n",
       "    </tr>\n",
       "  </thead>\n",
       "  <tbody>\n",
       "    <tr>\n",
       "      <th>0</th>\n",
       "      <td>1</td>\n",
       "      <td>20000</td>\n",
       "      <td>2.0</td>\n",
       "      <td>2.0</td>\n",
       "      <td>1.0</td>\n",
       "      <td>24.0</td>\n",
       "      <td>2.0</td>\n",
       "      <td>2.0</td>\n",
       "      <td>-1.0</td>\n",
       "      <td>-1.0</td>\n",
       "      <td>...</td>\n",
       "      <td>0.0</td>\n",
       "      <td>0.0</td>\n",
       "      <td>0.0</td>\n",
       "      <td>0.0</td>\n",
       "      <td>689.0</td>\n",
       "      <td>0.0</td>\n",
       "      <td>0.0</td>\n",
       "      <td>0.0</td>\n",
       "      <td>0.0</td>\n",
       "      <td>1.0</td>\n",
       "    </tr>\n",
       "    <tr>\n",
       "      <th>1</th>\n",
       "      <td>2</td>\n",
       "      <td>120000</td>\n",
       "      <td>2.0</td>\n",
       "      <td>2.0</td>\n",
       "      <td>2.0</td>\n",
       "      <td>26.0</td>\n",
       "      <td>-1.0</td>\n",
       "      <td>2.0</td>\n",
       "      <td>0.0</td>\n",
       "      <td>0.0</td>\n",
       "      <td>...</td>\n",
       "      <td>3272.0</td>\n",
       "      <td>3455.0</td>\n",
       "      <td>3261.0</td>\n",
       "      <td>0.0</td>\n",
       "      <td>1000.0</td>\n",
       "      <td>1000.0</td>\n",
       "      <td>1000.0</td>\n",
       "      <td>0.0</td>\n",
       "      <td>2000.0</td>\n",
       "      <td>1.0</td>\n",
       "    </tr>\n",
       "    <tr>\n",
       "      <th>2</th>\n",
       "      <td>3</td>\n",
       "      <td>90000</td>\n",
       "      <td>2.0</td>\n",
       "      <td>2.0</td>\n",
       "      <td>2.0</td>\n",
       "      <td>34.0</td>\n",
       "      <td>0.0</td>\n",
       "      <td>0.0</td>\n",
       "      <td>0.0</td>\n",
       "      <td>0.0</td>\n",
       "      <td>...</td>\n",
       "      <td>14331.0</td>\n",
       "      <td>14948.0</td>\n",
       "      <td>15549.0</td>\n",
       "      <td>1518.0</td>\n",
       "      <td>1500.0</td>\n",
       "      <td>1000.0</td>\n",
       "      <td>1000.0</td>\n",
       "      <td>1000.0</td>\n",
       "      <td>5000.0</td>\n",
       "      <td>0.0</td>\n",
       "    </tr>\n",
       "    <tr>\n",
       "      <th>3</th>\n",
       "      <td>4</td>\n",
       "      <td>50000</td>\n",
       "      <td>2.0</td>\n",
       "      <td>2.0</td>\n",
       "      <td>1.0</td>\n",
       "      <td>37.0</td>\n",
       "      <td>0.0</td>\n",
       "      <td>0.0</td>\n",
       "      <td>0.0</td>\n",
       "      <td>0.0</td>\n",
       "      <td>...</td>\n",
       "      <td>28314.0</td>\n",
       "      <td>28959.0</td>\n",
       "      <td>29547.0</td>\n",
       "      <td>2000.0</td>\n",
       "      <td>2019.0</td>\n",
       "      <td>1200.0</td>\n",
       "      <td>1100.0</td>\n",
       "      <td>1069.0</td>\n",
       "      <td>1000.0</td>\n",
       "      <td>0.0</td>\n",
       "    </tr>\n",
       "    <tr>\n",
       "      <th>4</th>\n",
       "      <td>5</td>\n",
       "      <td>50000</td>\n",
       "      <td>1.0</td>\n",
       "      <td>2.0</td>\n",
       "      <td>1.0</td>\n",
       "      <td>57.0</td>\n",
       "      <td>-1.0</td>\n",
       "      <td>0.0</td>\n",
       "      <td>-1.0</td>\n",
       "      <td>0.0</td>\n",
       "      <td>...</td>\n",
       "      <td>20940.0</td>\n",
       "      <td>19146.0</td>\n",
       "      <td>19131.0</td>\n",
       "      <td>2000.0</td>\n",
       "      <td>36681.0</td>\n",
       "      <td>10000.0</td>\n",
       "      <td>9000.0</td>\n",
       "      <td>689.0</td>\n",
       "      <td>679.0</td>\n",
       "      <td>0.0</td>\n",
       "    </tr>\n",
       "  </tbody>\n",
       "</table>\n",
       "<p>5 rows × 25 columns</p>\n",
       "</div>"
      ],
      "text/plain": [
       "   ID      X1   X2   X3   X4    X5   X6   X7   X8   X9  ...      X15      X16  \\\n",
       "0   1   20000  2.0  2.0  1.0  24.0  2.0  2.0 -1.0 -1.0  ...      0.0      0.0   \n",
       "1   2  120000  2.0  2.0  2.0  26.0 -1.0  2.0  0.0  0.0  ...   3272.0   3455.0   \n",
       "2   3   90000  2.0  2.0  2.0  34.0  0.0  0.0  0.0  0.0  ...  14331.0  14948.0   \n",
       "3   4   50000  2.0  2.0  1.0  37.0  0.0  0.0  0.0  0.0  ...  28314.0  28959.0   \n",
       "4   5   50000  1.0  2.0  1.0  57.0 -1.0  0.0 -1.0  0.0  ...  20940.0  19146.0   \n",
       "\n",
       "       X17     X18      X19      X20     X21     X22     X23    Y  \n",
       "0      0.0     0.0    689.0      0.0     0.0     0.0     0.0  1.0  \n",
       "1   3261.0     0.0   1000.0   1000.0  1000.0     0.0  2000.0  1.0  \n",
       "2  15549.0  1518.0   1500.0   1000.0  1000.0  1000.0  5000.0  0.0  \n",
       "3  29547.0  2000.0   2019.0   1200.0  1100.0  1069.0  1000.0  0.0  \n",
       "4  19131.0  2000.0  36681.0  10000.0  9000.0   689.0   679.0  0.0  \n",
       "\n",
       "[5 rows x 25 columns]"
      ]
     },
     "execution_count": 3,
     "metadata": {},
     "output_type": "execute_result"
    }
   ],
   "source": [
    "path = 'https://raw.githubusercontent.com/PosgradoMNA/Actividades_Aprendizaje-/main/default%20of%20credit%20card%20clients.csv'\n",
    "df = pd.read_csv(path)\n",
    "df.head()"
   ]
  },
  {
   "cell_type": "markdown",
   "metadata": {},
   "source": [
    "### **Nombres de las columnas**"
   ]
  },
  {
   "cell_type": "code",
   "execution_count": 4,
   "metadata": {},
   "outputs": [],
   "source": [
    "col = ['ID', 'Amount of the given credit', 'Gender', 'Education', 'Marital status', 'Age', 'the repayment status in September', 'the repayment status in August', \n",
    "       'the repayment status in July', 'the repayment status in June', 'the repayment status in May', 'the repayment status in April',\n",
    "       'Amount of bill statement in September, 2005', 'Amount of bill statement in August, 2005', 'Amount of bill statement in July, 2005', \n",
    "       'Amount of bill statement in June, 2005', 'Amount of bill statement in May, 2005', 'Amount of bill statement in April, 2005',\n",
    "       'Amount paid in September, 2005', 'Amount paid in August, 2005', 'Amount paid in July, 2005', 'Amount paid in June, 2005', 'Amount paid in May, 2005',\n",
    "       'Amount paid in April, 2005', 'Class']\n",
    "df.columns = col"
   ]
  },
  {
   "cell_type": "markdown",
   "metadata": {},
   "source": [
    "### **Paso 1: Determine el número mínimo de componentes principales que representan la mayor parte de la variación en sus datos**"
   ]
  },
  {
   "cell_type": "code",
   "execution_count": 6,
   "metadata": {},
   "outputs": [
    {
     "data": {
      "text/html": [
       "<div>\n",
       "<style scoped>\n",
       "    .dataframe tbody tr th:only-of-type {\n",
       "        vertical-align: middle;\n",
       "    }\n",
       "\n",
       "    .dataframe tbody tr th {\n",
       "        vertical-align: top;\n",
       "    }\n",
       "\n",
       "    .dataframe thead th {\n",
       "        text-align: right;\n",
       "    }\n",
       "</style>\n",
       "<table border=\"1\" class=\"dataframe\">\n",
       "  <thead>\n",
       "    <tr style=\"text-align: right;\">\n",
       "      <th></th>\n",
       "      <th>ID</th>\n",
       "      <th>Amount of the given credit</th>\n",
       "      <th>Gender</th>\n",
       "      <th>Education</th>\n",
       "      <th>Marital status</th>\n",
       "      <th>Age</th>\n",
       "      <th>the repayment status in September</th>\n",
       "      <th>the repayment status in August</th>\n",
       "      <th>the repayment status in July</th>\n",
       "      <th>the repayment status in June</th>\n",
       "      <th>...</th>\n",
       "      <th>Amount of bill statement in June, 2005</th>\n",
       "      <th>Amount of bill statement in May, 2005</th>\n",
       "      <th>Amount of bill statement in April, 2005</th>\n",
       "      <th>Amount paid in September, 2005</th>\n",
       "      <th>Amount paid in August, 2005</th>\n",
       "      <th>Amount paid in July, 2005</th>\n",
       "      <th>Amount paid in June, 2005</th>\n",
       "      <th>Amount paid in May, 2005</th>\n",
       "      <th>Amount paid in April, 2005</th>\n",
       "      <th>Class</th>\n",
       "    </tr>\n",
       "  </thead>\n",
       "  <tbody>\n",
       "    <tr>\n",
       "      <th>0</th>\n",
       "      <td>1</td>\n",
       "      <td>20000</td>\n",
       "      <td>2.0</td>\n",
       "      <td>2.0</td>\n",
       "      <td>1.0</td>\n",
       "      <td>24.0</td>\n",
       "      <td>2.0</td>\n",
       "      <td>2.0</td>\n",
       "      <td>-1.0</td>\n",
       "      <td>-1.0</td>\n",
       "      <td>...</td>\n",
       "      <td>0.0</td>\n",
       "      <td>0.0</td>\n",
       "      <td>0.0</td>\n",
       "      <td>0.0</td>\n",
       "      <td>689.0</td>\n",
       "      <td>0.0</td>\n",
       "      <td>0.0</td>\n",
       "      <td>0.0</td>\n",
       "      <td>0.0</td>\n",
       "      <td>1.0</td>\n",
       "    </tr>\n",
       "    <tr>\n",
       "      <th>1</th>\n",
       "      <td>2</td>\n",
       "      <td>120000</td>\n",
       "      <td>2.0</td>\n",
       "      <td>2.0</td>\n",
       "      <td>2.0</td>\n",
       "      <td>26.0</td>\n",
       "      <td>-1.0</td>\n",
       "      <td>2.0</td>\n",
       "      <td>0.0</td>\n",
       "      <td>0.0</td>\n",
       "      <td>...</td>\n",
       "      <td>3272.0</td>\n",
       "      <td>3455.0</td>\n",
       "      <td>3261.0</td>\n",
       "      <td>0.0</td>\n",
       "      <td>1000.0</td>\n",
       "      <td>1000.0</td>\n",
       "      <td>1000.0</td>\n",
       "      <td>0.0</td>\n",
       "      <td>2000.0</td>\n",
       "      <td>1.0</td>\n",
       "    </tr>\n",
       "    <tr>\n",
       "      <th>2</th>\n",
       "      <td>3</td>\n",
       "      <td>90000</td>\n",
       "      <td>2.0</td>\n",
       "      <td>2.0</td>\n",
       "      <td>2.0</td>\n",
       "      <td>34.0</td>\n",
       "      <td>0.0</td>\n",
       "      <td>0.0</td>\n",
       "      <td>0.0</td>\n",
       "      <td>0.0</td>\n",
       "      <td>...</td>\n",
       "      <td>14331.0</td>\n",
       "      <td>14948.0</td>\n",
       "      <td>15549.0</td>\n",
       "      <td>1518.0</td>\n",
       "      <td>1500.0</td>\n",
       "      <td>1000.0</td>\n",
       "      <td>1000.0</td>\n",
       "      <td>1000.0</td>\n",
       "      <td>5000.0</td>\n",
       "      <td>0.0</td>\n",
       "    </tr>\n",
       "    <tr>\n",
       "      <th>3</th>\n",
       "      <td>4</td>\n",
       "      <td>50000</td>\n",
       "      <td>2.0</td>\n",
       "      <td>2.0</td>\n",
       "      <td>1.0</td>\n",
       "      <td>37.0</td>\n",
       "      <td>0.0</td>\n",
       "      <td>0.0</td>\n",
       "      <td>0.0</td>\n",
       "      <td>0.0</td>\n",
       "      <td>...</td>\n",
       "      <td>28314.0</td>\n",
       "      <td>28959.0</td>\n",
       "      <td>29547.0</td>\n",
       "      <td>2000.0</td>\n",
       "      <td>2019.0</td>\n",
       "      <td>1200.0</td>\n",
       "      <td>1100.0</td>\n",
       "      <td>1069.0</td>\n",
       "      <td>1000.0</td>\n",
       "      <td>0.0</td>\n",
       "    </tr>\n",
       "    <tr>\n",
       "      <th>4</th>\n",
       "      <td>5</td>\n",
       "      <td>50000</td>\n",
       "      <td>1.0</td>\n",
       "      <td>2.0</td>\n",
       "      <td>1.0</td>\n",
       "      <td>57.0</td>\n",
       "      <td>-1.0</td>\n",
       "      <td>0.0</td>\n",
       "      <td>-1.0</td>\n",
       "      <td>0.0</td>\n",
       "      <td>...</td>\n",
       "      <td>20940.0</td>\n",
       "      <td>19146.0</td>\n",
       "      <td>19131.0</td>\n",
       "      <td>2000.0</td>\n",
       "      <td>36681.0</td>\n",
       "      <td>10000.0</td>\n",
       "      <td>9000.0</td>\n",
       "      <td>689.0</td>\n",
       "      <td>679.0</td>\n",
       "      <td>0.0</td>\n",
       "    </tr>\n",
       "  </tbody>\n",
       "</table>\n",
       "<p>5 rows × 25 columns</p>\n",
       "</div>"
      ],
      "text/plain": [
       "   ID  Amount of the given credit  Gender  Education  Marital status   Age  \\\n",
       "0   1                       20000     2.0        2.0             1.0  24.0   \n",
       "1   2                      120000     2.0        2.0             2.0  26.0   \n",
       "2   3                       90000     2.0        2.0             2.0  34.0   \n",
       "3   4                       50000     2.0        2.0             1.0  37.0   \n",
       "4   5                       50000     1.0        2.0             1.0  57.0   \n",
       "\n",
       "   the repayment status in September  the repayment status in August  \\\n",
       "0                                2.0                             2.0   \n",
       "1                               -1.0                             2.0   \n",
       "2                                0.0                             0.0   \n",
       "3                                0.0                             0.0   \n",
       "4                               -1.0                             0.0   \n",
       "\n",
       "   the repayment status in July  the repayment status in June  ...  \\\n",
       "0                          -1.0                          -1.0  ...   \n",
       "1                           0.0                           0.0  ...   \n",
       "2                           0.0                           0.0  ...   \n",
       "3                           0.0                           0.0  ...   \n",
       "4                          -1.0                           0.0  ...   \n",
       "\n",
       "   Amount of bill statement in June, 2005  \\\n",
       "0                                     0.0   \n",
       "1                                  3272.0   \n",
       "2                                 14331.0   \n",
       "3                                 28314.0   \n",
       "4                                 20940.0   \n",
       "\n",
       "   Amount of bill statement in May, 2005  \\\n",
       "0                                    0.0   \n",
       "1                                 3455.0   \n",
       "2                                14948.0   \n",
       "3                                28959.0   \n",
       "4                                19146.0   \n",
       "\n",
       "   Amount of bill statement in April, 2005  Amount paid in September, 2005  \\\n",
       "0                                      0.0                             0.0   \n",
       "1                                   3261.0                             0.0   \n",
       "2                                  15549.0                          1518.0   \n",
       "3                                  29547.0                          2000.0   \n",
       "4                                  19131.0                          2000.0   \n",
       "\n",
       "   Amount paid in August, 2005  Amount paid in July, 2005  \\\n",
       "0                        689.0                        0.0   \n",
       "1                       1000.0                     1000.0   \n",
       "2                       1500.0                     1000.0   \n",
       "3                       2019.0                     1200.0   \n",
       "4                      36681.0                    10000.0   \n",
       "\n",
       "   Amount paid in June, 2005  Amount paid in May, 2005  \\\n",
       "0                        0.0                       0.0   \n",
       "1                     1000.0                       0.0   \n",
       "2                     1000.0                    1000.0   \n",
       "3                     1100.0                    1069.0   \n",
       "4                     9000.0                     689.0   \n",
       "\n",
       "   Amount paid in April, 2005  Class  \n",
       "0                         0.0    1.0  \n",
       "1                      2000.0    1.0  \n",
       "2                      5000.0    0.0  \n",
       "3                      1000.0    0.0  \n",
       "4                       679.0    0.0  \n",
       "\n",
       "[5 rows x 25 columns]"
      ]
     },
     "execution_count": 6,
     "metadata": {},
     "output_type": "execute_result"
    }
   ],
   "source": [
    "df.head()"
   ]
  },
  {
   "cell_type": "markdown",
   "metadata": {},
   "source": [
    "Aboradaremos el problema de reducción de dimensionalidad partiendo de varios componente característicos.\n",
    "\n",
    "1. Debido a que existen valores nulos, se procederá a aplicar los pasos empleado en la tarea anterior para imputar o eliminar estos y tener un dataset limpio\n",
    "2. Considerando que existen variables que son únicas como `Amount of the given credit`, `Gender`, `Education`, `Marital status`, `Age`. Dejaremos estas por fuera de la parte inicial de reducción de dimensionaidad, ya que pueden ser características propias individuales de cada cliente.\n",
    "3. Existen tres tipos de variables que pueden coincidir: `Amount of bill statement`, `Amount paind in` y `the repayment status`, se procederá a reducir la dimensionalidad de cada una de estas variables.\n",
    "4. Las variables mencionadas en el paso tres serán usadas en conjunto para ver que tanto cambiar la varianza en la reducción de dimensionalidad."
   ]
  },
  {
   "cell_type": "markdown",
   "metadata": {},
   "source": [
    "#### 1.1. Limpieza de datos"
   ]
  },
  {
   "cell_type": "markdown",
   "metadata": {},
   "source": [
    "##### Variables categóricas"
   ]
  },
  {
   "cell_type": "code",
   "execution_count": 9,
   "metadata": {},
   "outputs": [
    {
     "data": {
      "text/html": [
       "<div>\n",
       "<style scoped>\n",
       "    .dataframe tbody tr th:only-of-type {\n",
       "        vertical-align: middle;\n",
       "    }\n",
       "\n",
       "    .dataframe tbody tr th {\n",
       "        vertical-align: top;\n",
       "    }\n",
       "\n",
       "    .dataframe thead th {\n",
       "        text-align: right;\n",
       "    }\n",
       "</style>\n",
       "<table border=\"1\" class=\"dataframe\">\n",
       "  <thead>\n",
       "    <tr style=\"text-align: right;\">\n",
       "      <th></th>\n",
       "      <th>ID</th>\n",
       "      <th>Amount of the given credit</th>\n",
       "      <th>Gender</th>\n",
       "      <th>Education</th>\n",
       "      <th>Marital status</th>\n",
       "      <th>Age</th>\n",
       "      <th>the repayment status in September</th>\n",
       "      <th>the repayment status in August</th>\n",
       "      <th>the repayment status in July</th>\n",
       "      <th>the repayment status in June</th>\n",
       "      <th>...</th>\n",
       "      <th>Amount of bill statement in June, 2005</th>\n",
       "      <th>Amount of bill statement in May, 2005</th>\n",
       "      <th>Amount of bill statement in April, 2005</th>\n",
       "      <th>Amount paid in September, 2005</th>\n",
       "      <th>Amount paid in August, 2005</th>\n",
       "      <th>Amount paid in July, 2005</th>\n",
       "      <th>Amount paid in June, 2005</th>\n",
       "      <th>Amount paid in May, 2005</th>\n",
       "      <th>Amount paid in April, 2005</th>\n",
       "      <th>Class</th>\n",
       "    </tr>\n",
       "  </thead>\n",
       "  <tbody>\n",
       "    <tr>\n",
       "      <th>6232</th>\n",
       "      <td>6233</td>\n",
       "      <td>60000</td>\n",
       "      <td>2.0</td>\n",
       "      <td>2.0</td>\n",
       "      <td>2.0</td>\n",
       "      <td>29.0</td>\n",
       "      <td>2.0</td>\n",
       "      <td>2.0</td>\n",
       "      <td>2.0</td>\n",
       "      <td>0.0</td>\n",
       "      <td>...</td>\n",
       "      <td>NaN</td>\n",
       "      <td>NaN</td>\n",
       "      <td>NaN</td>\n",
       "      <td>NaN</td>\n",
       "      <td>NaN</td>\n",
       "      <td>NaN</td>\n",
       "      <td>NaN</td>\n",
       "      <td>NaN</td>\n",
       "      <td>NaN</td>\n",
       "      <td>NaN</td>\n",
       "    </tr>\n",
       "    <tr>\n",
       "      <th>29824</th>\n",
       "      <td>29825</td>\n",
       "      <td>40000</td>\n",
       "      <td>1.0</td>\n",
       "      <td>1.0</td>\n",
       "      <td>1.0</td>\n",
       "      <td>47.0</td>\n",
       "      <td>2.0</td>\n",
       "      <td>2.0</td>\n",
       "      <td>2.0</td>\n",
       "      <td>2.0</td>\n",
       "      <td>...</td>\n",
       "      <td>NaN</td>\n",
       "      <td>NaN</td>\n",
       "      <td>NaN</td>\n",
       "      <td>NaN</td>\n",
       "      <td>NaN</td>\n",
       "      <td>NaN</td>\n",
       "      <td>NaN</td>\n",
       "      <td>NaN</td>\n",
       "      <td>NaN</td>\n",
       "      <td>NaN</td>\n",
       "    </tr>\n",
       "    <tr>\n",
       "      <th>29825</th>\n",
       "      <td>29826</td>\n",
       "      <td>50000</td>\n",
       "      <td>1.0</td>\n",
       "      <td>2.0</td>\n",
       "      <td>1.0</td>\n",
       "      <td>41.0</td>\n",
       "      <td>0.0</td>\n",
       "      <td>0.0</td>\n",
       "      <td>0.0</td>\n",
       "      <td>0.0</td>\n",
       "      <td>...</td>\n",
       "      <td>NaN</td>\n",
       "      <td>NaN</td>\n",
       "      <td>NaN</td>\n",
       "      <td>NaN</td>\n",
       "      <td>NaN</td>\n",
       "      <td>NaN</td>\n",
       "      <td>NaN</td>\n",
       "      <td>NaN</td>\n",
       "      <td>NaN</td>\n",
       "      <td>NaN</td>\n",
       "    </tr>\n",
       "  </tbody>\n",
       "</table>\n",
       "<p>3 rows × 25 columns</p>\n",
       "</div>"
      ],
      "text/plain": [
       "          ID  Amount of the given credit  Gender  Education  Marital status  \\\n",
       "6232    6233                       60000     2.0        2.0             2.0   \n",
       "29824  29825                       40000     1.0        1.0             1.0   \n",
       "29825  29826                       50000     1.0        2.0             1.0   \n",
       "\n",
       "        Age  the repayment status in September  \\\n",
       "6232   29.0                                2.0   \n",
       "29824  47.0                                2.0   \n",
       "29825  41.0                                0.0   \n",
       "\n",
       "       the repayment status in August  the repayment status in July  \\\n",
       "6232                              2.0                           2.0   \n",
       "29824                             2.0                           2.0   \n",
       "29825                             0.0                           0.0   \n",
       "\n",
       "       the repayment status in June  ...  \\\n",
       "6232                            0.0  ...   \n",
       "29824                           2.0  ...   \n",
       "29825                           0.0  ...   \n",
       "\n",
       "       Amount of bill statement in June, 2005  \\\n",
       "6232                                      NaN   \n",
       "29824                                     NaN   \n",
       "29825                                     NaN   \n",
       "\n",
       "       Amount of bill statement in May, 2005  \\\n",
       "6232                                     NaN   \n",
       "29824                                    NaN   \n",
       "29825                                    NaN   \n",
       "\n",
       "       Amount of bill statement in April, 2005  \\\n",
       "6232                                       NaN   \n",
       "29824                                      NaN   \n",
       "29825                                      NaN   \n",
       "\n",
       "       Amount paid in September, 2005  Amount paid in August, 2005  \\\n",
       "6232                              NaN                          NaN   \n",
       "29824                             NaN                          NaN   \n",
       "29825                             NaN                          NaN   \n",
       "\n",
       "       Amount paid in July, 2005  Amount paid in June, 2005  \\\n",
       "6232                         NaN                        NaN   \n",
       "29824                        NaN                        NaN   \n",
       "29825                        NaN                        NaN   \n",
       "\n",
       "       Amount paid in May, 2005  Amount paid in April, 2005  Class  \n",
       "6232                        NaN                         NaN    NaN  \n",
       "29824                       NaN                         NaN    NaN  \n",
       "29825                       NaN                         NaN    NaN  \n",
       "\n",
       "[3 rows x 25 columns]"
      ]
     },
     "execution_count": 9,
     "metadata": {},
     "output_type": "execute_result"
    }
   ],
   "source": [
    "row_target = pd.isnull(df['Class'])\n",
    "df_target = df[row_target]\n",
    "df_target.head()"
   ]
  },
  {
   "cell_type": "code",
   "execution_count": 10,
   "metadata": {},
   "outputs": [],
   "source": [
    "df_v1 = df[~row_target].reset_index(drop=True)"
   ]
  },
  {
   "cell_type": "code",
   "execution_count": 11,
   "metadata": {},
   "outputs": [],
   "source": [
    "row_gender = pd.isnull(df_v1['Gender'])\n",
    "df_gender = df_v1[row_gender]"
   ]
  },
  {
   "cell_type": "code",
   "execution_count": 12,
   "metadata": {},
   "outputs": [],
   "source": [
    "df_v2 = df_v1[~row_gender].reset_index(drop=True)"
   ]
  },
  {
   "cell_type": "code",
   "execution_count": 14,
   "metadata": {},
   "outputs": [],
   "source": [
    "row_cat = pd.isnull(df_v2['Marital status'])\n",
    "df_cat = df_v2[row_cat]\n",
    "df_v2 = df_v2[~row_cat].reset_index(drop=True)\n",
    "row_cat2 = pd.isnull(df_v2['Age'])\n",
    "df_cat2 = df_v2[row_cat2]"
   ]
  },
  {
   "cell_type": "code",
   "execution_count": 15,
   "metadata": {},
   "outputs": [],
   "source": [
    "datos_no_nulos = df_v2[~row_cat2].reset_index(drop=True)\n",
    "datos_nonulos = datos_no_nulos[['Amount of the given credit', 'Age']]\n",
    "agrupamiento_nonulos = datos_nonulos.groupby(pd.cut(datos_nonulos['Amount of the given credit'], np.arange(int(datos_nonulos['Amount of the given credit'].min())\\\n",
    "    ,int(datos_nonulos['Amount of the given credit'].max())+10000, int(datos_nonulos['Amount of the given credit'].min())))).median()"
   ]
  },
  {
   "cell_type": "code",
   "execution_count": 16,
   "metadata": {},
   "outputs": [],
   "source": [
    "df_cat2 = df_cat2.reset_index(drop=True)\n",
    "datos_imp = agrupamiento_nonulos.reset_index(drop=True)\n",
    "row = 0\n",
    "while row < df_cat2.shape[0]:\n",
    "    for i in range(datos_imp.shape[0]-1):\n",
    "        \n",
    "        if df_cat2.loc[row, 'Amount of the given credit'] > datos_imp.loc[i, 'Amount of the given credit'] \\\n",
    "            and df_cat2.loc[row, 'Amount of the given credit'] <= datos_imp.loc[i+1, 'Amount of the given credit']:\n",
    "            df_cat2.loc[row, 'Age'] = datos_imp.loc[i, 'Age']\n",
    "    \n",
    "    row = row+1"
   ]
  },
  {
   "cell_type": "code",
   "execution_count": 17,
   "metadata": {},
   "outputs": [],
   "source": [
    "data_final = pd.concat([df_cat2, datos_no_nulos], axis=0)"
   ]
  },
  {
   "cell_type": "markdown",
   "metadata": {},
   "source": [
    "##### Variables numéricas"
   ]
  },
  {
   "cell_type": "code",
   "execution_count": 18,
   "metadata": {},
   "outputs": [],
   "source": [
    "col1_filter = [col for col in data_final.columns if col.startswith('Amount paid')]\n",
    "col2_filter = [col for col in data_final.columns if col.startswith('Amount of bill')]\n",
    "col3_filter = [col for col in data_final.columns if col.startswith('the repayment')]"
   ]
  },
  {
   "cell_type": "code",
   "execution_count": 19,
   "metadata": {},
   "outputs": [],
   "source": [
    "row_data = pd.isnull(data_final['Amount of bill statement in May, 2005'])\n",
    "data_search = data_final[row_data]"
   ]
  },
  {
   "cell_type": "code",
   "execution_count": 20,
   "metadata": {},
   "outputs": [],
   "source": [
    "datos_no_nulos = data_final[~row_data].reset_index(drop=True)\n",
    "datos_nonulos = datos_no_nulos[['Amount of the given credit', 'Amount of bill statement in May, 2005']]\n",
    "agrupamiento_nonulos = datos_nonulos.groupby(pd.cut(datos_nonulos['Amount of the given credit'], np.arange(int(datos_nonulos['Amount of the given credit'].min())\\\n",
    "    ,int(datos_nonulos['Amount of the given credit'].max())+10000, int(datos_nonulos['Amount of the given credit'].min())))).median()"
   ]
  },
  {
   "cell_type": "code",
   "execution_count": 21,
   "metadata": {},
   "outputs": [],
   "source": [
    "df_cat2 = data_search.reset_index(drop=True)\n",
    "datos_imp = agrupamiento_nonulos.reset_index(drop=True)\n",
    "row = 0\n",
    "while row < df_cat2.shape[0]:\n",
    "    for i in range(datos_imp.shape[0]-1):\n",
    "        \n",
    "        if df_cat2.loc[row, 'Amount of the given credit'] > datos_imp.loc[i, 'Amount of the given credit'] \\\n",
    "            and df_cat2.loc[row, 'Amount of the given credit'] <= datos_imp.loc[i+1, 'Amount of the given credit']:\n",
    "            df_cat2.loc[row, 'Amount of bill statement in May, 2005'] = datos_imp.loc[i, 'Amount of bill statement in May, 2005']\n",
    "    \n",
    "    row = row+1"
   ]
  },
  {
   "cell_type": "code",
   "execution_count": 22,
   "metadata": {},
   "outputs": [
    {
     "name": "stdout",
     "output_type": "stream",
     "text": [
      "<class 'pandas.core.frame.DataFrame'>\n",
      "Int64Index: 29961 entries, 0 to 29991\n",
      "Data columns (total 25 columns):\n",
      " #   Column                                       Non-Null Count  Dtype  \n",
      "---  ------                                       --------------  -----  \n",
      " 0   ID                                           29961 non-null  int64  \n",
      " 1   Amount of the given credit                   29961 non-null  int64  \n",
      " 2   Gender                                       29961 non-null  float64\n",
      " 3   Education                                    29961 non-null  float64\n",
      " 4   Marital status                               29961 non-null  float64\n",
      " 5   Age                                          29961 non-null  float64\n",
      " 6   the repayment status in September            29961 non-null  float64\n",
      " 7   the repayment status in August               29961 non-null  float64\n",
      " 8   the repayment status in July                 29961 non-null  float64\n",
      " 9   the repayment status in June                 29961 non-null  float64\n",
      " 10  the repayment status in May                  29961 non-null  float64\n",
      " 11  the repayment status in April                29961 non-null  float64\n",
      " 12  Amount of bill statement in September, 2005  29961 non-null  float64\n",
      " 13  Amount of bill statement in August, 2005     29961 non-null  float64\n",
      " 14  Amount of bill statement in July, 2005       29961 non-null  float64\n",
      " 15  Amount of bill statement in June, 2005       29961 non-null  float64\n",
      " 16  Amount of bill statement in May, 2005        29961 non-null  float64\n",
      " 17  Amount of bill statement in April, 2005      29961 non-null  float64\n",
      " 18  Amount paid in September, 2005               29961 non-null  float64\n",
      " 19  Amount paid in August, 2005                  29961 non-null  float64\n",
      " 20  Amount paid in July, 2005                    29961 non-null  float64\n",
      " 21  Amount paid in June, 2005                    29961 non-null  float64\n",
      " 22  Amount paid in May, 2005                     29961 non-null  float64\n",
      " 23  Amount paid in April, 2005                   29961 non-null  float64\n",
      " 24  Class                                        29961 non-null  float64\n",
      "dtypes: float64(23), int64(2)\n",
      "memory usage: 5.9 MB\n"
     ]
    }
   ],
   "source": [
    "data_final.dropna(inplace = True)\n",
    "data_final.info()"
   ]
  },
  {
   "cell_type": "markdown",
   "metadata": {},
   "source": [
    "#### 1.2. PCA de las tres variables mencionadas (Paso 1)"
   ]
  },
  {
   "cell_type": "markdown",
   "metadata": {},
   "source": [
    "#### **Variable:** the repayment status"
   ]
  },
  {
   "cell_type": "code",
   "execution_count": 26,
   "metadata": {},
   "outputs": [
    {
     "data": {
      "image/png": "[encoded data removed]",
      "text/plain": [
       "<Figure size 1224x720 with 2 Axes>"
      ]
     },
     "metadata": {
      "needs_background": "light"
     },
     "output_type": "display_data"
    }
   ],
   "source": [
    "fig, ax = plt.subplots(figsize=(17,10))\n",
    "pay_status = data_final[col3_filter]\n",
    "cor_pay_status = pay_status.corr()\n",
    "corr_map = sns.heatmap(cor_pay_status, annot=True, cmap='BuGn', fmt='.1g', ax=ax)"
   ]
  },
  {
   "cell_type": "markdown",
   "metadata": {},
   "source": [
    "Se evidencia que existe una correlación positiva en todas las características `the paymente status in`. Esto es un indicio inicial de una posible reducción de componente, sin embargo, se analizará la covarianza y que tanto las componenete representan las varianzas de las misma."
   ]
  },
  {
   "cell_type": "code",
   "execution_count": 40,
   "metadata": {},
   "outputs": [
    {
     "data": {
      "text/html": [
       "<div>\n",
       "<style scoped>\n",
       "    .dataframe tbody tr th:only-of-type {\n",
       "        vertical-align: middle;\n",
       "    }\n",
       "\n",
       "    .dataframe tbody tr th {\n",
       "        vertical-align: top;\n",
       "    }\n",
       "\n",
       "    .dataframe thead th {\n",
       "        text-align: right;\n",
       "    }\n",
       "</style>\n",
       "<table border=\"1\" class=\"dataframe\">\n",
       "  <thead>\n",
       "    <tr style=\"text-align: right;\">\n",
       "      <th></th>\n",
       "      <th>the repayment status in September</th>\n",
       "      <th>the repayment status in August</th>\n",
       "      <th>the repayment status in July</th>\n",
       "      <th>the repayment status in June</th>\n",
       "      <th>the repayment status in May</th>\n",
       "      <th>the repayment status in April</th>\n",
       "    </tr>\n",
       "  </thead>\n",
       "  <tbody>\n",
       "    <tr>\n",
       "      <th>the repayment status in September</th>\n",
       "      <td>1.263257</td>\n",
       "      <td>0.904576</td>\n",
       "      <td>0.772539</td>\n",
       "      <td>0.708323</td>\n",
       "      <td>0.648793</td>\n",
       "      <td>0.613355</td>\n",
       "    </tr>\n",
       "    <tr>\n",
       "      <th>the repayment status in August</th>\n",
       "      <td>0.904576</td>\n",
       "      <td>1.433101</td>\n",
       "      <td>1.097937</td>\n",
       "      <td>0.926535</td>\n",
       "      <td>0.844471</td>\n",
       "      <td>0.791718</td>\n",
       "    </tr>\n",
       "    <tr>\n",
       "      <th>the repayment status in July</th>\n",
       "      <td>0.772539</td>\n",
       "      <td>1.097937</td>\n",
       "      <td>1.430360</td>\n",
       "      <td>1.086083</td>\n",
       "      <td>0.929592</td>\n",
       "      <td>0.869253</td>\n",
       "    </tr>\n",
       "    <tr>\n",
       "      <th>the repayment status in June</th>\n",
       "      <td>0.708323</td>\n",
       "      <td>0.926535</td>\n",
       "      <td>1.086083</td>\n",
       "      <td>1.365089</td>\n",
       "      <td>1.084350</td>\n",
       "      <td>0.961818</td>\n",
       "    </tr>\n",
       "    <tr>\n",
       "      <th>the repayment status in May</th>\n",
       "      <td>0.648793</td>\n",
       "      <td>0.844471</td>\n",
       "      <td>0.929592</td>\n",
       "      <td>1.084350</td>\n",
       "      <td>1.282095</td>\n",
       "      <td>1.062769</td>\n",
       "    </tr>\n",
       "    <tr>\n",
       "      <th>the repayment status in April</th>\n",
       "      <td>0.613355</td>\n",
       "      <td>0.791718</td>\n",
       "      <td>0.869253</td>\n",
       "      <td>0.961818</td>\n",
       "      <td>1.062769</td>\n",
       "      <td>1.320867</td>\n",
       "    </tr>\n",
       "  </tbody>\n",
       "</table>\n",
       "</div>"
      ],
      "text/plain": [
       "                                   the repayment status in September  \\\n",
       "the repayment status in September                           1.263257   \n",
       "the repayment status in August                              0.904576   \n",
       "the repayment status in July                                0.772539   \n",
       "the repayment status in June                                0.708323   \n",
       "the repayment status in May                                 0.648793   \n",
       "the repayment status in April                               0.613355   \n",
       "\n",
       "                                   the repayment status in August  \\\n",
       "the repayment status in September                        0.904576   \n",
       "the repayment status in August                           1.433101   \n",
       "the repayment status in July                             1.097937   \n",
       "the repayment status in June                             0.926535   \n",
       "the repayment status in May                              0.844471   \n",
       "the repayment status in April                            0.791718   \n",
       "\n",
       "                                   the repayment status in July  \\\n",
       "the repayment status in September                      0.772539   \n",
       "the repayment status in August                         1.097937   \n",
       "the repayment status in July                           1.430360   \n",
       "the repayment status in June                           1.086083   \n",
       "the repayment status in May                            0.929592   \n",
       "the repayment status in April                          0.869253   \n",
       "\n",
       "                                   the repayment status in June  \\\n",
       "the repayment status in September                      0.708323   \n",
       "the repayment status in August                         0.926535   \n",
       "the repayment status in July                           1.086083   \n",
       "the repayment status in June                           1.365089   \n",
       "the repayment status in May                            1.084350   \n",
       "the repayment status in April                          0.961818   \n",
       "\n",
       "                                   the repayment status in May  \\\n",
       "the repayment status in September                     0.648793   \n",
       "the repayment status in August                        0.844471   \n",
       "the repayment status in July                          0.929592   \n",
       "the repayment status in June                          1.084350   \n",
       "the repayment status in May                           1.282095   \n",
       "the repayment status in April                         1.062769   \n",
       "\n",
       "                                   the repayment status in April  \n",
       "the repayment status in September                       0.613355  \n",
       "the repayment status in August                          0.791718  \n",
       "the repayment status in July                            0.869253  \n",
       "the repayment status in June                            0.961818  \n",
       "the repayment status in May                             1.062769  \n",
       "the repayment status in April                           1.320867  "
      ]
     },
     "execution_count": 40,
     "metadata": {},
     "output_type": "execute_result"
    }
   ],
   "source": [
    "var_pay = np.cov([data_final['the repayment status in September'], data_final['the repayment status in August'], data_final['the repayment status in July'], data_final['the repayment status in June'],\\\n",
    "                data_final['the repayment status in May'], data_final['the repayment status in April']])\n",
    "var_frame = pd.DataFrame(var_pay, columns=col3_filter, index=col3_filter)\n",
    "var_frame"
   ]
  },
  {
   "cell_type": "markdown",
   "metadata": {},
   "source": [
    "Conteo de la varianza en cada variable"
   ]
  },
  {
   "cell_type": "code",
   "execution_count": 37,
   "metadata": {},
   "outputs": [],
   "source": [
    "var_col1 = data_final[col3_filter]\n",
    "total= var_col1.var().sum()\n",
    "var1, var2, var3, var4, var5, var6 = var_pay[0][0], var_pay[1][1], var_pay[2][2], var_pay[3][3], var_pay[4][4], var_pay[5][5]"
   ]
  },
  {
   "cell_type": "code",
   "execution_count": 72,
   "metadata": {},
   "outputs": [
    {
     "name": "stdout",
     "output_type": "stream",
     "text": [
      "Varianza total \t\t\t: 8.09\n",
      "Varienza prop. the repayment status in September \t: 16.32 %\n",
      "Varienza prop. the repayment status in August \t: 15.84 %\n",
      "Varienza prop. the repayment status in July \t: 16.86 %\n",
      "Varienza prop. the repayment status in June \t: 17.67 %\n",
      "Varienza prop. the repayment status in May \t: 17.7 %\n",
      "Varienza prop. the repayment status in April \t: 15.61 %\n"
     ]
    }
   ],
   "source": [
    "print('Varianza total \\t\\t\\t:', total.round(2) )\n",
    "print(f'Varienza prop. {col3_filter[0]} \\t:', ((var1/total)*100).round(2),'%' )\n",
    "print(f'Varienza prop. {col3_filter[1]} \\t:', ((var2/total)*100).round(2),'%' )\n",
    "print(f'Varienza prop. {col3_filter[2]} \\t:', ((var3/total)*100).round(2),'%' )\n",
    "print(f'Varienza prop. {col3_filter[3]} \\t:', ((var4/total)*100).round(2),'%' )\n",
    "print(f'Varienza prop. {col3_filter[4]} \\t:', ((var5/total)*100).round(2),'%' )\n",
    "print(f'Varienza prop. {col3_filter[5]} \\t:', ((var6/total)*100).round(2),'%' )"
   ]
  },
  {
   "cell_type": "markdown",
   "metadata": {},
   "source": [
    "Se videncia que la varianza se reparte en proporciones de similares magnitudes para cada una de las características analizadas. Realizaremos la reducción de dimensionalidad para `1` y `2` componenente, ya que es posible que con 1 solo componente se vea reflejada toda la varianza de las seis características."
   ]
  },
  {
   "cell_type": "code",
   "execution_count": 45,
   "metadata": {},
   "outputs": [
    {
     "data": {
      "text/html": [
       "<div>\n",
       "<style scoped>\n",
       "    .dataframe tbody tr th:only-of-type {\n",
       "        vertical-align: middle;\n",
       "    }\n",
       "\n",
       "    .dataframe tbody tr th {\n",
       "        vertical-align: top;\n",
       "    }\n",
       "\n",
       "    .dataframe thead th {\n",
       "        text-align: right;\n",
       "    }\n",
       "</style>\n",
       "<table border=\"1\" class=\"dataframe\">\n",
       "  <thead>\n",
       "    <tr style=\"text-align: right;\">\n",
       "      <th></th>\n",
       "      <th>PC1</th>\n",
       "      <th>PC2</th>\n",
       "    </tr>\n",
       "  </thead>\n",
       "  <tbody>\n",
       "    <tr>\n",
       "      <th>Desviación estandar</th>\n",
       "      <td>2.412</td>\n",
       "      <td>0.959</td>\n",
       "    </tr>\n",
       "    <tr>\n",
       "      <th>Proporción de la varianza</th>\n",
       "      <td>0.719</td>\n",
       "      <td>0.114</td>\n",
       "    </tr>\n",
       "    <tr>\n",
       "      <th>Proporción acumulada</th>\n",
       "      <td>0.719</td>\n",
       "      <td>0.832</td>\n",
       "    </tr>\n",
       "  </tbody>\n",
       "</table>\n",
       "</div>"
      ],
      "text/plain": [
       "                             PC1    PC2\n",
       "Desviación estandar        2.412  0.959\n",
       "Proporción de la varianza  0.719  0.114\n",
       "Proporción acumulada       0.719  0.832"
      ]
     },
     "execution_count": 45,
     "metadata": {},
     "output_type": "execute_result"
    }
   ],
   "source": [
    "pcs = PCA(n_components=2)\n",
    "\n",
    "pcs.fit(var_col1)\n",
    "\n",
    "pcsSummary = pd.DataFrame({'Desviación estandar': np.sqrt(pcs.explained_variance_),'Proporción de la varianza': pcs.explained_variance_ratio_,\\\n",
    "                          'Proporción acumulada': np.cumsum(pcs.explained_variance_ratio_)})\n",
    "pcsSummary = pcsSummary.transpose()\n",
    "pcsSummary.columns = ['PC1', 'PC2']\n",
    "pcsSummary = pcsSummary.round(3)\n",
    "pcsSummary"
   ]
  },
  {
   "cell_type": "markdown",
   "metadata": {},
   "source": [
    "`PC1`cuenta solo el `71.9%` del total de variabilidad de las seis características. `PC2` cuenta `11.4%`. Intentaremos con tres componentes"
   ]
  },
  {
   "cell_type": "code",
   "execution_count": 52,
   "metadata": {},
   "outputs": [
    {
     "data": {
      "text/html": [
       "<div>\n",
       "<style scoped>\n",
       "    .dataframe tbody tr th:only-of-type {\n",
       "        vertical-align: middle;\n",
       "    }\n",
       "\n",
       "    .dataframe tbody tr th {\n",
       "        vertical-align: top;\n",
       "    }\n",
       "\n",
       "    .dataframe thead th {\n",
       "        text-align: right;\n",
       "    }\n",
       "</style>\n",
       "<table border=\"1\" class=\"dataframe\">\n",
       "  <thead>\n",
       "    <tr style=\"text-align: right;\">\n",
       "      <th></th>\n",
       "      <th>PC1</th>\n",
       "      <th>PC2</th>\n",
       "      <th>PC3</th>\n",
       "      <th>PC4</th>\n",
       "    </tr>\n",
       "  </thead>\n",
       "  <tbody>\n",
       "    <tr>\n",
       "      <th>Desviación estandar</th>\n",
       "      <td>2.073</td>\n",
       "      <td>0.837</td>\n",
       "      <td>0.637</td>\n",
       "      <td>0.515</td>\n",
       "    </tr>\n",
       "    <tr>\n",
       "      <th>Proporción de la varianza</th>\n",
       "      <td>0.717</td>\n",
       "      <td>0.117</td>\n",
       "      <td>0.068</td>\n",
       "      <td>0.044</td>\n",
       "    </tr>\n",
       "    <tr>\n",
       "      <th>Proporción acumulada</th>\n",
       "      <td>0.717</td>\n",
       "      <td>0.833</td>\n",
       "      <td>0.901</td>\n",
       "      <td>0.945</td>\n",
       "    </tr>\n",
       "  </tbody>\n",
       "</table>\n",
       "</div>"
      ],
      "text/plain": [
       "                             PC1    PC2    PC3    PC4\n",
       "Desviación estandar        2.073  0.837  0.637  0.515\n",
       "Proporción de la varianza  0.717  0.117  0.068  0.044\n",
       "Proporción acumulada       0.717  0.833  0.901  0.945"
      ]
     },
     "execution_count": 52,
     "metadata": {},
     "output_type": "execute_result"
    }
   ],
   "source": [
    "pcs = PCA(n_components=4)\n",
    "sc = StandardScaler()\n",
    "scaled_var = sc.fit_transform(var_col1)\n",
    "pcs.fit(scaled_var)\n",
    "\n",
    "pcsSummary = pd.DataFrame({'Desviación estandar': np.sqrt(pcs.explained_variance_),'Proporción de la varianza': pcs.explained_variance_ratio_,\\\n",
    "                          'Proporción acumulada': np.cumsum(pcs.explained_variance_ratio_)})\n",
    "pcsSummary = pcsSummary.transpose()\n",
    "pcsSummary.columns = ['PC1', 'PC2', 'PC3', 'PC4']\n",
    "pcsSummary = pcsSummary.round(3)\n",
    "pcsSummary"
   ]
  },
  {
   "cell_type": "markdown",
   "metadata": {},
   "source": [
    "Para este caso, ya se puede observar que con tres componentes podemos explicar el 90% de la variabilidad de las seis características, siendo esta una buena alternativas para la reducción de dimensiones."
   ]
  },
  {
   "cell_type": "code",
   "execution_count": 56,
   "metadata": {},
   "outputs": [],
   "source": [
    "def display_scree_plot(pca, name='Scree plot'):\n",
    "    '''Display a scree plot for the pca'''\n",
    "\n",
    "    scree = pca.explained_variance_ratio_*100\n",
    "    plt.bar(np.arange(len(scree))+1, scree)\n",
    "    plt.plot(np.arange(len(scree))+1, scree.cumsum(),c=\"red\",marker='o')\n",
    "    plt.xlabel(\"Number of principal components\")\n",
    "    plt.ylabel(\"Percentage explained variance\")\n",
    "    plt.title(name)\n",
    "    plt.show(block=False)"
   ]
  },
  {
   "cell_type": "code",
   "execution_count": 57,
   "metadata": {},
   "outputs": [
    {
     "data": {
      "image/png": "[encoded data removed]",
      "text/plain": [
       "<Figure size 432x288 with 1 Axes>"
      ]
     },
     "metadata": {
      "needs_background": "light"
     },
     "output_type": "display_data"
    }
   ],
   "source": [
    "display_scree_plot(pcs, name='The repayment status parameter')"
   ]
  },
  {
   "cell_type": "markdown",
   "metadata": {},
   "source": [
    "#### **Variable:** Amount of bill statement in"
   ]
  },
  {
   "cell_type": "code",
   "execution_count": 60,
   "metadata": {},
   "outputs": [
    {
     "data": {
      "image/png": "[encoded data removed]",
      "text/plain": [
       "<Figure size 1224x720 with 2 Axes>"
      ]
     },
     "metadata": {
      "needs_background": "light"
     },
     "output_type": "display_data"
    }
   ],
   "source": [
    "fig, ax = plt.subplots(figsize=(17,10))\n",
    "amount_bill = data_final[col2_filter]\n",
    "amount_bill_status = amount_bill.corr()\n",
    "corr_map_2 = sns.heatmap(amount_bill_status, annot=True, cmap='BuGn', fmt='.1g', ax=ax)"
   ]
  },
  {
   "cell_type": "markdown",
   "metadata": {},
   "source": [
    "Se evidencia en la mapa de calor de correlación, que estas variables presetan una mayor correlación entre ella. Analizaremos la reducción de dimensionalidad"
   ]
  },
  {
   "cell_type": "code",
   "execution_count": 69,
   "metadata": {},
   "outputs": [],
   "source": [
    "sc2 = StandardScaler()\n",
    "var_col2 = data_final[col2_filter]\n",
    "scaled_var2 = sc2.fit_transform(var_col2)\n",
    "scaled_var2_frame = pd.DataFrame(scaled_var2, columns=col2_filter)"
   ]
  },
  {
   "cell_type": "code",
   "execution_count": 71,
   "metadata": {},
   "outputs": [
    {
     "data": {
      "text/html": [
       "<div>\n",
       "<style scoped>\n",
       "    .dataframe tbody tr th:only-of-type {\n",
       "        vertical-align: middle;\n",
       "    }\n",
       "\n",
       "    .dataframe tbody tr th {\n",
       "        vertical-align: top;\n",
       "    }\n",
       "\n",
       "    .dataframe thead th {\n",
       "        text-align: right;\n",
       "    }\n",
       "</style>\n",
       "<table border=\"1\" class=\"dataframe\">\n",
       "  <thead>\n",
       "    <tr style=\"text-align: right;\">\n",
       "      <th></th>\n",
       "      <th>Amount of bill statement in September, 2005</th>\n",
       "      <th>Amount of bill statement in August, 2005</th>\n",
       "      <th>Amount of bill statement in July, 2005</th>\n",
       "      <th>Amount of bill statement in June, 2005</th>\n",
       "      <th>Amount of bill statement in May, 2005</th>\n",
       "      <th>Amount of bill statement in April, 2005</th>\n",
       "    </tr>\n",
       "  </thead>\n",
       "  <tbody>\n",
       "    <tr>\n",
       "      <th>Amount of bill statement in September, 2005</th>\n",
       "      <td>1.000033</td>\n",
       "      <td>0.951517</td>\n",
       "      <td>0.892294</td>\n",
       "      <td>0.860285</td>\n",
       "      <td>0.829798</td>\n",
       "      <td>0.802666</td>\n",
       "    </tr>\n",
       "    <tr>\n",
       "      <th>Amount of bill statement in August, 2005</th>\n",
       "      <td>0.951517</td>\n",
       "      <td>1.000033</td>\n",
       "      <td>0.928341</td>\n",
       "      <td>0.892490</td>\n",
       "      <td>0.859791</td>\n",
       "      <td>0.831602</td>\n",
       "    </tr>\n",
       "    <tr>\n",
       "      <th>Amount of bill statement in July, 2005</th>\n",
       "      <td>0.892294</td>\n",
       "      <td>0.928341</td>\n",
       "      <td>1.000033</td>\n",
       "      <td>0.923987</td>\n",
       "      <td>0.883928</td>\n",
       "      <td>0.853334</td>\n",
       "    </tr>\n",
       "    <tr>\n",
       "      <th>Amount of bill statement in June, 2005</th>\n",
       "      <td>0.860285</td>\n",
       "      <td>0.892490</td>\n",
       "      <td>0.923987</td>\n",
       "      <td>1.000033</td>\n",
       "      <td>0.940168</td>\n",
       "      <td>0.900957</td>\n",
       "    </tr>\n",
       "    <tr>\n",
       "      <th>Amount of bill statement in May, 2005</th>\n",
       "      <td>0.829798</td>\n",
       "      <td>0.859791</td>\n",
       "      <td>0.883928</td>\n",
       "      <td>0.940168</td>\n",
       "      <td>1.000033</td>\n",
       "      <td>0.946215</td>\n",
       "    </tr>\n",
       "    <tr>\n",
       "      <th>Amount of bill statement in April, 2005</th>\n",
       "      <td>0.802666</td>\n",
       "      <td>0.831602</td>\n",
       "      <td>0.853334</td>\n",
       "      <td>0.900957</td>\n",
       "      <td>0.946215</td>\n",
       "      <td>1.000033</td>\n",
       "    </tr>\n",
       "  </tbody>\n",
       "</table>\n",
       "</div>"
      ],
      "text/plain": [
       "                                             Amount of bill statement in September, 2005  \\\n",
       "Amount of bill statement in September, 2005                                     1.000033   \n",
       "Amount of bill statement in August, 2005                                        0.951517   \n",
       "Amount of bill statement in July, 2005                                          0.892294   \n",
       "Amount of bill statement in June, 2005                                          0.860285   \n",
       "Amount of bill statement in May, 2005                                           0.829798   \n",
       "Amount of bill statement in April, 2005                                         0.802666   \n",
       "\n",
       "                                             Amount of bill statement in August, 2005  \\\n",
       "Amount of bill statement in September, 2005                                  0.951517   \n",
       "Amount of bill statement in August, 2005                                     1.000033   \n",
       "Amount of bill statement in July, 2005                                       0.928341   \n",
       "Amount of bill statement in June, 2005                                       0.892490   \n",
       "Amount of bill statement in May, 2005                                        0.859791   \n",
       "Amount of bill statement in April, 2005                                      0.831602   \n",
       "\n",
       "                                             Amount of bill statement in July, 2005  \\\n",
       "Amount of bill statement in September, 2005                                0.892294   \n",
       "Amount of bill statement in August, 2005                                   0.928341   \n",
       "Amount of bill statement in July, 2005                                     1.000033   \n",
       "Amount of bill statement in June, 2005                                     0.923987   \n",
       "Amount of bill statement in May, 2005                                      0.883928   \n",
       "Amount of bill statement in April, 2005                                    0.853334   \n",
       "\n",
       "                                             Amount of bill statement in June, 2005  \\\n",
       "Amount of bill statement in September, 2005                                0.860285   \n",
       "Amount of bill statement in August, 2005                                   0.892490   \n",
       "Amount of bill statement in July, 2005                                     0.923987   \n",
       "Amount of bill statement in June, 2005                                     1.000033   \n",
       "Amount of bill statement in May, 2005                                      0.940168   \n",
       "Amount of bill statement in April, 2005                                    0.900957   \n",
       "\n",
       "                                             Amount of bill statement in May, 2005  \\\n",
       "Amount of bill statement in September, 2005                               0.829798   \n",
       "Amount of bill statement in August, 2005                                  0.859791   \n",
       "Amount of bill statement in July, 2005                                    0.883928   \n",
       "Amount of bill statement in June, 2005                                    0.940168   \n",
       "Amount of bill statement in May, 2005                                     1.000033   \n",
       "Amount of bill statement in April, 2005                                   0.946215   \n",
       "\n",
       "                                             Amount of bill statement in April, 2005  \n",
       "Amount of bill statement in September, 2005                                 0.802666  \n",
       "Amount of bill statement in August, 2005                                    0.831602  \n",
       "Amount of bill statement in July, 2005                                      0.853334  \n",
       "Amount of bill statement in June, 2005                                      0.900957  \n",
       "Amount of bill statement in May, 2005                                       0.946215  \n",
       "Amount of bill statement in April, 2005                                     1.000033  "
      ]
     },
     "execution_count": 71,
     "metadata": {},
     "output_type": "execute_result"
    }
   ],
   "source": [
    "var_amount_bill = np.cov([scaled_var2_frame['Amount of bill statement in September, 2005'], scaled_var2_frame['Amount of bill statement in August, 2005'], \\\n",
    "                scaled_var2_frame['Amount of bill statement in July, 2005'], scaled_var2_frame['Amount of bill statement in June, 2005'],scaled_var2_frame['Amount of bill statement in May, 2005'], \\\n",
    "                scaled_var2_frame['Amount of bill statement in April, 2005']])\n",
    "var_frame2 = pd.DataFrame(var_amount_bill, columns=col2_filter, index=col2_filter)\n",
    "var_frame2"
   ]
  },
  {
   "cell_type": "code",
   "execution_count": 74,
   "metadata": {},
   "outputs": [],
   "source": [
    "var_col_2 = scaled_var2_frame\n",
    "total2= var_col_2.var().sum()\n",
    "var_1, var_2, var_3, var_4, var_5, var_6 = var_amount_bill[0][0], var_amount_bill[1][1], var_amount_bill[2][2], var_amount_bill[3][3], var_amount_bill[4][4], var_amount_bill[5][5]"
   ]
  },
  {
   "cell_type": "code",
   "execution_count": 75,
   "metadata": {},
   "outputs": [
    {
     "name": "stdout",
     "output_type": "stream",
     "text": [
      "Varianza total \t\t\t: 6.0\n",
      "Varienza prop. Amount of bill statement in September, 2005 \t: 16.67 %\n",
      "Varienza prop. Amount of bill statement in August, 2005 \t: 16.67 %\n",
      "Varienza prop. Amount of bill statement in July, 2005 \t: 16.67 %\n",
      "Varienza prop. Amount of bill statement in June, 2005 \t: 16.67 %\n",
      "Varienza prop. Amount of bill statement in May, 2005 \t: 16.67 %\n",
      "Varienza prop. Amount of bill statement in April, 2005 \t: 16.67 %\n"
     ]
    }
   ],
   "source": [
    "print('Varianza total \\t\\t\\t:', total2.round(2) )\n",
    "print(f'Varienza prop. {col2_filter[0]} \\t:', ((var_1/total2)*100).round(2),'%' )\n",
    "print(f'Varienza prop. {col2_filter[1]} \\t:', ((var_2/total2)*100).round(2),'%' )\n",
    "print(f'Varienza prop. {col2_filter[2]} \\t:', ((var_3/total2)*100).round(2),'%' )\n",
    "print(f'Varienza prop. {col2_filter[3]} \\t:', ((var_4/total2)*100).round(2),'%' )\n",
    "print(f'Varienza prop. {col2_filter[4]} \\t:', ((var_5/total2)*100).round(2),'%' )\n",
    "print(f'Varienza prop. {col2_filter[5]} \\t:', ((var_6/total2)*100).round(2),'%' )"
   ]
  },
  {
   "cell_type": "markdown",
   "metadata": {},
   "source": [
    "Debido a la correlación tan fuerte existen entre cada una de las variables, es evidente que la varianza se distribuye de igual manera para cada una de las características. Procederemos a analizar 4 componentes para reducción de dimesionalidad y observar el comportamiento"
   ]
  },
  {
   "cell_type": "code",
   "execution_count": 78,
   "metadata": {},
   "outputs": [
    {
     "data": {
      "text/html": [
       "<div>\n",
       "<style scoped>\n",
       "    .dataframe tbody tr th:only-of-type {\n",
       "        vertical-align: middle;\n",
       "    }\n",
       "\n",
       "    .dataframe tbody tr th {\n",
       "        vertical-align: top;\n",
       "    }\n",
       "\n",
       "    .dataframe thead th {\n",
       "        text-align: right;\n",
       "    }\n",
       "</style>\n",
       "<table border=\"1\" class=\"dataframe\">\n",
       "  <thead>\n",
       "    <tr style=\"text-align: right;\">\n",
       "      <th></th>\n",
       "      <th>PC1</th>\n",
       "      <th>PC2</th>\n",
       "      <th>PC3</th>\n",
       "      <th>PC4</th>\n",
       "    </tr>\n",
       "  </thead>\n",
       "  <tbody>\n",
       "    <tr>\n",
       "      <th>Desviación estandar</th>\n",
       "      <td>2.331</td>\n",
       "      <td>0.553</td>\n",
       "      <td>0.334</td>\n",
       "      <td>0.259</td>\n",
       "    </tr>\n",
       "    <tr>\n",
       "      <th>Proporción de la varianza</th>\n",
       "      <td>0.906</td>\n",
       "      <td>0.051</td>\n",
       "      <td>0.019</td>\n",
       "      <td>0.011</td>\n",
       "    </tr>\n",
       "    <tr>\n",
       "      <th>Proporción acumulada</th>\n",
       "      <td>0.906</td>\n",
       "      <td>0.957</td>\n",
       "      <td>0.975</td>\n",
       "      <td>0.986</td>\n",
       "    </tr>\n",
       "  </tbody>\n",
       "</table>\n",
       "</div>"
      ],
      "text/plain": [
       "                             PC1    PC2    PC3    PC4\n",
       "Desviación estandar        2.331  0.553  0.334  0.259\n",
       "Proporción de la varianza  0.906  0.051  0.019  0.011\n",
       "Proporción acumulada       0.906  0.957  0.975  0.986"
      ]
     },
     "execution_count": 78,
     "metadata": {},
     "output_type": "execute_result"
    }
   ],
   "source": [
    "pcs1 = PCA(n_components=4)\n",
    "pcs1.fit(scaled_var2)\n",
    "\n",
    "pcsSummary1 = pd.DataFrame({'Desviación estandar': np.sqrt(pcs1.explained_variance_),'Proporción de la varianza': pcs1.explained_variance_ratio_,\\\n",
    "                          'Proporción acumulada': np.cumsum(pcs1.explained_variance_ratio_)})\n",
    "pcsSummary1 = pcsSummary1.transpose()\n",
    "pcsSummary1.columns = ['PC1', 'PC2', 'PC3', 'PC4']\n",
    "pcsSummary1 = pcsSummary1.round(3)\n",
    "pcsSummary1"
   ]
  },
  {
   "cell_type": "markdown",
   "metadata": {},
   "source": [
    "Se evidencia que solo con `PC1` ya podemos explicar el `91%` de la variabilidad de los datos, con dos `PC2` se explica el `96%`. Todo esto se observa en el gráfico siguiente"
   ]
  },
  {
   "cell_type": "code",
   "execution_count": 77,
   "metadata": {},
   "outputs": [
    {
     "data": {
      "image/png": "[encoded data removed]",
      "text/plain": [
       "<Figure size 432x288 with 1 Axes>"
      ]
     },
     "metadata": {
      "needs_background": "light"
     },
     "output_type": "display_data"
    }
   ],
   "source": [
    "display_scree_plot(pcs1, name='Amount of bill statement in parameter')"
   ]
  },
  {
   "cell_type": "markdown",
   "metadata": {},
   "source": [
    "#### **Variable:** Amount paid in"
   ]
  },
  {
   "cell_type": "code",
   "execution_count": 83,
   "metadata": {},
   "outputs": [
    {
     "data": {
      "image/png": "[encoded data removed]",
      "text/plain": [
       "<Figure size 1224x720 with 2 Axes>"
      ]
     },
     "metadata": {
      "needs_background": "light"
     },
     "output_type": "display_data"
    }
   ],
   "source": [
    "fig, ax = plt.subplots(figsize=(17,10))\n",
    "amount_paid = data_final[col1_filter]\n",
    "amount_paid_status = amount_paid.corr()\n",
    "corr_map_3 = sns.heatmap(amount_paid_status, annot=True, cmap='BuGn', fmt='.1g', ax=ax)"
   ]
  },
  {
   "cell_type": "markdown",
   "metadata": {},
   "source": [
    "La correlación entre estas variables es mucho menor y es posible que cuando se haga un PCA no se logré representar toda la variabilidad en pocos componentes"
   ]
  },
  {
   "cell_type": "code",
   "execution_count": 89,
   "metadata": {},
   "outputs": [],
   "source": [
    "sc3 = StandardScaler()\n",
    "var_col3 = data_final[col1_filter]\n",
    "scaled_var3 = sc3.fit_transform(var_col3)\n",
    "scaled_var3_frame = pd.DataFrame(scaled_var3, columns=col1_filter)"
   ]
  },
  {
   "cell_type": "code",
   "execution_count": 90,
   "metadata": {},
   "outputs": [
    {
     "data": {
      "text/plain": [
       "Index(['Amount paid in September, 2005', 'Amount paid in August, 2005',\n",
       "       'Amount paid in July, 2005', 'Amount paid in June, 2005',\n",
       "       'Amount paid in May, 2005', 'Amount paid in April, 2005'],\n",
       "      dtype='object')"
      ]
     },
     "execution_count": 90,
     "metadata": {},
     "output_type": "execute_result"
    }
   ],
   "source": [
    "scaled_var3_frame.columns"
   ]
  },
  {
   "cell_type": "code",
   "execution_count": 91,
   "metadata": {},
   "outputs": [
    {
     "data": {
      "text/html": [
       "<div>\n",
       "<style scoped>\n",
       "    .dataframe tbody tr th:only-of-type {\n",
       "        vertical-align: middle;\n",
       "    }\n",
       "\n",
       "    .dataframe tbody tr th {\n",
       "        vertical-align: top;\n",
       "    }\n",
       "\n",
       "    .dataframe thead th {\n",
       "        text-align: right;\n",
       "    }\n",
       "</style>\n",
       "<table border=\"1\" class=\"dataframe\">\n",
       "  <thead>\n",
       "    <tr style=\"text-align: right;\">\n",
       "      <th></th>\n",
       "      <th>Amount paid in September, 2005</th>\n",
       "      <th>Amount paid in August, 2005</th>\n",
       "      <th>Amount paid in July, 2005</th>\n",
       "      <th>Amount paid in June, 2005</th>\n",
       "      <th>Amount paid in May, 2005</th>\n",
       "      <th>Amount paid in April, 2005</th>\n",
       "    </tr>\n",
       "  </thead>\n",
       "  <tbody>\n",
       "    <tr>\n",
       "      <th>Amount paid in September, 2005</th>\n",
       "      <td>1.000033</td>\n",
       "      <td>0.285592</td>\n",
       "      <td>0.252183</td>\n",
       "      <td>0.199571</td>\n",
       "      <td>0.148449</td>\n",
       "      <td>0.185725</td>\n",
       "    </tr>\n",
       "    <tr>\n",
       "      <th>Amount paid in August, 2005</th>\n",
       "      <td>0.285592</td>\n",
       "      <td>1.000033</td>\n",
       "      <td>0.244757</td>\n",
       "      <td>0.180081</td>\n",
       "      <td>0.180886</td>\n",
       "      <td>0.157596</td>\n",
       "    </tr>\n",
       "    <tr>\n",
       "      <th>Amount paid in July, 2005</th>\n",
       "      <td>0.252183</td>\n",
       "      <td>0.244757</td>\n",
       "      <td>1.000033</td>\n",
       "      <td>0.216327</td>\n",
       "      <td>0.159152</td>\n",
       "      <td>0.162707</td>\n",
       "    </tr>\n",
       "    <tr>\n",
       "      <th>Amount paid in June, 2005</th>\n",
       "      <td>0.199571</td>\n",
       "      <td>0.180081</td>\n",
       "      <td>0.216327</td>\n",
       "      <td>1.000033</td>\n",
       "      <td>0.151815</td>\n",
       "      <td>0.157793</td>\n",
       "    </tr>\n",
       "    <tr>\n",
       "      <th>Amount paid in May, 2005</th>\n",
       "      <td>0.148449</td>\n",
       "      <td>0.180886</td>\n",
       "      <td>0.159152</td>\n",
       "      <td>0.151815</td>\n",
       "      <td>1.000033</td>\n",
       "      <td>0.154858</td>\n",
       "    </tr>\n",
       "    <tr>\n",
       "      <th>Amount paid in April, 2005</th>\n",
       "      <td>0.185725</td>\n",
       "      <td>0.157596</td>\n",
       "      <td>0.162707</td>\n",
       "      <td>0.157793</td>\n",
       "      <td>0.154858</td>\n",
       "      <td>1.000033</td>\n",
       "    </tr>\n",
       "  </tbody>\n",
       "</table>\n",
       "</div>"
      ],
      "text/plain": [
       "                                Amount paid in September, 2005  \\\n",
       "Amount paid in September, 2005                        1.000033   \n",
       "Amount paid in August, 2005                           0.285592   \n",
       "Amount paid in July, 2005                             0.252183   \n",
       "Amount paid in June, 2005                             0.199571   \n",
       "Amount paid in May, 2005                              0.148449   \n",
       "Amount paid in April, 2005                            0.185725   \n",
       "\n",
       "                                Amount paid in August, 2005  \\\n",
       "Amount paid in September, 2005                     0.285592   \n",
       "Amount paid in August, 2005                        1.000033   \n",
       "Amount paid in July, 2005                          0.244757   \n",
       "Amount paid in June, 2005                          0.180081   \n",
       "Amount paid in May, 2005                           0.180886   \n",
       "Amount paid in April, 2005                         0.157596   \n",
       "\n",
       "                                Amount paid in July, 2005  \\\n",
       "Amount paid in September, 2005                   0.252183   \n",
       "Amount paid in August, 2005                      0.244757   \n",
       "Amount paid in July, 2005                        1.000033   \n",
       "Amount paid in June, 2005                        0.216327   \n",
       "Amount paid in May, 2005                         0.159152   \n",
       "Amount paid in April, 2005                       0.162707   \n",
       "\n",
       "                                Amount paid in June, 2005  \\\n",
       "Amount paid in September, 2005                   0.199571   \n",
       "Amount paid in August, 2005                      0.180081   \n",
       "Amount paid in July, 2005                        0.216327   \n",
       "Amount paid in June, 2005                        1.000033   \n",
       "Amount paid in May, 2005                         0.151815   \n",
       "Amount paid in April, 2005                       0.157793   \n",
       "\n",
       "                                Amount paid in May, 2005  \\\n",
       "Amount paid in September, 2005                  0.148449   \n",
       "Amount paid in August, 2005                     0.180886   \n",
       "Amount paid in July, 2005                       0.159152   \n",
       "Amount paid in June, 2005                       0.151815   \n",
       "Amount paid in May, 2005                        1.000033   \n",
       "Amount paid in April, 2005                      0.154858   \n",
       "\n",
       "                                Amount paid in April, 2005  \n",
       "Amount paid in September, 2005                    0.185725  \n",
       "Amount paid in August, 2005                       0.157596  \n",
       "Amount paid in July, 2005                         0.162707  \n",
       "Amount paid in June, 2005                         0.157793  \n",
       "Amount paid in May, 2005                          0.154858  \n",
       "Amount paid in April, 2005                        1.000033  "
      ]
     },
     "execution_count": 91,
     "metadata": {},
     "output_type": "execute_result"
    }
   ],
   "source": [
    "var_amount_paid = np.cov([scaled_var3_frame['Amount paid in September, 2005'], scaled_var3_frame['Amount paid in August, 2005'], \\\n",
    "                scaled_var3_frame['Amount paid in July, 2005'], scaled_var3_frame['Amount paid in June, 2005'],scaled_var3_frame['Amount paid in May, 2005'], \\\n",
    "                scaled_var3_frame['Amount paid in April, 2005']])\n",
    "var_frame3 = pd.DataFrame(var_amount_paid, columns=col1_filter, index=col1_filter)\n",
    "var_frame3"
   ]
  },
  {
   "cell_type": "markdown",
   "metadata": {},
   "source": [
    "La varianza explicada en la matriz de covarianza muestra que las características no logran explicarse entre ellas. Procederemos a realizar en análisis de reducción de dimensionalidad y probar cuantoas componentes son necesarias para explicar por lo menos el `90%` de la variabilidad de las características."
   ]
  },
  {
   "cell_type": "code",
   "execution_count": 92,
   "metadata": {},
   "outputs": [],
   "source": [
    "var_col_3 = scaled_var3_frame\n",
    "total3 = var_col_3.var().sum()\n",
    "var_1_, var_2_, var_3_, var_4_, var_5_, var_6_ = var_amount_paid[0][0], var_amount_paid[1][1], var_amount_paid[2][2], var_amount_paid[3][3], var_amount_paid[4][4], var_amount_paid[5][5]"
   ]
  },
  {
   "cell_type": "code",
   "execution_count": 93,
   "metadata": {},
   "outputs": [
    {
     "name": "stdout",
     "output_type": "stream",
     "text": [
      "Varianza total \t\t\t: 6.0\n",
      "Varienza prop. Amount paid in September, 2005 \t: 16.67 %\n",
      "Varienza prop. Amount paid in August, 2005 \t: 16.67 %\n",
      "Varienza prop. Amount paid in July, 2005 \t: 16.67 %\n",
      "Varienza prop. Amount paid in June, 2005 \t: 16.67 %\n",
      "Varienza prop. Amount paid in May, 2005 \t: 16.67 %\n",
      "Varienza prop. Amount paid in April, 2005 \t: 16.67 %\n"
     ]
    }
   ],
   "source": [
    "print('Varianza total \\t\\t\\t:', total3.round(2) )\n",
    "print(f'Varienza prop. {col1_filter[0]} \\t:', ((var_1_/total3)*100).round(2),'%' )\n",
    "print(f'Varienza prop. {col1_filter[1]} \\t:', ((var_2_/total3)*100).round(2),'%' )\n",
    "print(f'Varienza prop. {col1_filter[2]} \\t:', ((var_3_/total3)*100).round(2),'%' )\n",
    "print(f'Varienza prop. {col1_filter[3]} \\t:', ((var_4_/total3)*100).round(2),'%' )\n",
    "print(f'Varienza prop. {col1_filter[4]} \\t:', ((var_5_/total3)*100).round(2),'%' )\n",
    "print(f'Varienza prop. {col1_filter[5]} \\t:', ((var_6_/total3)*100).round(2),'%' )"
   ]
  },
  {
   "cell_type": "markdown",
   "metadata": {},
   "source": [
    "Se identifica varianza en proporciones iguales, analizaremos los cuatro componentes de la reducción de dimensionalidad"
   ]
  },
  {
   "cell_type": "code",
   "execution_count": 94,
   "metadata": {},
   "outputs": [
    {
     "data": {
      "text/html": [
       "<div>\n",
       "<style scoped>\n",
       "    .dataframe tbody tr th:only-of-type {\n",
       "        vertical-align: middle;\n",
       "    }\n",
       "\n",
       "    .dataframe tbody tr th {\n",
       "        vertical-align: top;\n",
       "    }\n",
       "\n",
       "    .dataframe thead th {\n",
       "        text-align: right;\n",
       "    }\n",
       "</style>\n",
       "<table border=\"1\" class=\"dataframe\">\n",
       "  <thead>\n",
       "    <tr style=\"text-align: right;\">\n",
       "      <th></th>\n",
       "      <th>PC1</th>\n",
       "      <th>PC2</th>\n",
       "      <th>PC3</th>\n",
       "      <th>PC4</th>\n",
       "    </tr>\n",
       "  </thead>\n",
       "  <tbody>\n",
       "    <tr>\n",
       "      <th>Desviación estandar</th>\n",
       "      <td>1.399</td>\n",
       "      <td>0.945</td>\n",
       "      <td>0.923</td>\n",
       "      <td>0.915</td>\n",
       "    </tr>\n",
       "    <tr>\n",
       "      <th>Proporción de la varianza</th>\n",
       "      <td>0.326</td>\n",
       "      <td>0.149</td>\n",
       "      <td>0.142</td>\n",
       "      <td>0.140</td>\n",
       "    </tr>\n",
       "    <tr>\n",
       "      <th>Proporción acumulada</th>\n",
       "      <td>0.326</td>\n",
       "      <td>0.475</td>\n",
       "      <td>0.617</td>\n",
       "      <td>0.757</td>\n",
       "    </tr>\n",
       "  </tbody>\n",
       "</table>\n",
       "</div>"
      ],
      "text/plain": [
       "                             PC1    PC2    PC3    PC4\n",
       "Desviación estandar        1.399  0.945  0.923  0.915\n",
       "Proporción de la varianza  0.326  0.149  0.142  0.140\n",
       "Proporción acumulada       0.326  0.475  0.617  0.757"
      ]
     },
     "execution_count": 94,
     "metadata": {},
     "output_type": "execute_result"
    }
   ],
   "source": [
    "pcs2 = PCA(n_components=4)\n",
    "pcs2.fit(scaled_var3)\n",
    "\n",
    "pcsSummary2 = pd.DataFrame({'Desviación estandar': np.sqrt(pcs2.explained_variance_),'Proporción de la varianza': pcs2.explained_variance_ratio_,\\\n",
    "                          'Proporción acumulada': np.cumsum(pcs2.explained_variance_ratio_)})\n",
    "pcsSummary2 = pcsSummary2.transpose()\n",
    "pcsSummary2.columns = ['PC1', 'PC2', 'PC3', 'PC4']\n",
    "pcsSummary2 = pcsSummary2.round(3)\n",
    "pcsSummary2"
   ]
  },
  {
   "cell_type": "markdown",
   "metadata": {},
   "source": [
    "Se observa que los cuatro primeros componentes no son capaces de representar el `90%` de variabilidad, solo un `75.7%`. Podremos la cantidad de columnas en la cantidad de componentes"
   ]
  },
  {
   "cell_type": "code",
   "execution_count": 96,
   "metadata": {},
   "outputs": [
    {
     "data": {
      "text/html": [
       "<div>\n",
       "<style scoped>\n",
       "    .dataframe tbody tr th:only-of-type {\n",
       "        vertical-align: middle;\n",
       "    }\n",
       "\n",
       "    .dataframe tbody tr th {\n",
       "        vertical-align: top;\n",
       "    }\n",
       "\n",
       "    .dataframe thead th {\n",
       "        text-align: right;\n",
       "    }\n",
       "</style>\n",
       "<table border=\"1\" class=\"dataframe\">\n",
       "  <thead>\n",
       "    <tr style=\"text-align: right;\">\n",
       "      <th></th>\n",
       "      <th>PC1</th>\n",
       "      <th>PC2</th>\n",
       "      <th>PC3</th>\n",
       "      <th>PC4</th>\n",
       "      <th>PC5</th>\n",
       "      <th>PC6</th>\n",
       "    </tr>\n",
       "  </thead>\n",
       "  <tbody>\n",
       "    <tr>\n",
       "      <th>Desviación estandar</th>\n",
       "      <td>1.399</td>\n",
       "      <td>0.945</td>\n",
       "      <td>0.923</td>\n",
       "      <td>0.915</td>\n",
       "      <td>0.868</td>\n",
       "      <td>0.841</td>\n",
       "    </tr>\n",
       "    <tr>\n",
       "      <th>Proporción de la varianza</th>\n",
       "      <td>0.326</td>\n",
       "      <td>0.149</td>\n",
       "      <td>0.142</td>\n",
       "      <td>0.140</td>\n",
       "      <td>0.126</td>\n",
       "      <td>0.118</td>\n",
       "    </tr>\n",
       "    <tr>\n",
       "      <th>Proporción acumulada</th>\n",
       "      <td>0.326</td>\n",
       "      <td>0.475</td>\n",
       "      <td>0.617</td>\n",
       "      <td>0.757</td>\n",
       "      <td>0.882</td>\n",
       "      <td>1.000</td>\n",
       "    </tr>\n",
       "  </tbody>\n",
       "</table>\n",
       "</div>"
      ],
      "text/plain": [
       "                             PC1    PC2    PC3    PC4    PC5    PC6\n",
       "Desviación estandar        1.399  0.945  0.923  0.915  0.868  0.841\n",
       "Proporción de la varianza  0.326  0.149  0.142  0.140  0.126  0.118\n",
       "Proporción acumulada       0.326  0.475  0.617  0.757  0.882  1.000"
      ]
     },
     "execution_count": 96,
     "metadata": {},
     "output_type": "execute_result"
    }
   ],
   "source": [
    "pcs2 = PCA(n_components=6)\n",
    "pcs2.fit(scaled_var3)\n",
    "\n",
    "pcsSummary2 = pd.DataFrame({'Desviación estandar': np.sqrt(pcs2.explained_variance_),'Proporción de la varianza': pcs2.explained_variance_ratio_,\\\n",
    "                          'Proporción acumulada': np.cumsum(pcs2.explained_variance_ratio_)})\n",
    "pcsSummary2 = pcsSummary2.transpose()\n",
    "pcsSummary2.columns = ['PC1', 'PC2', 'PC3', 'PC4', 'PC5', 'PC6']\n",
    "pcsSummary2 = pcsSummary2.round(3)\n",
    "pcsSummary2"
   ]
  },
  {
   "cell_type": "code",
   "execution_count": 97,
   "metadata": {},
   "outputs": [
    {
     "data": {
      "image/png": "[encoded data removed]",
      "text/plain": [
       "<Figure size 432x288 with 1 Axes>"
      ]
     },
     "metadata": {
      "needs_background": "light"
     },
     "output_type": "display_data"
    }
   ],
   "source": [
    "display_scree_plot(pcs2, name='Amount paid in parameter')"
   ]
  },
  {
   "cell_type": "markdown",
   "metadata": {},
   "source": [
    "Con cinco componentes solo es posible explicar el `88%` de la varianza. Esto se debe a la poca correlación que existe entre las variables"
   ]
  },
  {
   "cell_type": "markdown",
   "metadata": {},
   "source": [
    "#### **Variable:** Todo el conjunto de variables"
   ]
  },
  {
   "cell_type": "code",
   "execution_count": 101,
   "metadata": {},
   "outputs": [
    {
     "data": {
      "image/png": "[encoded data removed]",
      "text/plain": [
       "<Figure size 1224x720 with 2 Axes>"
      ]
     },
     "metadata": {
      "needs_background": "light"
     },
     "output_type": "display_data"
    }
   ],
   "source": [
    "fig, ax = plt.subplots(figsize=(17,10))\n",
    "final_all = data_final[col1_filter+col2_filter+col3_filter]\n",
    "final_all_status = final_all.corr()\n",
    "corr_map_4 = sns.heatmap(final_all_status, annot=True, cmap='BuGn', fmt='.1g', ax=ax)"
   ]
  },
  {
   "cell_type": "markdown",
   "metadata": {},
   "source": [
    "Los colores más oscuros muestran la fuerte correlación entre varibles. Como lo observamos en los ejercicios anteriores, acá se envidencia el mismo comportamiento. Solo se tratará de observar si una reducción de características permite explicar las 18 variables aća representadas."
   ]
  },
  {
   "cell_type": "code",
   "execution_count": 102,
   "metadata": {},
   "outputs": [],
   "source": [
    "sc3 = StandardScaler()\n",
    "var_col4 = data_final[col1_filter+col2_filter+col3_filter]\n",
    "scaled_var4 = sc3.fit_transform(var_col4)\n",
    "scaled_var4_frame = pd.DataFrame(scaled_var4, columns=col1_filter+col2_filter+col3_filter)"
   ]
  },
  {
   "cell_type": "code",
   "execution_count": 104,
   "metadata": {},
   "outputs": [],
   "source": [
    "col_total = col1_filter + col2_filter + col3_filter\n",
    "list_col = []\n",
    "for col in col_total:\n",
    "    var = scaled_var4_frame[col]\n",
    "    list_col.append(var)\n",
    "    \n",
    "# COVARIANZA\n",
    "# =================================\n",
    "var_total = np.cov(list_col)\n",
    "var_col_4 = scaled_var4_frame\n",
    "total4 = var_col_4.var().sum()\n",
    "\n",
    "list_var = []\n",
    "for row in range(len(col_total)):\n",
    "    var = var_total[row][row]\n",
    "    list_var.append(var)"
   ]
  },
  {
   "cell_type": "code",
   "execution_count": 105,
   "metadata": {},
   "outputs": [
    {
     "name": "stdout",
     "output_type": "stream",
     "text": [
      "Varianza total \t\t\t: 18.0\n",
      "Varienza prop. Amount paid in September, 2005 \t: 16.67 %\n",
      "Varienza prop. Amount paid in August, 2005 \t: 16.67 %\n",
      "Varienza prop. Amount paid in July, 2005 \t: 16.67 %\n",
      "Varienza prop. Amount paid in June, 2005 \t: 16.67 %\n",
      "Varienza prop. Amount paid in May, 2005 \t: 16.67 %\n",
      "Varienza prop. Amount paid in April, 2005 \t: 16.67 %\n",
      "Varienza prop. Amount of bill statement in September, 2005 \t: 16.67 %\n",
      "Varienza prop. Amount of bill statement in August, 2005 \t: 16.67 %\n",
      "Varienza prop. Amount of bill statement in July, 2005 \t: 16.67 %\n",
      "Varienza prop. Amount of bill statement in June, 2005 \t: 16.67 %\n",
      "Varienza prop. Amount of bill statement in May, 2005 \t: 16.67 %\n",
      "Varienza prop. Amount of bill statement in April, 2005 \t: 16.67 %\n",
      "Varienza prop. the repayment status in September \t: 16.67 %\n",
      "Varienza prop. the repayment status in August \t: 16.67 %\n",
      "Varienza prop. the repayment status in July \t: 16.67 %\n",
      "Varienza prop. the repayment status in June \t: 16.67 %\n",
      "Varienza prop. the repayment status in May \t: 16.67 %\n",
      "Varienza prop. the repayment status in April \t: 16.67 %\n"
     ]
    }
   ],
   "source": [
    "print('Varianza total \\t\\t\\t:', total4.round(2) )\n",
    "\n",
    "for i in range(len(col_total)):\n",
    "    print(f'Varienza prop. {col_total[i]} \\t:', ((list_var[i]/total3)*100).round(2),'%' )"
   ]
  },
  {
   "cell_type": "markdown",
   "metadata": {},
   "source": [
    "Las proporciones son iguales."
   ]
  },
  {
   "cell_type": "code",
   "execution_count": 108,
   "metadata": {},
   "outputs": [
    {
     "data": {
      "text/html": [
       "<div>\n",
       "<style scoped>\n",
       "    .dataframe tbody tr th:only-of-type {\n",
       "        vertical-align: middle;\n",
       "    }\n",
       "\n",
       "    .dataframe tbody tr th {\n",
       "        vertical-align: top;\n",
       "    }\n",
       "\n",
       "    .dataframe thead th {\n",
       "        text-align: right;\n",
       "    }\n",
       "</style>\n",
       "<table border=\"1\" class=\"dataframe\">\n",
       "  <thead>\n",
       "    <tr style=\"text-align: right;\">\n",
       "      <th></th>\n",
       "      <th>PC1</th>\n",
       "      <th>PC2</th>\n",
       "      <th>PC3</th>\n",
       "      <th>PC4</th>\n",
       "      <th>PC5</th>\n",
       "      <th>PC6</th>\n",
       "      <th>PC7</th>\n",
       "      <th>PC8</th>\n",
       "      <th>PC9</th>\n",
       "    </tr>\n",
       "  </thead>\n",
       "  <tbody>\n",
       "    <tr>\n",
       "      <th>Desviación estandar</th>\n",
       "      <td>2.552</td>\n",
       "      <td>1.926</td>\n",
       "      <td>1.227</td>\n",
       "      <td>0.957</td>\n",
       "      <td>0.942</td>\n",
       "      <td>0.934</td>\n",
       "      <td>0.885</td>\n",
       "      <td>0.856</td>\n",
       "      <td>0.827</td>\n",
       "    </tr>\n",
       "    <tr>\n",
       "      <th>Proporción de la varianza</th>\n",
       "      <td>0.362</td>\n",
       "      <td>0.206</td>\n",
       "      <td>0.084</td>\n",
       "      <td>0.051</td>\n",
       "      <td>0.049</td>\n",
       "      <td>0.048</td>\n",
       "      <td>0.043</td>\n",
       "      <td>0.041</td>\n",
       "      <td>0.038</td>\n",
       "    </tr>\n",
       "    <tr>\n",
       "      <th>Proporción acumulada</th>\n",
       "      <td>0.362</td>\n",
       "      <td>0.568</td>\n",
       "      <td>0.652</td>\n",
       "      <td>0.702</td>\n",
       "      <td>0.752</td>\n",
       "      <td>0.800</td>\n",
       "      <td>0.844</td>\n",
       "      <td>0.884</td>\n",
       "      <td>0.922</td>\n",
       "    </tr>\n",
       "  </tbody>\n",
       "</table>\n",
       "</div>"
      ],
      "text/plain": [
       "                             PC1    PC2    PC3    PC4    PC5    PC6    PC7  \\\n",
       "Desviación estandar        2.552  1.926  1.227  0.957  0.942  0.934  0.885   \n",
       "Proporción de la varianza  0.362  0.206  0.084  0.051  0.049  0.048  0.043   \n",
       "Proporción acumulada       0.362  0.568  0.652  0.702  0.752  0.800  0.844   \n",
       "\n",
       "                             PC8    PC9  \n",
       "Desviación estandar        0.856  0.827  \n",
       "Proporción de la varianza  0.041  0.038  \n",
       "Proporción acumulada       0.884  0.922  "
      ]
     },
     "execution_count": 108,
     "metadata": {},
     "output_type": "execute_result"
    }
   ],
   "source": [
    "pcs3 = PCA(n_components=9)\n",
    "pcs3.fit(scaled_var4)\n",
    "\n",
    "pcsSummary3 = pd.DataFrame({'Desviación estandar': np.sqrt(pcs3.explained_variance_),'Proporción de la varianza': pcs3.explained_variance_ratio_,\\\n",
    "                          'Proporción acumulada': np.cumsum(pcs3.explained_variance_ratio_)})\n",
    "pcsSummary3 = pcsSummary3.transpose()\n",
    "pcsSummary3.columns = ['PC1', 'PC2', 'PC3', 'PC4', 'PC5','PC6','PC7','PC8', 'PC9']\n",
    "pcsSummary3 = pcsSummary3.round(3)\n",
    "pcsSummary3"
   ]
  },
  {
   "cell_type": "markdown",
   "metadata": {},
   "source": [
    "Observamos que para las 18 características, poder explicar por lo menos el `88%` de la variabilidad, necesitariamos aproximadamente 8 componentes. Para 9 componente tenemos una explicación del `92.2%`. Se redujo a la mitad la cantidad de características"
   ]
  },
  {
   "cell_type": "markdown",
   "metadata": {},
   "source": [
    "### **Paso 2: Interprete cada componente principal en términos de las variables originales**"
   ]
  },
  {
   "cell_type": "markdown",
   "metadata": {},
   "source": [
    "#### **Variable:** the repayment status"
   ]
  },
  {
   "cell_type": "markdown",
   "metadata": {},
   "source": [
    "Se buscará cual es la variable más importantes para cada uno de los casos considerados."
   ]
  },
  {
   "cell_type": "code",
   "execution_count": 58,
   "metadata": {},
   "outputs": [
    {
     "data": {
      "text/html": [
       "<div>\n",
       "<style scoped>\n",
       "    .dataframe tbody tr th:only-of-type {\n",
       "        vertical-align: middle;\n",
       "    }\n",
       "\n",
       "    .dataframe tbody tr th {\n",
       "        vertical-align: top;\n",
       "    }\n",
       "\n",
       "    .dataframe thead th {\n",
       "        text-align: right;\n",
       "    }\n",
       "</style>\n",
       "<table border=\"1\" class=\"dataframe\">\n",
       "  <thead>\n",
       "    <tr style=\"text-align: right;\">\n",
       "      <th></th>\n",
       "      <th>PC1</th>\n",
       "      <th>PC2</th>\n",
       "      <th>PC3</th>\n",
       "      <th>PC4</th>\n",
       "    </tr>\n",
       "  </thead>\n",
       "  <tbody>\n",
       "    <tr>\n",
       "      <th>the repayment status in September</th>\n",
       "      <td>0.351402</td>\n",
       "      <td>-0.658782</td>\n",
       "      <td>-0.593337</td>\n",
       "      <td>0.262386</td>\n",
       "    </tr>\n",
       "    <tr>\n",
       "      <th>the repayment status in August</th>\n",
       "      <td>0.407650</td>\n",
       "      <td>-0.401432</td>\n",
       "      <td>0.311808</td>\n",
       "      <td>-0.565676</td>\n",
       "    </tr>\n",
       "    <tr>\n",
       "      <th>the repayment status in July</th>\n",
       "      <td>0.423720</td>\n",
       "      <td>-0.102807</td>\n",
       "      <td>0.569792</td>\n",
       "      <td>0.084872</td>\n",
       "    </tr>\n",
       "    <tr>\n",
       "      <th>the repayment status in June</th>\n",
       "      <td>0.432448</td>\n",
       "      <td>0.220166</td>\n",
       "      <td>0.186149</td>\n",
       "      <td>0.595288</td>\n",
       "    </tr>\n",
       "    <tr>\n",
       "      <th>the repayment status in May</th>\n",
       "      <td>0.426487</td>\n",
       "      <td>0.390996</td>\n",
       "      <td>-0.194081</td>\n",
       "      <td>0.098631</td>\n",
       "    </tr>\n",
       "    <tr>\n",
       "      <th>the repayment status in April</th>\n",
       "      <td>0.402365</td>\n",
       "      <td>0.439247</td>\n",
       "      <td>-0.392103</td>\n",
       "      <td>-0.489761</td>\n",
       "    </tr>\n",
       "  </tbody>\n",
       "</table>\n",
       "</div>"
      ],
      "text/plain": [
       "                                        PC1       PC2       PC3       PC4\n",
       "the repayment status in September  0.351402 -0.658782 -0.593337  0.262386\n",
       "the repayment status in August     0.407650 -0.401432  0.311808 -0.565676\n",
       "the repayment status in July       0.423720 -0.102807  0.569792  0.084872\n",
       "the repayment status in June       0.432448  0.220166  0.186149  0.595288\n",
       "the repayment status in May        0.426487  0.390996 -0.194081  0.098631\n",
       "the repayment status in April      0.402365  0.439247 -0.392103 -0.489761"
      ]
     },
     "execution_count": 58,
     "metadata": {},
     "output_type": "execute_result"
    }
   ],
   "source": [
    "pcsComponents_df = pd.DataFrame(pcs.components_.transpose(), \n",
    "                                columns = pcsSummary.columns,\n",
    "                                index = data_final[col3_filter].columns\n",
    "                                )\n",
    "pcsComponents_df"
   ]
  },
  {
   "cell_type": "code",
   "execution_count": 118,
   "metadata": {},
   "outputs": [
    {
     "name": "stdout",
     "output_type": "stream",
     "text": [
      "La variables más importante para el conjunto THE REPAYMENT STATUS es: the repayment status in June\n",
      "El valor de a variables más importante es: 0.595\n"
     ]
    }
   ],
   "source": [
    "print('La variables más importante para el conjunto THE REPAYMENT STATUS es:', np.abs(pcsComponents_df['PC4']).idxmax())\n",
    "print('El valor de la variables más importante es:', round(np.abs(pcsComponents_df['PC4']).max(),3))"
   ]
  },
  {
   "cell_type": "markdown",
   "metadata": {},
   "source": [
    "Para este caso fueron necesarias 3 componenete para explicar al menos el 90% de la variabilidad de las características. La que tuvo mayor importancia fue `the repayment status in june` con un valor de 0.595 positivo."
   ]
  },
  {
   "cell_type": "markdown",
   "metadata": {},
   "source": [
    "#### **Variable:** Amount of bill statement in"
   ]
  },
  {
   "cell_type": "code",
   "execution_count": 79,
   "metadata": {},
   "outputs": [
    {
     "data": {
      "text/html": [
       "<div>\n",
       "<style scoped>\n",
       "    .dataframe tbody tr th:only-of-type {\n",
       "        vertical-align: middle;\n",
       "    }\n",
       "\n",
       "    .dataframe tbody tr th {\n",
       "        vertical-align: top;\n",
       "    }\n",
       "\n",
       "    .dataframe thead th {\n",
       "        text-align: right;\n",
       "    }\n",
       "</style>\n",
       "<table border=\"1\" class=\"dataframe\">\n",
       "  <thead>\n",
       "    <tr style=\"text-align: right;\">\n",
       "      <th></th>\n",
       "      <th>PC1</th>\n",
       "      <th>PC2</th>\n",
       "      <th>PC3</th>\n",
       "      <th>PC4</th>\n",
       "    </tr>\n",
       "  </thead>\n",
       "  <tbody>\n",
       "    <tr>\n",
       "      <th>Amount of bill statement in September, 2005</th>\n",
       "      <td>0.400877</td>\n",
       "      <td>0.536457</td>\n",
       "      <td>-0.457310</td>\n",
       "      <td>-0.224205</td>\n",
       "    </tr>\n",
       "    <tr>\n",
       "      <th>Amount of bill statement in August, 2005</th>\n",
       "      <td>0.410555</td>\n",
       "      <td>0.428852</td>\n",
       "      <td>-0.115991</td>\n",
       "      <td>0.090257</td>\n",
       "    </tr>\n",
       "    <tr>\n",
       "      <th>Amount of bill statement in July, 2005</th>\n",
       "      <td>0.412034</td>\n",
       "      <td>0.175534</td>\n",
       "      <td>0.622221</td>\n",
       "      <td>0.554556</td>\n",
       "    </tr>\n",
       "    <tr>\n",
       "      <th>Amount of bill statement in June, 2005</th>\n",
       "      <td>0.414762</td>\n",
       "      <td>-0.180810</td>\n",
       "      <td>0.439746</td>\n",
       "      <td>-0.591702</td>\n",
       "    </tr>\n",
       "    <tr>\n",
       "      <th>Amount of bill statement in May, 2005</th>\n",
       "      <td>0.410293</td>\n",
       "      <td>-0.430109</td>\n",
       "      <td>-0.080279</td>\n",
       "      <td>-0.275519</td>\n",
       "    </tr>\n",
       "    <tr>\n",
       "      <th>Amount of bill statement in April, 2005</th>\n",
       "      <td>0.400753</td>\n",
       "      <td>-0.528963</td>\n",
       "      <td>-0.436386</td>\n",
       "      <td>0.456105</td>\n",
       "    </tr>\n",
       "  </tbody>\n",
       "</table>\n",
       "</div>"
      ],
      "text/plain": [
       "                                                  PC1       PC2       PC3  \\\n",
       "Amount of bill statement in September, 2005  0.400877  0.536457 -0.457310   \n",
       "Amount of bill statement in August, 2005     0.410555  0.428852 -0.115991   \n",
       "Amount of bill statement in July, 2005       0.412034  0.175534  0.622221   \n",
       "Amount of bill statement in June, 2005       0.414762 -0.180810  0.439746   \n",
       "Amount of bill statement in May, 2005        0.410293 -0.430109 -0.080279   \n",
       "Amount of bill statement in April, 2005      0.400753 -0.528963 -0.436386   \n",
       "\n",
       "                                                  PC4  \n",
       "Amount of bill statement in September, 2005 -0.224205  \n",
       "Amount of bill statement in August, 2005     0.090257  \n",
       "Amount of bill statement in July, 2005       0.554556  \n",
       "Amount of bill statement in June, 2005      -0.591702  \n",
       "Amount of bill statement in May, 2005       -0.275519  \n",
       "Amount of bill statement in April, 2005      0.456105  "
      ]
     },
     "execution_count": 79,
     "metadata": {},
     "output_type": "execute_result"
    }
   ],
   "source": [
    "pcsComponents_df1 = pd.DataFrame(pcs1.components_.transpose(), \n",
    "                                columns = pcsSummary1.columns,\n",
    "                                index = data_final[col2_filter].columns\n",
    "                                )\n",
    "pcsComponents_df1"
   ]
  },
  {
   "cell_type": "code",
   "execution_count": 120,
   "metadata": {},
   "outputs": [
    {
     "name": "stdout",
     "output_type": "stream",
     "text": [
      "La variables más importante para el conjunto AMOUNT OF BILL STATEMENT IN es: Amount of bill statement in June, 2005\n",
      "El valor de la variables más importante es: 0.415\n"
     ]
    }
   ],
   "source": [
    "print('La variables más importante para el conjunto AMOUNT OF BILL STATEMENT IN es:', np.abs(pcsComponents_df1['PC1']).idxmax())\n",
    "print('El valor de la variables más importante es:', round(np.abs(pcsComponents_df1['PC1']).max(),3))"
   ]
  },
  {
   "cell_type": "markdown",
   "metadata": {},
   "source": [
    "Para este caso fueron necesarias 3 componenete para explicar al menos el 90% de la variabilidad de las características. La que tuvo mayor importancia fue `Amount of bill statement in June, 2005` con un valor de 0.415 positivo. Para este caso se observa que las diferencias de la primer componente es muy similar, debido a su alta correlación, se da la posibilidad de tener una importancia similar para cada característica."
   ]
  },
  {
   "cell_type": "markdown",
   "metadata": {},
   "source": [
    "#### **Variable:** Amount paid in"
   ]
  },
  {
   "cell_type": "code",
   "execution_count": 100,
   "metadata": {},
   "outputs": [
    {
     "data": {
      "text/html": [
       "<div>\n",
       "<style scoped>\n",
       "    .dataframe tbody tr th:only-of-type {\n",
       "        vertical-align: middle;\n",
       "    }\n",
       "\n",
       "    .dataframe tbody tr th {\n",
       "        vertical-align: top;\n",
       "    }\n",
       "\n",
       "    .dataframe thead th {\n",
       "        text-align: right;\n",
       "    }\n",
       "</style>\n",
       "<table border=\"1\" class=\"dataframe\">\n",
       "  <thead>\n",
       "    <tr style=\"text-align: right;\">\n",
       "      <th></th>\n",
       "      <th>PC1</th>\n",
       "      <th>PC2</th>\n",
       "      <th>PC3</th>\n",
       "      <th>PC4</th>\n",
       "      <th>PC5</th>\n",
       "      <th>PC6</th>\n",
       "    </tr>\n",
       "  </thead>\n",
       "  <tbody>\n",
       "    <tr>\n",
       "      <th>Amount paid in September, 2005</th>\n",
       "      <td>0.453626</td>\n",
       "      <td>0.334123</td>\n",
       "      <td>-0.053064</td>\n",
       "      <td>-0.285881</td>\n",
       "      <td>-0.295844</td>\n",
       "      <td>-0.714506</td>\n",
       "    </tr>\n",
       "    <tr>\n",
       "      <th>Amount paid in August, 2005</th>\n",
       "      <td>0.445846</td>\n",
       "      <td>0.278082</td>\n",
       "      <td>0.264592</td>\n",
       "      <td>-0.345576</td>\n",
       "      <td>-0.312278</td>\n",
       "      <td>0.661016</td>\n",
       "    </tr>\n",
       "    <tr>\n",
       "      <th>Amount paid in July, 2005</th>\n",
       "      <td>0.440287</td>\n",
       "      <td>0.293583</td>\n",
       "      <td>0.031313</td>\n",
       "      <td>0.111147</td>\n",
       "      <td>0.840318</td>\n",
       "      <td>0.022084</td>\n",
       "    </tr>\n",
       "    <tr>\n",
       "      <th>Amount paid in June, 2005</th>\n",
       "      <td>0.391729</td>\n",
       "      <td>0.037839</td>\n",
       "      <td>-0.195357</td>\n",
       "      <td>0.834037</td>\n",
       "      <td>-0.323637</td>\n",
       "      <td>0.081200</td>\n",
       "    </tr>\n",
       "    <tr>\n",
       "      <th>Amount paid in May, 2005</th>\n",
       "      <td>0.347516</td>\n",
       "      <td>-0.671758</td>\n",
       "      <td>0.630034</td>\n",
       "      <td>0.042121</td>\n",
       "      <td>0.027997</td>\n",
       "      <td>-0.168737</td>\n",
       "    </tr>\n",
       "    <tr>\n",
       "      <th>Amount paid in April, 2005</th>\n",
       "      <td>0.356894</td>\n",
       "      <td>-0.521680</td>\n",
       "      <td>-0.700777</td>\n",
       "      <td>-0.298503</td>\n",
       "      <td>0.057435</td>\n",
       "      <td>0.130330</td>\n",
       "    </tr>\n",
       "  </tbody>\n",
       "</table>\n",
       "</div>"
      ],
      "text/plain": [
       "                                     PC1       PC2       PC3       PC4  \\\n",
       "Amount paid in September, 2005  0.453626  0.334123 -0.053064 -0.285881   \n",
       "Amount paid in August, 2005     0.445846  0.278082  0.264592 -0.345576   \n",
       "Amount paid in July, 2005       0.440287  0.293583  0.031313  0.111147   \n",
       "Amount paid in June, 2005       0.391729  0.037839 -0.195357  0.834037   \n",
       "Amount paid in May, 2005        0.347516 -0.671758  0.630034  0.042121   \n",
       "Amount paid in April, 2005      0.356894 -0.521680 -0.700777 -0.298503   \n",
       "\n",
       "                                     PC5       PC6  \n",
       "Amount paid in September, 2005 -0.295844 -0.714506  \n",
       "Amount paid in August, 2005    -0.312278  0.661016  \n",
       "Amount paid in July, 2005       0.840318  0.022084  \n",
       "Amount paid in June, 2005      -0.323637  0.081200  \n",
       "Amount paid in May, 2005        0.027997 -0.168737  \n",
       "Amount paid in April, 2005      0.057435  0.130330  "
      ]
     },
     "execution_count": 100,
     "metadata": {},
     "output_type": "execute_result"
    }
   ],
   "source": [
    "pcsComponents_df2 = pd.DataFrame(pcs2.components_.transpose(), \n",
    "                                columns = pcsSummary2.columns,\n",
    "                                index = data_final[col1_filter].columns\n",
    "                                )\n",
    "pcsComponents_df2"
   ]
  },
  {
   "cell_type": "code",
   "execution_count": 121,
   "metadata": {},
   "outputs": [
    {
     "name": "stdout",
     "output_type": "stream",
     "text": [
      "La variables más importante para el conjunto AMOUNT PAID IN es: Amount paid in July, 2005\n",
      "El valor de a variables más importante es: 0.84\n"
     ]
    }
   ],
   "source": [
    "print('La variables más importante para el conjunto AMOUNT PAID IN es:', np.abs(pcsComponents_df2['PC5']).idxmax())\n",
    "print('El valor de a variables más importante es:', round(np.abs(pcsComponents_df2['PC5']).max(),3))"
   ]
  },
  {
   "cell_type": "markdown",
   "metadata": {},
   "source": [
    "#### **Variable:** Total"
   ]
  },
  {
   "cell_type": "markdown",
   "metadata": {},
   "source": [
    "Para este caso fueron necesarias 3 componenete para explicar al menos el 90% de la variabilidad de las características. La que tuvo mayor importancia fue `Amount paid in July, 2005` con un valor de 0.84 positivo."
   ]
  },
  {
   "cell_type": "code",
   "execution_count": 109,
   "metadata": {},
   "outputs": [
    {
     "data": {
      "text/html": [
       "<div>\n",
       "<style scoped>\n",
       "    .dataframe tbody tr th:only-of-type {\n",
       "        vertical-align: middle;\n",
       "    }\n",
       "\n",
       "    .dataframe tbody tr th {\n",
       "        vertical-align: top;\n",
       "    }\n",
       "\n",
       "    .dataframe thead th {\n",
       "        text-align: right;\n",
       "    }\n",
       "</style>\n",
       "<table border=\"1\" class=\"dataframe\">\n",
       "  <thead>\n",
       "    <tr style=\"text-align: right;\">\n",
       "      <th></th>\n",
       "      <th>PC1</th>\n",
       "      <th>PC2</th>\n",
       "      <th>PC3</th>\n",
       "      <th>PC4</th>\n",
       "      <th>PC5</th>\n",
       "      <th>PC6</th>\n",
       "      <th>PC7</th>\n",
       "      <th>PC8</th>\n",
       "      <th>PC9</th>\n",
       "    </tr>\n",
       "  </thead>\n",
       "  <tbody>\n",
       "    <tr>\n",
       "      <th>Amount paid in September, 2005</th>\n",
       "      <td>0.090726</td>\n",
       "      <td>0.162822</td>\n",
       "      <td>0.407504</td>\n",
       "      <td>0.322154</td>\n",
       "      <td>-0.248571</td>\n",
       "      <td>0.015747</td>\n",
       "      <td>-0.236188</td>\n",
       "      <td>-0.729013</td>\n",
       "      <td>0.115531</td>\n",
       "    </tr>\n",
       "    <tr>\n",
       "      <th>Amount paid in August, 2005</th>\n",
       "      <td>0.075357</td>\n",
       "      <td>0.152451</td>\n",
       "      <td>0.443702</td>\n",
       "      <td>0.259232</td>\n",
       "      <td>-0.246635</td>\n",
       "      <td>0.386552</td>\n",
       "      <td>-0.280167</td>\n",
       "      <td>0.596325</td>\n",
       "      <td>0.113392</td>\n",
       "    </tr>\n",
       "    <tr>\n",
       "      <th>Amount paid in July, 2005</th>\n",
       "      <td>0.082613</td>\n",
       "      <td>0.163184</td>\n",
       "      <td>0.402692</td>\n",
       "      <td>0.231376</td>\n",
       "      <td>0.259812</td>\n",
       "      <td>-0.019080</td>\n",
       "      <td>0.783930</td>\n",
       "      <td>0.025170</td>\n",
       "      <td>0.139588</td>\n",
       "    </tr>\n",
       "    <tr>\n",
       "      <th>Amount paid in June, 2005</th>\n",
       "      <td>0.074211</td>\n",
       "      <td>0.151028</td>\n",
       "      <td>0.340938</td>\n",
       "      <td>-0.106039</td>\n",
       "      <td>0.672360</td>\n",
       "      <td>-0.384278</td>\n",
       "      <td>-0.441178</td>\n",
       "      <td>0.075554</td>\n",
       "      <td>0.035234</td>\n",
       "    </tr>\n",
       "    <tr>\n",
       "      <th>Amount paid in May, 2005</th>\n",
       "      <td>0.071672</td>\n",
       "      <td>0.144238</td>\n",
       "      <td>0.264671</td>\n",
       "      <td>-0.749364</td>\n",
       "      <td>0.053415</td>\n",
       "      <td>0.518949</td>\n",
       "      <td>0.059126</td>\n",
       "      <td>-0.182906</td>\n",
       "      <td>-0.059670</td>\n",
       "    </tr>\n",
       "    <tr>\n",
       "      <th>Amount paid in April, 2005</th>\n",
       "      <td>0.066292</td>\n",
       "      <td>0.134152</td>\n",
       "      <td>0.295588</td>\n",
       "      <td>-0.382896</td>\n",
       "      <td>-0.530613</td>\n",
       "      <td>-0.636005</td>\n",
       "      <td>0.110332</td>\n",
       "      <td>0.164333</td>\n",
       "      <td>-0.072265</td>\n",
       "    </tr>\n",
       "    <tr>\n",
       "      <th>Amount of bill statement in September, 2005</th>\n",
       "      <td>0.331468</td>\n",
       "      <td>0.164995</td>\n",
       "      <td>-0.220611</td>\n",
       "      <td>-0.053765</td>\n",
       "      <td>-0.030396</td>\n",
       "      <td>-0.059225</td>\n",
       "      <td>0.011390</td>\n",
       "      <td>0.010790</td>\n",
       "      <td>0.046728</td>\n",
       "    </tr>\n",
       "    <tr>\n",
       "      <th>Amount of bill statement in August, 2005</th>\n",
       "      <td>0.343044</td>\n",
       "      <td>0.167009</td>\n",
       "      <td>-0.189373</td>\n",
       "      <td>0.015411</td>\n",
       "      <td>-0.078254</td>\n",
       "      <td>-0.046836</td>\n",
       "      <td>-0.036357</td>\n",
       "      <td>-0.132385</td>\n",
       "      <td>0.041284</td>\n",
       "    </tr>\n",
       "    <tr>\n",
       "      <th>Amount of bill statement in July, 2005</th>\n",
       "      <td>0.346950</td>\n",
       "      <td>0.173612</td>\n",
       "      <td>-0.126126</td>\n",
       "      <td>0.052644</td>\n",
       "      <td>-0.137365</td>\n",
       "      <td>0.074643</td>\n",
       "      <td>-0.121374</td>\n",
       "      <td>0.100129</td>\n",
       "      <td>0.010343</td>\n",
       "    </tr>\n",
       "    <tr>\n",
       "      <th>Amount of bill statement in June, 2005</th>\n",
       "      <td>0.351052</td>\n",
       "      <td>0.171617</td>\n",
       "      <td>-0.114549</td>\n",
       "      <td>0.088529</td>\n",
       "      <td>-0.031362</td>\n",
       "      <td>0.021147</td>\n",
       "      <td>0.125385</td>\n",
       "      <td>0.034062</td>\n",
       "      <td>-0.024051</td>\n",
       "    </tr>\n",
       "    <tr>\n",
       "      <th>Amount of bill statement in May, 2005</th>\n",
       "      <td>0.348959</td>\n",
       "      <td>0.168989</td>\n",
       "      <td>-0.096651</td>\n",
       "      <td>0.060995</td>\n",
       "      <td>0.127401</td>\n",
       "      <td>-0.064148</td>\n",
       "      <td>-0.004510</td>\n",
       "      <td>0.047198</td>\n",
       "      <td>-0.053884</td>\n",
       "    </tr>\n",
       "    <tr>\n",
       "      <th>Amount of bill statement in April, 2005</th>\n",
       "      <td>0.341753</td>\n",
       "      <td>0.166573</td>\n",
       "      <td>-0.087228</td>\n",
       "      <td>-0.075620</td>\n",
       "      <td>0.146229</td>\n",
       "      <td>0.094953</td>\n",
       "      <td>0.015336</td>\n",
       "      <td>-0.005569</td>\n",
       "      <td>-0.074147</td>\n",
       "    </tr>\n",
       "    <tr>\n",
       "      <th>the repayment status in September</th>\n",
       "      <td>0.169049</td>\n",
       "      <td>-0.307880</td>\n",
       "      <td>-0.008815</td>\n",
       "      <td>-0.093935</td>\n",
       "      <td>0.008076</td>\n",
       "      <td>-0.021290</td>\n",
       "      <td>0.003103</td>\n",
       "      <td>0.046165</td>\n",
       "      <td>0.642208</td>\n",
       "    </tr>\n",
       "    <tr>\n",
       "      <th>the repayment status in August</th>\n",
       "      <td>0.202984</td>\n",
       "      <td>-0.345421</td>\n",
       "      <td>0.038993</td>\n",
       "      <td>-0.108035</td>\n",
       "      <td>0.004380</td>\n",
       "      <td>-0.026697</td>\n",
       "      <td>0.006276</td>\n",
       "      <td>0.028883</td>\n",
       "      <td>0.391259</td>\n",
       "    </tr>\n",
       "    <tr>\n",
       "      <th>the repayment status in July</th>\n",
       "      <td>0.209296</td>\n",
       "      <td>-0.356741</td>\n",
       "      <td>0.093114</td>\n",
       "      <td>-0.042363</td>\n",
       "      <td>-0.024009</td>\n",
       "      <td>-0.016847</td>\n",
       "      <td>-0.025186</td>\n",
       "      <td>-0.106944</td>\n",
       "      <td>0.109924</td>\n",
       "    </tr>\n",
       "    <tr>\n",
       "      <th>the repayment status in June</th>\n",
       "      <td>0.216020</td>\n",
       "      <td>-0.359354</td>\n",
       "      <td>0.129385</td>\n",
       "      <td>0.010474</td>\n",
       "      <td>-0.044016</td>\n",
       "      <td>0.027679</td>\n",
       "      <td>-0.057265</td>\n",
       "      <td>-0.008080</td>\n",
       "      <td>-0.210284</td>\n",
       "    </tr>\n",
       "    <tr>\n",
       "      <th>the repayment status in May</th>\n",
       "      <td>0.219609</td>\n",
       "      <td>-0.345767</td>\n",
       "      <td>0.148327</td>\n",
       "      <td>0.064361</td>\n",
       "      <td>-0.010532</td>\n",
       "      <td>0.033044</td>\n",
       "      <td>0.067297</td>\n",
       "      <td>0.009013</td>\n",
       "      <td>-0.368225</td>\n",
       "    </tr>\n",
       "    <tr>\n",
       "      <th>the repayment status in April</th>\n",
       "      <td>0.214520</td>\n",
       "      <td>-0.317703</td>\n",
       "      <td>0.147396</td>\n",
       "      <td>0.079768</td>\n",
       "      <td>0.078654</td>\n",
       "      <td>-0.018070</td>\n",
       "      <td>0.014708</td>\n",
       "      <td>0.022317</td>\n",
       "      <td>-0.417018</td>\n",
       "    </tr>\n",
       "  </tbody>\n",
       "</table>\n",
       "</div>"
      ],
      "text/plain": [
       "                                                  PC1       PC2       PC3  \\\n",
       "Amount paid in September, 2005               0.090726  0.162822  0.407504   \n",
       "Amount paid in August, 2005                  0.075357  0.152451  0.443702   \n",
       "Amount paid in July, 2005                    0.082613  0.163184  0.402692   \n",
       "Amount paid in June, 2005                    0.074211  0.151028  0.340938   \n",
       "Amount paid in May, 2005                     0.071672  0.144238  0.264671   \n",
       "Amount paid in April, 2005                   0.066292  0.134152  0.295588   \n",
       "Amount of bill statement in September, 2005  0.331468  0.164995 -0.220611   \n",
       "Amount of bill statement in August, 2005     0.343044  0.167009 -0.189373   \n",
       "Amount of bill statement in July, 2005       0.346950  0.173612 -0.126126   \n",
       "Amount of bill statement in June, 2005       0.351052  0.171617 -0.114549   \n",
       "Amount of bill statement in May, 2005        0.348959  0.168989 -0.096651   \n",
       "Amount of bill statement in April, 2005      0.341753  0.166573 -0.087228   \n",
       "the repayment status in September            0.169049 -0.307880 -0.008815   \n",
       "the repayment status in August               0.202984 -0.345421  0.038993   \n",
       "the repayment status in July                 0.209296 -0.356741  0.093114   \n",
       "the repayment status in June                 0.216020 -0.359354  0.129385   \n",
       "the repayment status in May                  0.219609 -0.345767  0.148327   \n",
       "the repayment status in April                0.214520 -0.317703  0.147396   \n",
       "\n",
       "                                                  PC4       PC5       PC6  \\\n",
       "Amount paid in September, 2005               0.322154 -0.248571  0.015747   \n",
       "Amount paid in August, 2005                  0.259232 -0.246635  0.386552   \n",
       "Amount paid in July, 2005                    0.231376  0.259812 -0.019080   \n",
       "Amount paid in June, 2005                   -0.106039  0.672360 -0.384278   \n",
       "Amount paid in May, 2005                    -0.749364  0.053415  0.518949   \n",
       "Amount paid in April, 2005                  -0.382896 -0.530613 -0.636005   \n",
       "Amount of bill statement in September, 2005 -0.053765 -0.030396 -0.059225   \n",
       "Amount of bill statement in August, 2005     0.015411 -0.078254 -0.046836   \n",
       "Amount of bill statement in July, 2005       0.052644 -0.137365  0.074643   \n",
       "Amount of bill statement in June, 2005       0.088529 -0.031362  0.021147   \n",
       "Amount of bill statement in May, 2005        0.060995  0.127401 -0.064148   \n",
       "Amount of bill statement in April, 2005     -0.075620  0.146229  0.094953   \n",
       "the repayment status in September           -0.093935  0.008076 -0.021290   \n",
       "the repayment status in August              -0.108035  0.004380 -0.026697   \n",
       "the repayment status in July                -0.042363 -0.024009 -0.016847   \n",
       "the repayment status in June                 0.010474 -0.044016  0.027679   \n",
       "the repayment status in May                  0.064361 -0.010532  0.033044   \n",
       "the repayment status in April                0.079768  0.078654 -0.018070   \n",
       "\n",
       "                                                  PC7       PC8       PC9  \n",
       "Amount paid in September, 2005              -0.236188 -0.729013  0.115531  \n",
       "Amount paid in August, 2005                 -0.280167  0.596325  0.113392  \n",
       "Amount paid in July, 2005                    0.783930  0.025170  0.139588  \n",
       "Amount paid in June, 2005                   -0.441178  0.075554  0.035234  \n",
       "Amount paid in May, 2005                     0.059126 -0.182906 -0.059670  \n",
       "Amount paid in April, 2005                   0.110332  0.164333 -0.072265  \n",
       "Amount of bill statement in September, 2005  0.011390  0.010790  0.046728  \n",
       "Amount of bill statement in August, 2005    -0.036357 -0.132385  0.041284  \n",
       "Amount of bill statement in July, 2005      -0.121374  0.100129  0.010343  \n",
       "Amount of bill statement in June, 2005       0.125385  0.034062 -0.024051  \n",
       "Amount of bill statement in May, 2005       -0.004510  0.047198 -0.053884  \n",
       "Amount of bill statement in April, 2005      0.015336 -0.005569 -0.074147  \n",
       "the repayment status in September            0.003103  0.046165  0.642208  \n",
       "the repayment status in August               0.006276  0.028883  0.391259  \n",
       "the repayment status in July                -0.025186 -0.106944  0.109924  \n",
       "the repayment status in June                -0.057265 -0.008080 -0.210284  \n",
       "the repayment status in May                  0.067297  0.009013 -0.368225  \n",
       "the repayment status in April                0.014708  0.022317 -0.417018  "
      ]
     },
     "execution_count": 109,
     "metadata": {},
     "output_type": "execute_result"
    }
   ],
   "source": [
    "pcsComponents_df3 = pd.DataFrame(pcs3.components_.transpose(), \n",
    "                                columns = pcsSummary3.columns,\n",
    "                                index = data_final[col1_filter+col2_filter+col3_filter].columns\n",
    "                                )\n",
    "pcsComponents_df3"
   ]
  },
  {
   "cell_type": "code",
   "execution_count": 122,
   "metadata": {},
   "outputs": [
    {
     "name": "stdout",
     "output_type": "stream",
     "text": [
      "La variables más importante para el conjunto TOTAL es: the repayment status in September\n",
      "El valor de a variables más importante es: 0.642\n"
     ]
    }
   ],
   "source": [
    "print('La variables más importante para el conjunto TOTAL es:', np.abs(pcsComponents_df3['PC9']).idxmax())\n",
    "print('El valor de a variables más importante es:', round(np.abs(pcsComponents_df3['PC9']).max(),3))"
   ]
  },
  {
   "cell_type": "markdown",
   "metadata": {},
   "source": [
    "Para este caso fueron necesarias 3 componenete para explicar al menos el 90% de la variabilidad de las características. La que tuvo mayor importancia fue `the repayment status in September` con un valor de 0.642 positivo. Aquí por tener tantas características, la variación es evidente en la anterior tabla, donde el menor valor es de 0.010"
   ]
  },
  {
   "cell_type": "markdown",
   "metadata": {},
   "source": [
    "### **Paso 3: Identifique valores atípicos**"
   ]
  },
  {
   "cell_type": "code",
   "execution_count": 123,
   "metadata": {},
   "outputs": [
    {
     "data": {
      "text/plain": [
       "(29961, 25)"
      ]
     },
     "execution_count": 123,
     "metadata": {},
     "output_type": "execute_result"
    }
   ],
   "source": [
    "data_final.shape"
   ]
  },
  {
   "cell_type": "markdown",
   "metadata": {},
   "source": [
    "Se realizará el escalado de cada variable para guardar las misma dimensiones"
   ]
  },
  {
   "cell_type": "code",
   "execution_count": 125,
   "metadata": {},
   "outputs": [
    {
     "data": {
      "text/html": [
       "<div>\n",
       "<style scoped>\n",
       "    .dataframe tbody tr th:only-of-type {\n",
       "        vertical-align: middle;\n",
       "    }\n",
       "\n",
       "    .dataframe tbody tr th {\n",
       "        vertical-align: top;\n",
       "    }\n",
       "\n",
       "    .dataframe thead th {\n",
       "        text-align: right;\n",
       "    }\n",
       "</style>\n",
       "<table border=\"1\" class=\"dataframe\">\n",
       "  <thead>\n",
       "    <tr style=\"text-align: right;\">\n",
       "      <th></th>\n",
       "      <th>ID</th>\n",
       "      <th>Amount of the given credit</th>\n",
       "      <th>Gender</th>\n",
       "      <th>Education</th>\n",
       "      <th>Marital status</th>\n",
       "      <th>Age</th>\n",
       "      <th>the repayment status in September</th>\n",
       "      <th>the repayment status in August</th>\n",
       "      <th>the repayment status in July</th>\n",
       "      <th>the repayment status in June</th>\n",
       "      <th>...</th>\n",
       "      <th>Amount of bill statement in June, 2005</th>\n",
       "      <th>Amount of bill statement in May, 2005</th>\n",
       "      <th>Amount of bill statement in April, 2005</th>\n",
       "      <th>Amount paid in September, 2005</th>\n",
       "      <th>Amount paid in August, 2005</th>\n",
       "      <th>Amount paid in July, 2005</th>\n",
       "      <th>Amount paid in June, 2005</th>\n",
       "      <th>Amount paid in May, 2005</th>\n",
       "      <th>Amount paid in April, 2005</th>\n",
       "      <th>Class</th>\n",
       "    </tr>\n",
       "  </thead>\n",
       "  <tbody>\n",
       "    <tr>\n",
       "      <th>0</th>\n",
       "      <td>-1.712382</td>\n",
       "      <td>2.562162</td>\n",
       "      <td>0.809621</td>\n",
       "      <td>-1.079186</td>\n",
       "      <td>-1.057057</td>\n",
       "      <td>0.273136</td>\n",
       "      <td>0.015264</td>\n",
       "      <td>0.111971</td>\n",
       "      <td>0.139456</td>\n",
       "      <td>0.189259</td>\n",
       "      <td>...</td>\n",
       "      <td>1.238097</td>\n",
       "      <td>1.126279</td>\n",
       "      <td>0.523250</td>\n",
       "      <td>3.882680</td>\n",
       "      <td>1.059678</td>\n",
       "      <td>1.406104</td>\n",
       "      <td>0.967750</td>\n",
       "      <td>3.099373</td>\n",
       "      <td>0.830843</td>\n",
       "      <td>-0.532871</td>\n",
       "    </tr>\n",
       "    <tr>\n",
       "      <th>1</th>\n",
       "      <td>-1.708107</td>\n",
       "      <td>1.097758</td>\n",
       "      <td>0.809621</td>\n",
       "      <td>-1.079186</td>\n",
       "      <td>0.858651</td>\n",
       "      <td>-0.052465</td>\n",
       "      <td>-0.874472</td>\n",
       "      <td>-0.723380</td>\n",
       "      <td>-0.696695</td>\n",
       "      <td>-0.666648</td>\n",
       "      <td>...</td>\n",
       "      <td>-0.672435</td>\n",
       "      <td>-0.663046</td>\n",
       "      <td>-0.652720</td>\n",
       "      <td>-0.067864</td>\n",
       "      <td>-0.251582</td>\n",
       "      <td>-0.296818</td>\n",
       "      <td>-0.308131</td>\n",
       "      <td>-0.314178</td>\n",
       "      <td>-0.293508</td>\n",
       "      <td>-0.532871</td>\n",
       "    </tr>\n",
       "    <tr>\n",
       "      <th>2</th>\n",
       "      <td>-1.705796</td>\n",
       "      <td>-0.212499</td>\n",
       "      <td>0.809621</td>\n",
       "      <td>0.185917</td>\n",
       "      <td>2.774358</td>\n",
       "      <td>-0.378065</td>\n",
       "      <td>0.015264</td>\n",
       "      <td>0.111971</td>\n",
       "      <td>0.139456</td>\n",
       "      <td>0.189259</td>\n",
       "      <td>...</td>\n",
       "      <td>-0.376177</td>\n",
       "      <td>-0.393268</td>\n",
       "      <td>-0.377744</td>\n",
       "      <td>-0.160913</td>\n",
       "      <td>-0.170298</td>\n",
       "      <td>-0.172051</td>\n",
       "      <td>-0.244337</td>\n",
       "      <td>-0.117933</td>\n",
       "      <td>-0.158642</td>\n",
       "      <td>1.876628</td>\n",
       "    </tr>\n",
       "    <tr>\n",
       "      <th>3</th>\n",
       "      <td>-1.733410</td>\n",
       "      <td>-1.137386</td>\n",
       "      <td>0.809621</td>\n",
       "      <td>0.185917</td>\n",
       "      <td>-1.057057</td>\n",
       "      <td>-1.246334</td>\n",
       "      <td>1.794737</td>\n",
       "      <td>1.782673</td>\n",
       "      <td>-0.696695</td>\n",
       "      <td>-0.666648</td>\n",
       "      <td>...</td>\n",
       "      <td>-0.672435</td>\n",
       "      <td>-0.663046</td>\n",
       "      <td>-0.652720</td>\n",
       "      <td>-0.341943</td>\n",
       "      <td>-0.227162</td>\n",
       "      <td>-0.296818</td>\n",
       "      <td>-0.308131</td>\n",
       "      <td>-0.314178</td>\n",
       "      <td>-0.293508</td>\n",
       "      <td>1.876628</td>\n",
       "    </tr>\n",
       "    <tr>\n",
       "      <th>4</th>\n",
       "      <td>-1.733294</td>\n",
       "      <td>-0.366647</td>\n",
       "      <td>0.809621</td>\n",
       "      <td>0.185917</td>\n",
       "      <td>0.858651</td>\n",
       "      <td>-1.029267</td>\n",
       "      <td>-0.874472</td>\n",
       "      <td>1.782673</td>\n",
       "      <td>0.139456</td>\n",
       "      <td>0.189259</td>\n",
       "      <td>...</td>\n",
       "      <td>-0.621599</td>\n",
       "      <td>-0.606243</td>\n",
       "      <td>-0.597987</td>\n",
       "      <td>-0.341943</td>\n",
       "      <td>-0.213673</td>\n",
       "      <td>-0.240054</td>\n",
       "      <td>-0.244337</td>\n",
       "      <td>-0.314178</td>\n",
       "      <td>-0.181073</td>\n",
       "      <td>1.876628</td>\n",
       "    </tr>\n",
       "  </tbody>\n",
       "</table>\n",
       "<p>5 rows × 25 columns</p>\n",
       "</div>"
      ],
      "text/plain": [
       "         ID  Amount of the given credit    Gender  Education  Marital status  \\\n",
       "0 -1.712382                    2.562162  0.809621  -1.079186       -1.057057   \n",
       "1 -1.708107                    1.097758  0.809621  -1.079186        0.858651   \n",
       "2 -1.705796                   -0.212499  0.809621   0.185917        2.774358   \n",
       "3 -1.733410                   -1.137386  0.809621   0.185917       -1.057057   \n",
       "4 -1.733294                   -0.366647  0.809621   0.185917        0.858651   \n",
       "\n",
       "        Age  the repayment status in September  \\\n",
       "0  0.273136                           0.015264   \n",
       "1 -0.052465                          -0.874472   \n",
       "2 -0.378065                           0.015264   \n",
       "3 -1.246334                           1.794737   \n",
       "4 -1.029267                          -0.874472   \n",
       "\n",
       "   the repayment status in August  the repayment status in July  \\\n",
       "0                        0.111971                      0.139456   \n",
       "1                       -0.723380                     -0.696695   \n",
       "2                        0.111971                      0.139456   \n",
       "3                        1.782673                     -0.696695   \n",
       "4                        1.782673                      0.139456   \n",
       "\n",
       "   the repayment status in June  ...  Amount of bill statement in June, 2005  \\\n",
       "0                      0.189259  ...                                1.238097   \n",
       "1                     -0.666648  ...                               -0.672435   \n",
       "2                      0.189259  ...                               -0.376177   \n",
       "3                     -0.666648  ...                               -0.672435   \n",
       "4                      0.189259  ...                               -0.621599   \n",
       "\n",
       "   Amount of bill statement in May, 2005  \\\n",
       "0                               1.126279   \n",
       "1                              -0.663046   \n",
       "2                              -0.393268   \n",
       "3                              -0.663046   \n",
       "4                              -0.606243   \n",
       "\n",
       "   Amount of bill statement in April, 2005  Amount paid in September, 2005  \\\n",
       "0                                 0.523250                        3.882680   \n",
       "1                                -0.652720                       -0.067864   \n",
       "2                                -0.377744                       -0.160913   \n",
       "3                                -0.652720                       -0.341943   \n",
       "4                                -0.597987                       -0.341943   \n",
       "\n",
       "   Amount paid in August, 2005  Amount paid in July, 2005  \\\n",
       "0                     1.059678                   1.406104   \n",
       "1                    -0.251582                  -0.296818   \n",
       "2                    -0.170298                  -0.172051   \n",
       "3                    -0.227162                  -0.296818   \n",
       "4                    -0.213673                  -0.240054   \n",
       "\n",
       "   Amount paid in June, 2005  Amount paid in May, 2005  \\\n",
       "0                   0.967750                  3.099373   \n",
       "1                  -0.308131                 -0.314178   \n",
       "2                  -0.244337                 -0.117933   \n",
       "3                  -0.308131                 -0.314178   \n",
       "4                  -0.244337                 -0.314178   \n",
       "\n",
       "   Amount paid in April, 2005     Class  \n",
       "0                    0.830843 -0.532871  \n",
       "1                   -0.293508 -0.532871  \n",
       "2                   -0.158642  1.876628  \n",
       "3                   -0.293508  1.876628  \n",
       "4                   -0.181073  1.876628  \n",
       "\n",
       "[5 rows x 25 columns]"
      ]
     },
     "execution_count": 125,
     "metadata": {},
     "output_type": "execute_result"
    }
   ],
   "source": [
    "scal = StandardScaler()\n",
    "data_scaled = scal.fit_transform(data_final)\n",
    "data_scaled_frame = pd.DataFrame(data_scaled, columns=data_final.columns)\n",
    "data_scaled_frame.head()"
   ]
  },
  {
   "cell_type": "code",
   "execution_count": 133,
   "metadata": {},
   "outputs": [
    {
     "data": {
      "image/png": "[encoded data removed]",
      "text/plain": [
       "<Figure size 2160x720 with 1 Axes>"
      ]
     },
     "metadata": {
      "needs_background": "light"
     },
     "output_type": "display_data"
    }
   ],
   "source": [
    "fig, ax2 = plt.subplots(figsize=(30,10))\n",
    "data_scaled_frame.boxplot(ax=ax2, rot=80, fontsize=10)\n",
    "ax2.set_title('BOX PLOT de todas la variables del conjunto de datos')\n",
    "plt.show()"
   ]
  },
  {
   "cell_type": "markdown",
   "metadata": {},
   "source": [
    "Se observa que casi todas las variables sobrepasan el `max value` del gráfico de caja, especialmente para el tipo de variable `Amount paid in`. La caja que representa el `Q1` y el `Q3` es muy pequeño comparado con la cantidad de atípicos o punto encima del valor máximo. Esto muestra que las distribuciones de estás variables están sesgadas hacía la izquierda y existe un cantidad sigificativa de valores altos para estas variables [Sin dejar pasar que para `Amount of bill statemente` y `the repayment status in` contiene atípicos]. Esto permite realizar también para este conjuntos de datos un análisis de atípicos que permitan ya sea suavizar o eliminar estos valores [Dependiendo de lo que se quiera en el negocio] y poder emplear nuevamente la reducción de dimensionalidad. Ya que para este último conjunto de datos es donde se necesitan más componente y es posible que está cantidad de atípicos afecta la variabilidad de cada característica. \n",
    "\n",
    "Adicionalmente, la variable `ID` y `Class` son variables que no entrarían a consideración para este caso, ya que el son variables representativas de cada cliente y la otra en la variable objetivo."
   ]
  },
  {
   "cell_type": "markdown",
   "metadata": {},
   "source": [
    "## **Parte 2: Responde las siguientes preguntas en una celda de texto en Jupyter Notebook**"
   ]
  },
  {
   "cell_type": "markdown",
   "metadata": {},
   "source": [
    "### 1. ¿Cuál es el número de componentes mínimo y por qué?"
   ]
  },
  {
   "cell_type": "markdown",
   "metadata": {},
   "source": [
    "`RTA`\n",
    "\n",
    "Para el escenario propuesto en este notebook se realizaron varios pasos para los siguientes tipos de variables: `the repayment status`, `Amount of bill statement in` y `Amount paid in`\n",
    "\n",
    "* `the repayment status`: Mostró que la cantidad de componente para reducir dimensionalidad fueron `n_components` 3, explicando el `90.1%` de la variabilidad de las seis características representadas aquí. Un valor margen para poder dejar esta cantidad de variables es `90%`, y esta cantidad de componente cumple con este margen. Esto se puede evidenciar también en la matriz de correlación, donde algunas características poseen una correlación de `0.5` y `0.6`, dando que del total de seis variables, se infiere que tres componentes podrían representar el `90%` de la variabilidad.\n",
    "* `Amount of bill statement in`: Observando en la matriz de correlación de este conjunto de características, se observa valores altos, `0.9`, considerando que la máxima correlación es `1.0`. Esto infiere a que se necesitarán pocas componentes para representar el `90%` de la variabilidad. Al realizar el análisis de componentes, se muestra que solo una componente explicar el `90.6%` de la variabilidad, consecuencia de la fuerte correlación.\n",
    "* `Amount paid in`: La matriz de correlación muestra valores bajos de `0.2`, un posible indicio de necesitar muchas componentes para explicar la variabilidad. **PCA**, 5 componente solo explican el `88.2%` de la variabilidad, considerando que son 6 característica se tendría que evaluar otra metodología para reducir dimensionalidad.\n",
    "* `total de variables`: Para todas las variables anteriormente consideradas que son 18 en total, se necesito de 8 componente para explicar el `88.2%`de la variabilidad, poca correlación entre todas estas. \n"
   ]
  },
  {
   "cell_type": "markdown",
   "metadata": {},
   "source": [
    "### 2.¿Cuál es la variación de los datos que representan esos componentes?"
   ]
  },
  {
   "cell_type": "markdown",
   "metadata": {},
   "source": [
    "`RTA`\n",
    "\n",
    "* La variación total para el primer caso con las variables `the repayment status` se tiene una varianza total de `8.09` con una varianza en cada una de estas de `16.7%`. La explicación de la varianza para este paso fue del `90.1%` para los tres componentes.\n",
    "* La variación total para las variables `Amount of bill statement in` tiene una varianza de `6.0` con una varianza por cada una de `16.7%`. La proporción de varianza acumulada para este caso fue de `90.6%` para una sola componente.\n",
    "* La variación total para las variables `Amount paid in` tiene una varianza de `6.0` con una varianza para cada una de `16.7%`. La proporción de varianza para esta caso fue de `88.8%`para cinco componentes.\n",
    "* Para la unificación de las 18 características, se tiene una varianza `18` con un porcentaje para cada características de `16.7%`. Para este caso fueron necesesarias 8 componente para explicar el `88.2%`de la varianza de cada una de estas."
   ]
  },
  {
   "cell_type": "markdown",
   "metadata": {},
   "source": [
    "### 3. ¿Cuál es la pérdida de información después de realizar PCA?"
   ]
  },
  {
   "cell_type": "markdown",
   "metadata": {},
   "source": [
    "`RTA`\n",
    "\n",
    "Para cada uno de los casos anteriormente mencionados, si seleccionamos las componentes establecidas en cada paso, se tendría la perdida de información:\n",
    "\n",
    "* `the repayment status`: 9.9%\n",
    "* `Amount of bill statement in`: 9.4%\n",
    "* `Amount paid in`: 11.8%\n",
    "* `Total de variables`: 11.8%"
   ]
  },
  {
   "cell_type": "markdown",
   "metadata": {},
   "source": [
    "### 4. De las variables originales, ¿Cuál tiene mayor y cuál tiene menor importancia en los componentes principales?"
   ]
  },
  {
   "cell_type": "markdown",
   "metadata": {},
   "source": [
    "`RTA`\n",
    "\n",
    "Las importancia se clasifica de la siguiente manera:\n",
    "\n",
    "`the repayment status`\n",
    "\n",
    "**Mayor importancia**\n",
    "* La variables más importante para el conjunto: ***the repayment status in June***\n",
    "* El valor de a variable más importante es: ***0.595***\n",
    "\n",
    "**Menor importancia**\n",
    "* La variables menos importante para el conjunto: ***the repayment status in July***\n",
    "* El valor de a variable menos importante es: ***0.0848***\n",
    "\n",
    "`Amount of bill statement in`\n",
    "\n",
    "**Mayor importancia**\n",
    "* La variables más importante para el conjunto: ***Amount of bill statement in June, 2005***\n",
    "* El valor de a variable más importante es: ***0.415***\n",
    "\n",
    "**Menor importancia**\n",
    "* La variables menos importante para el conjunto: ***Amount of bill statement in April, 2005***\n",
    "* El valor de a variable menos importante es: ***0.4007***\n",
    "\n",
    "`Amount paid in`\n",
    "\n",
    "**Mayor importancia**\n",
    "* La variables más importante para el conjunto: ***Amount paid in July, 2005***\n",
    "* El valor de a variable más importante es: ***0.84***\n",
    "\n",
    "**Menor importancia**\n",
    "* La variables menos importante para el conjunto: ***Amount paid in May, 2005***\n",
    "* El valor de a variable menos importante es: ***0.027***\n",
    "\n",
    "`Todas las variables en conjunto`\n",
    "\n",
    "**Mayor importancia**\n",
    "* La variables más importante para el conjunto: ***the repayment status in September***\n",
    "* El valor de a variable más importante es: ***0.642***\n",
    "\n",
    "**Menor importancia**\n",
    "* La variables menos importante para el conjunto: ***the repayment status in May***\n",
    "* El valor de a variable menos importante es: ***0.0090***"
   ]
  },
  {
   "cell_type": "markdown",
   "metadata": {},
   "source": [
    "### 5. ¿Cuándo se recomienda realizar un PCA y qué beneficios ofrece para Machine Learning?"
   ]
  },
  {
   "cell_type": "markdown",
   "metadata": {},
   "source": [
    "`RTA`\n",
    "\n",
    "Cuando se trabaja con método de machine learning existe la posibilidad tener variables que pueden ser redudantes, ya que unas pueden explicar otras. Normalmente se hace una análisis de colinearidad para quedarnos con aquellas que son representativas y únicas. Sin embargo, `PCA` es una solución para quedarnos con aquellas componentes que pueden ser representativas. Con esto, aplicar PCA trae beneficios para reducir la dimensionalidad de nuesto conjunto de datos donde existen variables que pueden ser explicadas por las componente seleccionadas para la reducción. Esto evita tener colinealidad en los métodos, también reduciría los tiempos de computo ya que se tendrían menos campos a la derecha (características). PCA trata de explicar la variabilidad de todas las características en unas pocas componentes"
   ]
  }
 ],
 "metadata": {
  "kernelspec": {
   "display_name": "Python 3 (ipykernel)",
   "language": "python",
   "name": "python3"
  },
  "language_info": {
   "codemirror_mode": {
    "name": "ipython",
    "version": 3
   },
   "file_extension": ".py",
   "mimetype": "text/x-python",
   "name": "python",
   "nbconvert_exporter": "python",
   "pygments_lexer": "ipython3",
   "version": "3.10.4"
  },
  "vscode": {
   "interpreter": {
    "hash": "7830fdd6266474239bfd7de8190294ed8bdbfb59df3ffbae438fbb1179d117c0"
   }
  }
 },
 "nbformat": 4,
 "nbformat_minor": 4
}
