{
 "cells": [
  {
   "cell_type": "markdown",
   "metadata": {},
   "source": [
    "- <a href='#1'>1. Cargar librerias y limpieza de los datos</a>  \n",
    "    - <a href='#1.1'>1.1. Cargar librerias</a> \n",
    "    - <a href='#1.2'>1.2. Obtener el dataset</a> \n",
    "    - <a href='#1.3'>1.3. Valores faltantes</a> \n",
    "    - <a href='#1.4'>1.4. Descartar features inservibles</a>\n",
    "    - <a href='#1.5'>1.5. Ajustar tipo de dato</a>\n",
    "- <a href='#2'>2. Exploratory Data Analysis (EDA)</a> \n",
    "    - <a href='#2.1'>2.1. Distribucion de la variable objetivo</a> \n",
    "    - <a href='#2.2'>2.2. Distribucion de las features numericas</a> \n",
    "    - <a href='#2.3'>2.3. Matriz de correlacion</a> \n",
    "    - <a href='#2.4'>2.4. Identificar medidas de posición no centrales , los cuartiles , outliers.</a>\n",
    "- <a href='#3'>3. Preparar los datos</a>\n",
    "    - <a href='#3.1'>3.1. Label encoding</a>\n",
    "- <a href='#4'>4. Mapa</a>\n",
    "    - <a href='#4.1'>4.1. Graficar archivo KML</a> \n",
    "- <a href='#5'>5. K- Means</a>\n",
    "    - <a href='#5.1'>5.1. Realizar análisis para encontrar si existe una relación entre la calidad del agua y su ubicación geográfica a través de K- means.</a> \n",
    "    - <a href='#5.2'>5.2. Mostrar resultados de agrupamiento de latitudes y longitudes con K means en el mapa de México.</a> \n",
    "    "
   ]
  },
  {
   "cell_type": "markdown",
   "metadata": {},
   "source": [
    "# <a id='1'>1. Cargar librerias y leer los datos</a> "
   ]
  },
  {
   "cell_type": "markdown",
   "metadata": {},
   "source": [
    "## <a id='1.1'>1.1. Cargar librerias</a> "
   ]
  },
  {
   "cell_type": "code",
   "execution_count": 9,
   "metadata": {},
   "outputs": [],
   "source": [
    "import pandas as pd\n",
    "import numpy as np\n",
    "import matplotlib.pyplot as plt\n",
    "import seaborn as sns\n",
    "from scipy import stats\n",
    "import geopandas as gpd\n",
    "from fiona.drvsupport import supported_drivers\n",
    "import fiona\n",
    "import plotly.offline as py\n",
    "import plotly.graph_objs as go\n",
    "from ipywidgets import interact, interactive, fixed, interact_manual, Dropdown\n",
    "import ipywidgets as widgets"
   ]
  },
  {
   "cell_type": "markdown",
   "metadata": {},
   "source": [
    "## <a id='1.2'>1.2. Obtener el dataset</a>"
   ]
  },
  {
   "cell_type": "code",
   "execution_count": 10,
   "metadata": {},
   "outputs": [],
   "source": [
    "df_subterraneas = pd.read_csv(\"https://raw.githubusercontent.com/PosgradoMNA/actividades-del-projecto-grupo26/main/Reto/data/Datos_de_calidad_del_agua_de_sitios_de_monitoreo_de_aguas_superficiales_2020.csv\", encoding=\"latin-1\" )"
   ]
  },
  {
   "cell_type": "code",
   "execution_count": 11,
   "metadata": {},
   "outputs": [],
   "source": [
    "#Eliminar registros vacios que vienen al final del dataset\n",
    "df_subterraneas = df_subterraneas.dropna(how=\"all\")"
   ]
  },
  {
   "cell_type": "code",
   "execution_count": 12,
   "metadata": {},
   "outputs": [
    {
     "data": {
      "text/plain": [
       "(3493, 55)"
      ]
     },
     "execution_count": 12,
     "metadata": {},
     "output_type": "execute_result"
    }
   ],
   "source": [
    "df_subterraneas.shape"
   ]
  },
  {
   "cell_type": "markdown",
   "metadata": {},
   "source": [
    "## <a id='1.3'>1.3. Valores faltantes</a>"
   ]
  },
  {
   "cell_type": "code",
   "execution_count": 13,
   "metadata": {},
   "outputs": [
    {
     "data": {
      "application/vnd.plotly.v1+json": {
       "config": {
        "linkText": "Export to plot.ly",
        "plotlyServerURL": "https://plot.ly",
        "showLink": false
       },
       "data": [
        {
         "marker": {
          "color": "lightgrey",
          "line": {
           "color": "#000000",
           "width": 1.5
          }
         },
         "opacity": 0.8,
         "type": "bar",
         "x": [
          "CLAVE",
          "SITIO",
          "ORGANISMO_DE_CUENCA",
          "ESTADO",
          "MUNICIPIO",
          "CUENCA",
          "CUERPO DE AGUA",
          "TIPO",
          "SUBTIPO",
          "LONGITUD",
          "LATITUD",
          "PERIODO",
          "DBO_mg/L",
          "CALIDAD_DBO",
          "DQO_mg/L",
          "CALIDAD_DQO",
          "SST_mg/L",
          "CALIDAD_SST",
          "COLI_FEC_NMP_100mL",
          "CALIDAD_COLI_FEC",
          "E_COLI_NMP_100mL",
          "CALIDAD_E_COLI",
          "ENTEROC_NMP_100mL",
          "CALIDAD_ENTEROC",
          "OD_PORC",
          "CALIDAD_OD_PORC",
          "OD_PORC_SUP",
          "CALIDAD_OD_PORC_SUP",
          "OD_PORC_MED",
          "CALIDAD_OD_PORC_MED",
          "OD_PORC_FON",
          "CALIDAD_OD_PORC_FON",
          "TOX_D_48_UT",
          "CALIDAD_TOX_D_48",
          "TOX_V_15_UT",
          "CALIDAD_TOX_V_15",
          "TOX_D_48_SUP_UT",
          "CALIDAD TOX_D_48_SUP",
          "TOX_D_48_FON_UT",
          "CALIDAD_TOX_D_48_FON",
          "TOX_FIS_SUP_15_UT",
          "CALIDAD_TOX_FIS_SUP_15",
          "TOX_FIS_FON_15_UT",
          "CALIDAD_TOX_FIS_FON_15",
          "SEMAFORO",
          "CONTAMINANTES",
          "CUMPLE_CON_DBO",
          "CUMPLE_CON_DQO",
          "CUMPLE_CON_SST",
          "CUMPLE_CON_CF",
          "CUMPLE_CON_E_COLI",
          "CUMPLE_CON_ENTEROC",
          "CUMPLE_CON_OD",
          "CUMPLE_CON_TOX",
          "GRUPO"
         ],
         "y": [
          3493,
          3493,
          3493,
          3493,
          3493,
          3492,
          3479,
          3493,
          3479,
          3493,
          3493,
          3493,
          2581,
          2581,
          2581,
          2581,
          3489,
          3489,
          2582,
          2582,
          2582,
          2582,
          904,
          904,
          1797,
          1797,
          1619,
          1619,
          487,
          487,
          946,
          946,
          1816,
          1816,
          1819,
          1819,
          762,
          762,
          0,
          0,
          1674,
          1674,
          0,
          0,
          3493,
          2226,
          3493,
          3493,
          3493,
          3493,
          3493,
          3493,
          3493,
          3493,
          3493
         ]
        }
       ],
       "layout": {
        "template": {
         "data": {
          "bar": [
           {
            "error_x": {
             "color": "#2a3f5f"
            },
            "error_y": {
             "color": "#2a3f5f"
            },
            "marker": {
             "line": {
              "color": "#E5ECF6",
              "width": 0.5
             },
             "pattern": {
              "fillmode": "overlay",
              "size": 10,
              "solidity": 0.2
             }
            },
            "type": "bar"
           }
          ],
          "barpolar": [
           {
            "marker": {
             "line": {
              "color": "#E5ECF6",
              "width": 0.5
             },
             "pattern": {
              "fillmode": "overlay",
              "size": 10,
              "solidity": 0.2
             }
            },
            "type": "barpolar"
           }
          ],
          "carpet": [
           {
            "aaxis": {
             "endlinecolor": "#2a3f5f",
             "gridcolor": "white",
             "linecolor": "white",
             "minorgridcolor": "white",
             "startlinecolor": "#2a3f5f"
            },
            "baxis": {
             "endlinecolor": "#2a3f5f",
             "gridcolor": "white",
             "linecolor": "white",
             "minorgridcolor": "white",
             "startlinecolor": "#2a3f5f"
            },
            "type": "carpet"
           }
          ],
          "choropleth": [
           {
            "colorbar": {
             "outlinewidth": 0,
             "ticks": ""
            },
            "type": "choropleth"
           }
          ],
          "contour": [
           {
            "colorbar": {
             "outlinewidth": 0,
             "ticks": ""
            },
            "colorscale": [
             [
              0,
              "#0d0887"
             ],
             [
              0.1111111111111111,
              "#46039f"
             ],
             [
              0.2222222222222222,
              "#7201a8"
             ],
             [
              0.3333333333333333,
              "#9c179e"
             ],
             [
              0.4444444444444444,
              "#bd3786"
             ],
             [
              0.5555555555555556,
              "#d8576b"
             ],
             [
              0.6666666666666666,
              "#ed7953"
             ],
             [
              0.7777777777777778,
              "#fb9f3a"
             ],
             [
              0.8888888888888888,
              "#fdca26"
             ],
             [
              1,
              "#f0f921"
             ]
            ],
            "type": "contour"
           }
          ],
          "contourcarpet": [
           {
            "colorbar": {
             "outlinewidth": 0,
             "ticks": ""
            },
            "type": "contourcarpet"
           }
          ],
          "heatmap": [
           {
            "colorbar": {
             "outlinewidth": 0,
             "ticks": ""
            },
            "colorscale": [
             [
              0,
              "#0d0887"
             ],
             [
              0.1111111111111111,
              "#46039f"
             ],
             [
              0.2222222222222222,
              "#7201a8"
             ],
             [
              0.3333333333333333,
              "#9c179e"
             ],
             [
              0.4444444444444444,
              "#bd3786"
             ],
             [
              0.5555555555555556,
              "#d8576b"
             ],
             [
              0.6666666666666666,
              "#ed7953"
             ],
             [
              0.7777777777777778,
              "#fb9f3a"
             ],
             [
              0.8888888888888888,
              "#fdca26"
             ],
             [
              1,
              "#f0f921"
             ]
            ],
            "type": "heatmap"
           }
          ],
          "heatmapgl": [
           {
            "colorbar": {
             "outlinewidth": 0,
             "ticks": ""
            },
            "colorscale": [
             [
              0,
              "#0d0887"
             ],
             [
              0.1111111111111111,
              "#46039f"
             ],
             [
              0.2222222222222222,
              "#7201a8"
             ],
             [
              0.3333333333333333,
              "#9c179e"
             ],
             [
              0.4444444444444444,
              "#bd3786"
             ],
             [
              0.5555555555555556,
              "#d8576b"
             ],
             [
              0.6666666666666666,
              "#ed7953"
             ],
             [
              0.7777777777777778,
              "#fb9f3a"
             ],
             [
              0.8888888888888888,
              "#fdca26"
             ],
             [
              1,
              "#f0f921"
             ]
            ],
            "type": "heatmapgl"
           }
          ],
          "histogram": [
           {
            "marker": {
             "pattern": {
              "fillmode": "overlay",
              "size": 10,
              "solidity": 0.2
             }
            },
            "type": "histogram"
           }
          ],
          "histogram2d": [
           {
            "colorbar": {
             "outlinewidth": 0,
             "ticks": ""
            },
            "colorscale": [
             [
              0,
              "#0d0887"
             ],
             [
              0.1111111111111111,
              "#46039f"
             ],
             [
              0.2222222222222222,
              "#7201a8"
             ],
             [
              0.3333333333333333,
              "#9c179e"
             ],
             [
              0.4444444444444444,
              "#bd3786"
             ],
             [
              0.5555555555555556,
              "#d8576b"
             ],
             [
              0.6666666666666666,
              "#ed7953"
             ],
             [
              0.7777777777777778,
              "#fb9f3a"
             ],
             [
              0.8888888888888888,
              "#fdca26"
             ],
             [
              1,
              "#f0f921"
             ]
            ],
            "type": "histogram2d"
           }
          ],
          "histogram2dcontour": [
           {
            "colorbar": {
             "outlinewidth": 0,
             "ticks": ""
            },
            "colorscale": [
             [
              0,
              "#0d0887"
             ],
             [
              0.1111111111111111,
              "#46039f"
             ],
             [
              0.2222222222222222,
              "#7201a8"
             ],
             [
              0.3333333333333333,
              "#9c179e"
             ],
             [
              0.4444444444444444,
              "#bd3786"
             ],
             [
              0.5555555555555556,
              "#d8576b"
             ],
             [
              0.6666666666666666,
              "#ed7953"
             ],
             [
              0.7777777777777778,
              "#fb9f3a"
             ],
             [
              0.8888888888888888,
              "#fdca26"
             ],
             [
              1,
              "#f0f921"
             ]
            ],
            "type": "histogram2dcontour"
           }
          ],
          "mesh3d": [
           {
            "colorbar": {
             "outlinewidth": 0,
             "ticks": ""
            },
            "type": "mesh3d"
           }
          ],
          "parcoords": [
           {
            "line": {
             "colorbar": {
              "outlinewidth": 0,
              "ticks": ""
             }
            },
            "type": "parcoords"
           }
          ],
          "pie": [
           {
            "automargin": true,
            "type": "pie"
           }
          ],
          "scatter": [
           {
            "fillpattern": {
             "fillmode": "overlay",
             "size": 10,
             "solidity": 0.2
            },
            "type": "scatter"
           }
          ],
          "scatter3d": [
           {
            "line": {
             "colorbar": {
              "outlinewidth": 0,
              "ticks": ""
             }
            },
            "marker": {
             "colorbar": {
              "outlinewidth": 0,
              "ticks": ""
             }
            },
            "type": "scatter3d"
           }
          ],
          "scattercarpet": [
           {
            "marker": {
             "colorbar": {
              "outlinewidth": 0,
              "ticks": ""
             }
            },
            "type": "scattercarpet"
           }
          ],
          "scattergeo": [
           {
            "marker": {
             "colorbar": {
              "outlinewidth": 0,
              "ticks": ""
             }
            },
            "type": "scattergeo"
           }
          ],
          "scattergl": [
           {
            "marker": {
             "colorbar": {
              "outlinewidth": 0,
              "ticks": ""
             }
            },
            "type": "scattergl"
           }
          ],
          "scattermapbox": [
           {
            "marker": {
             "colorbar": {
              "outlinewidth": 0,
              "ticks": ""
             }
            },
            "type": "scattermapbox"
           }
          ],
          "scatterpolar": [
           {
            "marker": {
             "colorbar": {
              "outlinewidth": 0,
              "ticks": ""
             }
            },
            "type": "scatterpolar"
           }
          ],
          "scatterpolargl": [
           {
            "marker": {
             "colorbar": {
              "outlinewidth": 0,
              "ticks": ""
             }
            },
            "type": "scatterpolargl"
           }
          ],
          "scatterternary": [
           {
            "marker": {
             "colorbar": {
              "outlinewidth": 0,
              "ticks": ""
             }
            },
            "type": "scatterternary"
           }
          ],
          "surface": [
           {
            "colorbar": {
             "outlinewidth": 0,
             "ticks": ""
            },
            "colorscale": [
             [
              0,
              "#0d0887"
             ],
             [
              0.1111111111111111,
              "#46039f"
             ],
             [
              0.2222222222222222,
              "#7201a8"
             ],
             [
              0.3333333333333333,
              "#9c179e"
             ],
             [
              0.4444444444444444,
              "#bd3786"
             ],
             [
              0.5555555555555556,
              "#d8576b"
             ],
             [
              0.6666666666666666,
              "#ed7953"
             ],
             [
              0.7777777777777778,
              "#fb9f3a"
             ],
             [
              0.8888888888888888,
              "#fdca26"
             ],
             [
              1,
              "#f0f921"
             ]
            ],
            "type": "surface"
           }
          ],
          "table": [
           {
            "cells": {
             "fill": {
              "color": "#EBF0F8"
             },
             "line": {
              "color": "white"
             }
            },
            "header": {
             "fill": {
              "color": "#C8D4E3"
             },
             "line": {
              "color": "white"
             }
            },
            "type": "table"
           }
          ]
         },
         "layout": {
          "annotationdefaults": {
           "arrowcolor": "#2a3f5f",
           "arrowhead": 0,
           "arrowwidth": 1
          },
          "autotypenumbers": "strict",
          "coloraxis": {
           "colorbar": {
            "outlinewidth": 0,
            "ticks": ""
           }
          },
          "colorscale": {
           "diverging": [
            [
             0,
             "#8e0152"
            ],
            [
             0.1,
             "#c51b7d"
            ],
            [
             0.2,
             "#de77ae"
            ],
            [
             0.3,
             "#f1b6da"
            ],
            [
             0.4,
             "#fde0ef"
            ],
            [
             0.5,
             "#f7f7f7"
            ],
            [
             0.6,
             "#e6f5d0"
            ],
            [
             0.7,
             "#b8e186"
            ],
            [
             0.8,
             "#7fbc41"
            ],
            [
             0.9,
             "#4d9221"
            ],
            [
             1,
             "#276419"
            ]
           ],
           "sequential": [
            [
             0,
             "#0d0887"
            ],
            [
             0.1111111111111111,
             "#46039f"
            ],
            [
             0.2222222222222222,
             "#7201a8"
            ],
            [
             0.3333333333333333,
             "#9c179e"
            ],
            [
             0.4444444444444444,
             "#bd3786"
            ],
            [
             0.5555555555555556,
             "#d8576b"
            ],
            [
             0.6666666666666666,
             "#ed7953"
            ],
            [
             0.7777777777777778,
             "#fb9f3a"
            ],
            [
             0.8888888888888888,
             "#fdca26"
            ],
            [
             1,
             "#f0f921"
            ]
           ],
           "sequentialminus": [
            [
             0,
             "#0d0887"
            ],
            [
             0.1111111111111111,
             "#46039f"
            ],
            [
             0.2222222222222222,
             "#7201a8"
            ],
            [
             0.3333333333333333,
             "#9c179e"
            ],
            [
             0.4444444444444444,
             "#bd3786"
            ],
            [
             0.5555555555555556,
             "#d8576b"
            ],
            [
             0.6666666666666666,
             "#ed7953"
            ],
            [
             0.7777777777777778,
             "#fb9f3a"
            ],
            [
             0.8888888888888888,
             "#fdca26"
            ],
            [
             1,
             "#f0f921"
            ]
           ]
          },
          "colorway": [
           "#636efa",
           "#EF553B",
           "#00cc96",
           "#ab63fa",
           "#FFA15A",
           "#19d3f3",
           "#FF6692",
           "#B6E880",
           "#FF97FF",
           "#FECB52"
          ],
          "font": {
           "color": "#2a3f5f"
          },
          "geo": {
           "bgcolor": "white",
           "lakecolor": "white",
           "landcolor": "#E5ECF6",
           "showlakes": true,
           "showland": true,
           "subunitcolor": "white"
          },
          "hoverlabel": {
           "align": "left"
          },
          "hovermode": "closest",
          "mapbox": {
           "style": "light"
          },
          "paper_bgcolor": "white",
          "plot_bgcolor": "#E5ECF6",
          "polar": {
           "angularaxis": {
            "gridcolor": "white",
            "linecolor": "white",
            "ticks": ""
           },
           "bgcolor": "#E5ECF6",
           "radialaxis": {
            "gridcolor": "white",
            "linecolor": "white",
            "ticks": ""
           }
          },
          "scene": {
           "xaxis": {
            "backgroundcolor": "#E5ECF6",
            "gridcolor": "white",
            "gridwidth": 2,
            "linecolor": "white",
            "showbackground": true,
            "ticks": "",
            "zerolinecolor": "white"
           },
           "yaxis": {
            "backgroundcolor": "#E5ECF6",
            "gridcolor": "white",
            "gridwidth": 2,
            "linecolor": "white",
            "showbackground": true,
            "ticks": "",
            "zerolinecolor": "white"
           },
           "zaxis": {
            "backgroundcolor": "#E5ECF6",
            "gridcolor": "white",
            "gridwidth": 2,
            "linecolor": "white",
            "showbackground": true,
            "ticks": "",
            "zerolinecolor": "white"
           }
          },
          "shapedefaults": {
           "line": {
            "color": "#2a3f5f"
           }
          },
          "ternary": {
           "aaxis": {
            "gridcolor": "white",
            "linecolor": "white",
            "ticks": ""
           },
           "baxis": {
            "gridcolor": "white",
            "linecolor": "white",
            "ticks": ""
           },
           "bgcolor": "#E5ECF6",
           "caxis": {
            "gridcolor": "white",
            "linecolor": "white",
            "ticks": ""
           }
          },
          "title": {
           "x": 0.05
          },
          "xaxis": {
           "automargin": true,
           "gridcolor": "white",
           "linecolor": "white",
           "ticks": "",
           "title": {
            "standoff": 15
           },
           "zerolinecolor": "white",
           "zerolinewidth": 2
          },
          "yaxis": {
           "automargin": true,
           "gridcolor": "white",
           "linecolor": "white",
           "ticks": "",
           "title": {
            "standoff": 15
           },
           "zerolinecolor": "white",
           "zerolinewidth": 2
          }
         }
        },
        "title": {
         "text": "Valores faltantes"
        }
       }
      }
     },
     "metadata": {},
     "output_type": "display_data"
    }
   ],
   "source": [
    "null_cols = pd.DataFrame(len(df_subterraneas['CLAVE']) - df_subterraneas.isnull().sum(), columns = ['Count'])\n",
    "\n",
    "trace = go.Bar(x = null_cols.index, y = null_cols['Count'] ,opacity = 0.8, marker=dict(color = 'lightgrey',\n",
    "        line=dict(color='#000000',width=1.5)))\n",
    "\n",
    "layout = dict(title =  \"Valores faltantes\")\n",
    "                    \n",
    "fig = dict(data = [trace], layout=layout)\n",
    "py.iplot(fig)"
   ]
  },
  {
   "cell_type": "code",
   "execution_count": 14,
   "metadata": {},
   "outputs": [
    {
     "name": "stdout",
     "output_type": "stream",
     "text": [
      "<class 'pandas.core.frame.DataFrame'>\n",
      "Int64Index: 3493 entries, 0 to 3492\n",
      "Data columns (total 55 columns):\n",
      " #   Column                  Non-Null Count  Dtype  \n",
      "---  ------                  --------------  -----  \n",
      " 0   CLAVE                   3493 non-null   object \n",
      " 1   SITIO                   3493 non-null   object \n",
      " 2   ORGANISMO_DE_CUENCA     3493 non-null   object \n",
      " 3   ESTADO                  3493 non-null   object \n",
      " 4   MUNICIPIO               3493 non-null   object \n",
      " 5   CUENCA                  3492 non-null   object \n",
      " 6   CUERPO DE AGUA          3479 non-null   object \n",
      " 7   TIPO                    3493 non-null   object \n",
      " 8   SUBTIPO                 3479 non-null   object \n",
      " 9   LONGITUD                3493 non-null   float64\n",
      " 10  LATITUD                 3493 non-null   float64\n",
      " 11  PERIODO                 3493 non-null   float64\n",
      " 12  DBO_mg/L                2581 non-null   object \n",
      " 13  CALIDAD_DBO             2581 non-null   object \n",
      " 14  DQO_mg/L                2581 non-null   object \n",
      " 15  CALIDAD_DQO             2581 non-null   object \n",
      " 16  SST_mg/L                3489 non-null   object \n",
      " 17  CALIDAD_SST             3489 non-null   object \n",
      " 18  COLI_FEC_NMP_100mL      2582 non-null   object \n",
      " 19  CALIDAD_COLI_FEC        2582 non-null   object \n",
      " 20  E_COLI_NMP_100mL        2582 non-null   object \n",
      " 21  CALIDAD_E_COLI          2582 non-null   object \n",
      " 22  ENTEROC_NMP_100mL       904 non-null    object \n",
      " 23  CALIDAD_ENTEROC         904 non-null    object \n",
      " 24  OD_PORC                 1797 non-null   object \n",
      " 25  CALIDAD_OD_PORC         1797 non-null   object \n",
      " 26  OD_PORC_SUP             1619 non-null   object \n",
      " 27  CALIDAD_OD_PORC_SUP     1619 non-null   object \n",
      " 28  OD_PORC_MED             487 non-null    object \n",
      " 29  CALIDAD_OD_PORC_MED     487 non-null    object \n",
      " 30  OD_PORC_FON             946 non-null    object \n",
      " 31  CALIDAD_OD_PORC_FON     946 non-null    object \n",
      " 32  TOX_D_48_UT             1816 non-null   object \n",
      " 33  CALIDAD_TOX_D_48        1816 non-null   object \n",
      " 34  TOX_V_15_UT             1819 non-null   object \n",
      " 35  CALIDAD_TOX_V_15        1819 non-null   object \n",
      " 36  TOX_D_48_SUP_UT         762 non-null    object \n",
      " 37  CALIDAD TOX_D_48_SUP    762 non-null    object \n",
      " 38  TOX_D_48_FON_UT         0 non-null      float64\n",
      " 39  CALIDAD_TOX_D_48_FON    0 non-null      float64\n",
      " 40  TOX_FIS_SUP_15_UT       1674 non-null   object \n",
      " 41  CALIDAD_TOX_FIS_SUP_15  1674 non-null   object \n",
      " 42  TOX_FIS_FON_15_UT       0 non-null      float64\n",
      " 43  CALIDAD_TOX_FIS_FON_15  0 non-null      float64\n",
      " 44  SEMAFORO                3493 non-null   object \n",
      " 45  CONTAMINANTES           2226 non-null   object \n",
      " 46  CUMPLE_CON_DBO          3493 non-null   object \n",
      " 47  CUMPLE_CON_DQO          3493 non-null   object \n",
      " 48  CUMPLE_CON_SST          3493 non-null   object \n",
      " 49  CUMPLE_CON_CF           3493 non-null   object \n",
      " 50  CUMPLE_CON_E_COLI       3493 non-null   object \n",
      " 51  CUMPLE_CON_ENTEROC      3493 non-null   object \n",
      " 52  CUMPLE_CON_OD           3493 non-null   object \n",
      " 53  CUMPLE_CON_TOX          3493 non-null   object \n",
      " 54  GRUPO                   3493 non-null   object \n",
      "dtypes: float64(7), object(48)\n",
      "memory usage: 1.5+ MB\n"
     ]
    }
   ],
   "source": [
    "df_subterraneas.info()"
   ]
  },
  {
   "cell_type": "markdown",
   "metadata": {},
   "source": [
    "Se puede observar que:\n",
    " * Las columnas CUENCA,CUERPO DE AGUA, SUBTIPO tienen pocos valores nulos\n",
    " * Las columnas TOX_D_48_FON_UT, CALIDAD_TOX_D_48_FON, TOX_FIS_FON_15_UT, CALIDAD_TOX_FIS_FON_15 tienen todos sus valores nulos\n",
    " * Las columnas DBO_mg/L, CALIDAD_DBO, DQO_mg/L, CALIDAD_DQO, SST_mg/L, CALIDAD_SST, COLI_FEC_NMP_100mL, CALIDAD_COLI_FEC, E_COLI_NMP_100mL, CALIDAD_E_COLI, ENTEROC_NMP_100mL, CALIDAD_ENTEROC, OD_PORC, CALIDAD_OD_PORC, OD_PORC_SUP, CALIDAD_OD_PORC_SUP, OD_PORC_MED, CALIDAD_OD_PORC_MED, OD_PORC_FON, CALIDAD_OD_PORC_FON, TOX_D_48_UT, CALIDAD_TOX_D_48, TOX_V_15_UT, CALIDAD_TOX_V_15, TOX_D_48_SUP_UT, CALIDAD TOX_D_48_SUP, TOX_FIS_SUP_15_UT, CALIDAD_TOX_FIS_SUP_15 contienen valores Nulos\n",
    " * La columna CONTAMINANTES contiene valores Nulos, sin embargo se debe a que este es un listado de contaminantes para cada observacion y si no se observan contaminantes debe quedar vacio\n",
    " "
   ]
  },
  {
   "cell_type": "markdown",
   "metadata": {},
   "source": [
    "## <a id='1.4'>1.4. Descartar features inservibles</a>"
   ]
  },
  {
   "cell_type": "code",
   "execution_count": 15,
   "metadata": {},
   "outputs": [],
   "source": [
    "df_subterraneas.dropna(axis=1 , how=\"all\", inplace=True)"
   ]
  },
  {
   "cell_type": "markdown",
   "metadata": {},
   "source": [
    "## <a id='1.5'>1.5. Ajustar tipo de dato</a>"
   ]
  },
  {
   "cell_type": "markdown",
   "metadata": {},
   "source": [
    "Teniendo en cuenta que la mayoria de columnas con metricas numericas tienen tipo de dato object, se debe hacer limpieza de estas columnas para que tengan tipo de dato numerico"
   ]
  },
  {
   "cell_type": "code",
   "execution_count": 16,
   "metadata": {},
   "outputs": [],
   "source": [
    "metric_cols = ['COLI_FEC_NMP_100mL','E_COLI_NMP_100mL','ENTEROC_NMP_100mL','OD_PORC','OD_PORC_FON','OD_PORC_MED','OD_PORC_SUP','SST_mg/L','TOX_D_48_SUP_UT','TOX_D_48_UT','TOX_FIS_SUP_15_UT','TOX_V_15_UT','DBO_mg/L','DQO_mg/L']"
   ]
  },
  {
   "cell_type": "code",
   "execution_count": 17,
   "metadata": {},
   "outputs": [],
   "source": [
    "val_to_replace = {\"<\":\"\"}\n",
    "                  \n",
    "for col in metric_cols:\n",
    "    for key,value in val_to_replace.items():\n",
    "        \n",
    "        df_subterraneas[col] = df_subterraneas[col].fillna(np.nan).astype(\"str\").str.replace(key,value).astype(float)\n",
    "\n",
    "\n"
   ]
  },
  {
   "cell_type": "code",
   "execution_count": 18,
   "metadata": {},
   "outputs": [
    {
     "name": "stdout",
     "output_type": "stream",
     "text": [
      "<class 'pandas.core.frame.DataFrame'>\n",
      "Int64Index: 3493 entries, 0 to 3492\n",
      "Data columns (total 51 columns):\n",
      " #   Column                  Non-Null Count  Dtype  \n",
      "---  ------                  --------------  -----  \n",
      " 0   CLAVE                   3493 non-null   object \n",
      " 1   SITIO                   3493 non-null   object \n",
      " 2   ORGANISMO_DE_CUENCA     3493 non-null   object \n",
      " 3   ESTADO                  3493 non-null   object \n",
      " 4   MUNICIPIO               3493 non-null   object \n",
      " 5   CUENCA                  3492 non-null   object \n",
      " 6   CUERPO DE AGUA          3479 non-null   object \n",
      " 7   TIPO                    3493 non-null   object \n",
      " 8   SUBTIPO                 3479 non-null   object \n",
      " 9   LONGITUD                3493 non-null   float64\n",
      " 10  LATITUD                 3493 non-null   float64\n",
      " 11  PERIODO                 3493 non-null   float64\n",
      " 12  DBO_mg/L                2581 non-null   float64\n",
      " 13  CALIDAD_DBO             2581 non-null   object \n",
      " 14  DQO_mg/L                2581 non-null   float64\n",
      " 15  CALIDAD_DQO             2581 non-null   object \n",
      " 16  SST_mg/L                3489 non-null   float64\n",
      " 17  CALIDAD_SST             3489 non-null   object \n",
      " 18  COLI_FEC_NMP_100mL      2582 non-null   float64\n",
      " 19  CALIDAD_COLI_FEC        2582 non-null   object \n",
      " 20  E_COLI_NMP_100mL        2582 non-null   float64\n",
      " 21  CALIDAD_E_COLI          2582 non-null   object \n",
      " 22  ENTEROC_NMP_100mL       904 non-null    float64\n",
      " 23  CALIDAD_ENTEROC         904 non-null    object \n",
      " 24  OD_PORC                 1797 non-null   float64\n",
      " 25  CALIDAD_OD_PORC         1797 non-null   object \n",
      " 26  OD_PORC_SUP             1619 non-null   float64\n",
      " 27  CALIDAD_OD_PORC_SUP     1619 non-null   object \n",
      " 28  OD_PORC_MED             487 non-null    float64\n",
      " 29  CALIDAD_OD_PORC_MED     487 non-null    object \n",
      " 30  OD_PORC_FON             946 non-null    float64\n",
      " 31  CALIDAD_OD_PORC_FON     946 non-null    object \n",
      " 32  TOX_D_48_UT             1816 non-null   float64\n",
      " 33  CALIDAD_TOX_D_48        1816 non-null   object \n",
      " 34  TOX_V_15_UT             1819 non-null   float64\n",
      " 35  CALIDAD_TOX_V_15        1819 non-null   object \n",
      " 36  TOX_D_48_SUP_UT         762 non-null    float64\n",
      " 37  CALIDAD TOX_D_48_SUP    762 non-null    object \n",
      " 38  TOX_FIS_SUP_15_UT       1674 non-null   float64\n",
      " 39  CALIDAD_TOX_FIS_SUP_15  1674 non-null   object \n",
      " 40  SEMAFORO                3493 non-null   object \n",
      " 41  CONTAMINANTES           2226 non-null   object \n",
      " 42  CUMPLE_CON_DBO          3493 non-null   object \n",
      " 43  CUMPLE_CON_DQO          3493 non-null   object \n",
      " 44  CUMPLE_CON_SST          3493 non-null   object \n",
      " 45  CUMPLE_CON_CF           3493 non-null   object \n",
      " 46  CUMPLE_CON_E_COLI       3493 non-null   object \n",
      " 47  CUMPLE_CON_ENTEROC      3493 non-null   object \n",
      " 48  CUMPLE_CON_OD           3493 non-null   object \n",
      " 49  CUMPLE_CON_TOX          3493 non-null   object \n",
      " 50  GRUPO                   3493 non-null   object \n",
      "dtypes: float64(17), object(34)\n",
      "memory usage: 1.4+ MB\n"
     ]
    }
   ],
   "source": [
    "df_subterraneas.info()"
   ]
  },
  {
   "cell_type": "markdown",
   "metadata": {},
   "source": [
    "# <a id='2'>2. Exploratory Data Analysis (EDA)</a>"
   ]
  },
  {
   "cell_type": "markdown",
   "metadata": {},
   "source": [
    "Para las columnas de medidas numericas que se tienen valores nulos se podria reemplazar estos valores con la media de sus respectivas columnas, o con la el promedio con respecto al tipo de contaminacion, sin embargo de acuerdo al estudio del negocio consideramos que no es adecuado imputar valores en las medidas que no fueron registradas, ya que posiblemente el negocio no realizo las pruebas para dichas metricas y el hecho de imputar un valor puede afectar el diagnostico de la clase en el semaforo"
   ]
  },
  {
   "cell_type": "code",
   "execution_count": 19,
   "metadata": {},
   "outputs": [
    {
     "data": {
      "text/html": [
       "<div>\n",
       "<style scoped>\n",
       "    .dataframe tbody tr th:only-of-type {\n",
       "        vertical-align: middle;\n",
       "    }\n",
       "\n",
       "    .dataframe tbody tr th {\n",
       "        vertical-align: top;\n",
       "    }\n",
       "\n",
       "    .dataframe thead th {\n",
       "        text-align: right;\n",
       "    }\n",
       "</style>\n",
       "<table border=\"1\" class=\"dataframe\">\n",
       "  <thead>\n",
       "    <tr style=\"text-align: right;\">\n",
       "      <th></th>\n",
       "      <th>CLAVE</th>\n",
       "      <th>SITIO</th>\n",
       "      <th>ORGANISMO_DE_CUENCA</th>\n",
       "      <th>ESTADO</th>\n",
       "      <th>MUNICIPIO</th>\n",
       "      <th>CUENCA</th>\n",
       "      <th>CUERPO DE AGUA</th>\n",
       "      <th>TIPO</th>\n",
       "      <th>SUBTIPO</th>\n",
       "      <th>LONGITUD</th>\n",
       "      <th>...</th>\n",
       "      <th>CONTAMINANTES</th>\n",
       "      <th>CUMPLE_CON_DBO</th>\n",
       "      <th>CUMPLE_CON_DQO</th>\n",
       "      <th>CUMPLE_CON_SST</th>\n",
       "      <th>CUMPLE_CON_CF</th>\n",
       "      <th>CUMPLE_CON_E_COLI</th>\n",
       "      <th>CUMPLE_CON_ENTEROC</th>\n",
       "      <th>CUMPLE_CON_OD</th>\n",
       "      <th>CUMPLE_CON_TOX</th>\n",
       "      <th>GRUPO</th>\n",
       "    </tr>\n",
       "  </thead>\n",
       "  <tbody>\n",
       "    <tr>\n",
       "      <th>0</th>\n",
       "      <td>DLAGU8</td>\n",
       "      <td>PRESA EL SAUCILLO 100M AGUAS ARRIBA DE LA CORTINA</td>\n",
       "      <td>LERMA SANTIAGO PACIFICO</td>\n",
       "      <td>AGUASCALIENTES</td>\n",
       "      <td>RINCON DE ROMOS</td>\n",
       "      <td>RIO SAN PEDRO</td>\n",
       "      <td>PRESA EL SAUCILLO</td>\n",
       "      <td>LENTICO</td>\n",
       "      <td>PRESA</td>\n",
       "      <td>-102.33911</td>\n",
       "      <td>...</td>\n",
       "      <td>DQO,CF,</td>\n",
       "      <td>SI</td>\n",
       "      <td>NO</td>\n",
       "      <td>SI</td>\n",
       "      <td>NO</td>\n",
       "      <td>SI</td>\n",
       "      <td>ND</td>\n",
       "      <td>SI</td>\n",
       "      <td>SI</td>\n",
       "      <td>LENTICO</td>\n",
       "    </tr>\n",
       "    <tr>\n",
       "      <th>1</th>\n",
       "      <td>DLBAJ100</td>\n",
       "      <td>LOS CABOS SEG 22, 2 ISA10B</td>\n",
       "      <td>PENINSULA DE BAJA CALIFORNIA</td>\n",
       "      <td>BAJA CALIFORNIA SUR</td>\n",
       "      <td>LOS CABOS</td>\n",
       "      <td>SAN JOSE DEL CABO</td>\n",
       "      <td>OCEANO PACIFICO</td>\n",
       "      <td>COSTERO</td>\n",
       "      <td>OCEANO-MAR</td>\n",
       "      <td>-109.84290</td>\n",
       "      <td>...</td>\n",
       "      <td>NaN</td>\n",
       "      <td>ND</td>\n",
       "      <td>ND</td>\n",
       "      <td>SI</td>\n",
       "      <td>ND</td>\n",
       "      <td>ND</td>\n",
       "      <td>SI</td>\n",
       "      <td>SI</td>\n",
       "      <td>SI</td>\n",
       "      <td>COSTERO</td>\n",
       "    </tr>\n",
       "  </tbody>\n",
       "</table>\n",
       "<p>2 rows × 51 columns</p>\n",
       "</div>"
      ],
      "text/plain": [
       "      CLAVE                                              SITIO  \\\n",
       "0    DLAGU8  PRESA EL SAUCILLO 100M AGUAS ARRIBA DE LA CORTINA   \n",
       "1  DLBAJ100                         LOS CABOS SEG 22, 2 ISA10B   \n",
       "\n",
       "            ORGANISMO_DE_CUENCA               ESTADO        MUNICIPIO  \\\n",
       "0       LERMA SANTIAGO PACIFICO       AGUASCALIENTES  RINCON DE ROMOS   \n",
       "1  PENINSULA DE BAJA CALIFORNIA  BAJA CALIFORNIA SUR        LOS CABOS   \n",
       "\n",
       "              CUENCA     CUERPO DE AGUA     TIPO     SUBTIPO   LONGITUD  ...  \\\n",
       "0      RIO SAN PEDRO  PRESA EL SAUCILLO  LENTICO       PRESA -102.33911  ...   \n",
       "1  SAN JOSE DEL CABO    OCEANO PACIFICO  COSTERO  OCEANO-MAR -109.84290  ...   \n",
       "\n",
       "   CONTAMINANTES  CUMPLE_CON_DBO  CUMPLE_CON_DQO CUMPLE_CON_SST  \\\n",
       "0        DQO,CF,              SI              NO             SI   \n",
       "1            NaN              ND              ND             SI   \n",
       "\n",
       "   CUMPLE_CON_CF CUMPLE_CON_E_COLI  CUMPLE_CON_ENTEROC CUMPLE_CON_OD  \\\n",
       "0             NO                SI                  ND            SI   \n",
       "1             ND                ND                  SI            SI   \n",
       "\n",
       "   CUMPLE_CON_TOX    GRUPO  \n",
       "0              SI  LENTICO  \n",
       "1              SI  COSTERO  \n",
       "\n",
       "[2 rows x 51 columns]"
      ]
     },
     "execution_count": 19,
     "metadata": {},
     "output_type": "execute_result"
    }
   ],
   "source": [
    "df_subterraneas.head(2)"
   ]
  },
  {
   "cell_type": "code",
   "execution_count": 20,
   "metadata": {},
   "outputs": [
    {
     "data": {
      "text/html": [
       "<div>\n",
       "<style scoped>\n",
       "    .dataframe tbody tr th:only-of-type {\n",
       "        vertical-align: middle;\n",
       "    }\n",
       "\n",
       "    .dataframe tbody tr th {\n",
       "        vertical-align: top;\n",
       "    }\n",
       "\n",
       "    .dataframe thead th {\n",
       "        text-align: right;\n",
       "    }\n",
       "</style>\n",
       "<table border=\"1\" class=\"dataframe\">\n",
       "  <thead>\n",
       "    <tr style=\"text-align: right;\">\n",
       "      <th></th>\n",
       "      <th>LONGITUD</th>\n",
       "      <th>LATITUD</th>\n",
       "      <th>PERIODO</th>\n",
       "      <th>DBO_mg/L</th>\n",
       "      <th>DQO_mg/L</th>\n",
       "      <th>SST_mg/L</th>\n",
       "      <th>COLI_FEC_NMP_100mL</th>\n",
       "      <th>E_COLI_NMP_100mL</th>\n",
       "      <th>ENTEROC_NMP_100mL</th>\n",
       "      <th>OD_PORC</th>\n",
       "      <th>OD_PORC_SUP</th>\n",
       "      <th>OD_PORC_MED</th>\n",
       "      <th>OD_PORC_FON</th>\n",
       "      <th>TOX_D_48_UT</th>\n",
       "      <th>TOX_V_15_UT</th>\n",
       "      <th>TOX_D_48_SUP_UT</th>\n",
       "      <th>TOX_FIS_SUP_15_UT</th>\n",
       "    </tr>\n",
       "  </thead>\n",
       "  <tbody>\n",
       "    <tr>\n",
       "      <th>count</th>\n",
       "      <td>3493.000000</td>\n",
       "      <td>3493.000000</td>\n",
       "      <td>3493.0</td>\n",
       "      <td>2581.000000</td>\n",
       "      <td>2581.000000</td>\n",
       "      <td>3489.000000</td>\n",
       "      <td>2.582000e+03</td>\n",
       "      <td>2.582000e+03</td>\n",
       "      <td>904.000000</td>\n",
       "      <td>1797.000000</td>\n",
       "      <td>1619.000000</td>\n",
       "      <td>487.000000</td>\n",
       "      <td>946.000000</td>\n",
       "      <td>1816.000000</td>\n",
       "      <td>1819.000000</td>\n",
       "      <td>762.000000</td>\n",
       "      <td>1674.000000</td>\n",
       "    </tr>\n",
       "    <tr>\n",
       "      <th>mean</th>\n",
       "      <td>-100.359969</td>\n",
       "      <td>21.046992</td>\n",
       "      <td>2020.0</td>\n",
       "      <td>16.886481</td>\n",
       "      <td>64.332985</td>\n",
       "      <td>102.148144</td>\n",
       "      <td>9.568881e+04</td>\n",
       "      <td>7.933769e+04</td>\n",
       "      <td>1086.709845</td>\n",
       "      <td>66.840289</td>\n",
       "      <td>81.459975</td>\n",
       "      <td>71.590965</td>\n",
       "      <td>66.869239</td>\n",
       "      <td>1.061622</td>\n",
       "      <td>1.795665</td>\n",
       "      <td>1.054646</td>\n",
       "      <td>1.024892</td>\n",
       "    </tr>\n",
       "    <tr>\n",
       "      <th>std</th>\n",
       "      <td>6.122773</td>\n",
       "      <td>3.893696</td>\n",
       "      <td>0.0</td>\n",
       "      <td>65.140268</td>\n",
       "      <td>149.828058</td>\n",
       "      <td>441.860401</td>\n",
       "      <td>1.168887e+06</td>\n",
       "      <td>1.051334e+06</td>\n",
       "      <td>4305.913327</td>\n",
       "      <td>31.417153</td>\n",
       "      <td>28.562290</td>\n",
       "      <td>26.370102</td>\n",
       "      <td>28.197108</td>\n",
       "      <td>0.652352</td>\n",
       "      <td>6.326818</td>\n",
       "      <td>0.867567</td>\n",
       "      <td>0.319834</td>\n",
       "    </tr>\n",
       "    <tr>\n",
       "      <th>min</th>\n",
       "      <td>-117.124030</td>\n",
       "      <td>14.534910</td>\n",
       "      <td>2020.0</td>\n",
       "      <td>2.000000</td>\n",
       "      <td>10.000000</td>\n",
       "      <td>10.000000</td>\n",
       "      <td>3.000000e+00</td>\n",
       "      <td>3.000000e+00</td>\n",
       "      <td>3.000000</td>\n",
       "      <td>10.000000</td>\n",
       "      <td>10.000000</td>\n",
       "      <td>10.000000</td>\n",
       "      <td>10.000000</td>\n",
       "      <td>1.000000</td>\n",
       "      <td>1.000000</td>\n",
       "      <td>1.000000</td>\n",
       "      <td>1.000000</td>\n",
       "    </tr>\n",
       "    <tr>\n",
       "      <th>25%</th>\n",
       "      <td>-103.882310</td>\n",
       "      <td>18.396070</td>\n",
       "      <td>2020.0</td>\n",
       "      <td>2.000000</td>\n",
       "      <td>11.870000</td>\n",
       "      <td>10.000000</td>\n",
       "      <td>3.420000e+02</td>\n",
       "      <td>4.000000e+01</td>\n",
       "      <td>3.000000</td>\n",
       "      <td>44.300000</td>\n",
       "      <td>61.200000</td>\n",
       "      <td>52.400000</td>\n",
       "      <td>47.325000</td>\n",
       "      <td>1.000000</td>\n",
       "      <td>1.000000</td>\n",
       "      <td>1.000000</td>\n",
       "      <td>1.000000</td>\n",
       "    </tr>\n",
       "    <tr>\n",
       "      <th>50%</th>\n",
       "      <td>-99.795530</td>\n",
       "      <td>20.148980</td>\n",
       "      <td>2020.0</td>\n",
       "      <td>2.630000</td>\n",
       "      <td>27.010000</td>\n",
       "      <td>24.300000</td>\n",
       "      <td>2.400000e+03</td>\n",
       "      <td>4.240000e+02</td>\n",
       "      <td>3.000000</td>\n",
       "      <td>68.300000</td>\n",
       "      <td>84.100000</td>\n",
       "      <td>72.400000</td>\n",
       "      <td>67.500000</td>\n",
       "      <td>1.000000</td>\n",
       "      <td>1.000000</td>\n",
       "      <td>1.000000</td>\n",
       "      <td>1.000000</td>\n",
       "    </tr>\n",
       "    <tr>\n",
       "      <th>75%</th>\n",
       "      <td>-96.860230</td>\n",
       "      <td>22.828930</td>\n",
       "      <td>2020.0</td>\n",
       "      <td>10.000000</td>\n",
       "      <td>57.000000</td>\n",
       "      <td>57.000000</td>\n",
       "      <td>2.400000e+04</td>\n",
       "      <td>6.488000e+03</td>\n",
       "      <td>63.000000</td>\n",
       "      <td>91.600000</td>\n",
       "      <td>99.950000</td>\n",
       "      <td>91.500000</td>\n",
       "      <td>88.875000</td>\n",
       "      <td>1.000000</td>\n",
       "      <td>1.000000</td>\n",
       "      <td>1.000000</td>\n",
       "      <td>1.000000</td>\n",
       "    </tr>\n",
       "    <tr>\n",
       "      <th>max</th>\n",
       "      <td>-86.732150</td>\n",
       "      <td>32.706500</td>\n",
       "      <td>2020.0</td>\n",
       "      <td>1500.000000</td>\n",
       "      <td>2871.250000</td>\n",
       "      <td>9430.000000</td>\n",
       "      <td>2.419600e+07</td>\n",
       "      <td>2.419600e+07</td>\n",
       "      <td>24196.000000</td>\n",
       "      <td>226.100000</td>\n",
       "      <td>289.000000</td>\n",
       "      <td>133.000000</td>\n",
       "      <td>146.000000</td>\n",
       "      <td>23.949000</td>\n",
       "      <td>156.250000</td>\n",
       "      <td>21.320000</td>\n",
       "      <td>7.870000</td>\n",
       "    </tr>\n",
       "  </tbody>\n",
       "</table>\n",
       "</div>"
      ],
      "text/plain": [
       "          LONGITUD      LATITUD  PERIODO     DBO_mg/L     DQO_mg/L  \\\n",
       "count  3493.000000  3493.000000   3493.0  2581.000000  2581.000000   \n",
       "mean   -100.359969    21.046992   2020.0    16.886481    64.332985   \n",
       "std       6.122773     3.893696      0.0    65.140268   149.828058   \n",
       "min    -117.124030    14.534910   2020.0     2.000000    10.000000   \n",
       "25%    -103.882310    18.396070   2020.0     2.000000    11.870000   \n",
       "50%     -99.795530    20.148980   2020.0     2.630000    27.010000   \n",
       "75%     -96.860230    22.828930   2020.0    10.000000    57.000000   \n",
       "max     -86.732150    32.706500   2020.0  1500.000000  2871.250000   \n",
       "\n",
       "          SST_mg/L  COLI_FEC_NMP_100mL  E_COLI_NMP_100mL  ENTEROC_NMP_100mL  \\\n",
       "count  3489.000000        2.582000e+03      2.582000e+03         904.000000   \n",
       "mean    102.148144        9.568881e+04      7.933769e+04        1086.709845   \n",
       "std     441.860401        1.168887e+06      1.051334e+06        4305.913327   \n",
       "min      10.000000        3.000000e+00      3.000000e+00           3.000000   \n",
       "25%      10.000000        3.420000e+02      4.000000e+01           3.000000   \n",
       "50%      24.300000        2.400000e+03      4.240000e+02           3.000000   \n",
       "75%      57.000000        2.400000e+04      6.488000e+03          63.000000   \n",
       "max    9430.000000        2.419600e+07      2.419600e+07       24196.000000   \n",
       "\n",
       "           OD_PORC  OD_PORC_SUP  OD_PORC_MED  OD_PORC_FON  TOX_D_48_UT  \\\n",
       "count  1797.000000  1619.000000   487.000000   946.000000  1816.000000   \n",
       "mean     66.840289    81.459975    71.590965    66.869239     1.061622   \n",
       "std      31.417153    28.562290    26.370102    28.197108     0.652352   \n",
       "min      10.000000    10.000000    10.000000    10.000000     1.000000   \n",
       "25%      44.300000    61.200000    52.400000    47.325000     1.000000   \n",
       "50%      68.300000    84.100000    72.400000    67.500000     1.000000   \n",
       "75%      91.600000    99.950000    91.500000    88.875000     1.000000   \n",
       "max     226.100000   289.000000   133.000000   146.000000    23.949000   \n",
       "\n",
       "       TOX_V_15_UT  TOX_D_48_SUP_UT  TOX_FIS_SUP_15_UT  \n",
       "count  1819.000000       762.000000        1674.000000  \n",
       "mean      1.795665         1.054646           1.024892  \n",
       "std       6.326818         0.867567           0.319834  \n",
       "min       1.000000         1.000000           1.000000  \n",
       "25%       1.000000         1.000000           1.000000  \n",
       "50%       1.000000         1.000000           1.000000  \n",
       "75%       1.000000         1.000000           1.000000  \n",
       "max     156.250000        21.320000           7.870000  "
      ]
     },
     "execution_count": 20,
     "metadata": {},
     "output_type": "execute_result"
    }
   ],
   "source": [
    "df_subterraneas.describe()"
   ]
  },
  {
   "cell_type": "markdown",
   "metadata": {},
   "source": [
    "## <a id='2.1'>2.1. Distribucion de la variable objetivo</a>"
   ]
  },
  {
   "cell_type": "markdown",
   "metadata": {},
   "source": [
    "Validar el numero de valores para cada clase en SEMAFORO"
   ]
  },
  {
   "cell_type": "code",
   "execution_count": 21,
   "metadata": {},
   "outputs": [
    {
     "data": {
      "text/plain": [
       "<AxesSubplot:>"
      ]
     },
     "execution_count": 21,
     "metadata": {},
     "output_type": "execute_result"
    },
    {
     "data": {
      "image/png": "[encoded data removed]",
      "text/plain": [
       "<Figure size 432x288 with 1 Axes>"
      ]
     },
     "metadata": {
      "needs_background": "light"
     },
     "output_type": "display_data"
    }
   ],
   "source": [
    "plt.rcParams['figure.figsize'] = [5, 5]\n",
    "df_subterraneas['SEMAFORO'].value_counts().plot(kind='bar', color=['green', 'yellow', 'red'])"
   ]
  },
  {
   "cell_type": "markdown",
   "metadata": {},
   "source": [
    "## <a id='2.2'>2.2. Distribucion de las features numericas</a> "
   ]
  },
  {
   "cell_type": "code",
   "execution_count": 22,
   "metadata": {},
   "outputs": [
    {
     "name": "stdout",
     "output_type": "stream",
     "text": [
      "COLI_FEC_NMP_100mL \n",
      "\n",
      "Verde:\n",
      "\n",
      " count    544.000000\n",
      "mean     281.205882\n",
      "std      276.242590\n",
      "min        3.000000\n",
      "25%       41.000000\n",
      "50%      210.000000\n",
      "75%      430.000000\n",
      "max      991.000000\n",
      "Name: COLI_FEC_NMP_100mL, dtype: float64 \n",
      "\n",
      "Amarillo:\n",
      "\n",
      " count      1100.000000\n",
      "mean      12109.446364\n",
      "std       25081.166681\n",
      "min           3.000000\n",
      "25%        1793.000000\n",
      "50%        3873.000000\n",
      "75%       24000.000000\n",
      "max      241960.000000\n",
      "Name: COLI_FEC_NMP_100mL, dtype: float64 \n",
      "\n",
      "Rojo:\n",
      "\n",
      " count    9.380000e+02\n",
      "mean     2.490353e+05\n",
      "std      1.930221e+06\n",
      "min      3.000000e+00\n",
      "25%      4.300000e+02\n",
      "50%      1.100000e+04\n",
      "75%      2.400000e+04\n",
      "max      2.419600e+07\n",
      "Name: COLI_FEC_NMP_100mL, dtype: float64\n",
      "\n",
      "E_COLI_NMP_100mL \n",
      "\n",
      "Verde:\n",
      "\n",
      " count    544.000000\n",
      "mean      91.069853\n",
      "std      135.977177\n",
      "min        3.000000\n",
      "25%        3.000000\n",
      "50%       29.000000\n",
      "75%      124.000000\n",
      "max      750.000000\n",
      "Name: E_COLI_NMP_100mL, dtype: float64 \n",
      "\n",
      "Amarillo:\n",
      "\n",
      " count      1100.000000\n",
      "mean       6901.537273\n",
      "std       19801.218481\n",
      "min           3.000000\n",
      "25%          90.000000\n",
      "50%         959.000000\n",
      "75%        4956.000000\n",
      "max      241960.000000\n",
      "Name: E_COLI_NMP_100mL, dtype: float64 \n",
      "\n",
      "Rojo:\n",
      "\n",
      " count    9.380000e+02\n",
      "mean     2.102438e+05\n",
      "std      1.737002e+06\n",
      "min      3.000000e+00\n",
      "25%      9.000000e+01\n",
      "50%      1.530000e+03\n",
      "75%      2.400000e+04\n",
      "max      2.419600e+07\n",
      "Name: E_COLI_NMP_100mL, dtype: float64\n",
      "\n",
      "ENTEROC_NMP_100mL \n",
      "\n",
      "Verde:\n",
      "\n",
      " count    716.000000\n",
      "mean      18.582263\n",
      "std       35.641359\n",
      "min        3.000000\n",
      "25%        3.000000\n",
      "50%        3.000000\n",
      "75%       10.000000\n",
      "max      197.000000\n",
      "Name: ENTEROC_NMP_100mL, dtype: float64 \n",
      "\n",
      "Amarillo:\n",
      "\n",
      " count     35.000000\n",
      "mean      39.628571\n",
      "std       53.689787\n",
      "min        3.000000\n",
      "25%        3.000000\n",
      "50%        9.000000\n",
      "75%       63.000000\n",
      "max      161.000000\n",
      "Name: ENTEROC_NMP_100mL, dtype: float64 \n",
      "\n",
      "Rojo:\n",
      "\n",
      " count      153.000000\n",
      "mean      6324.796078\n",
      "std       8769.045841\n",
      "min         10.000000\n",
      "25%        457.000000\n",
      "50%       1376.000000\n",
      "75%       8704.000000\n",
      "max      24196.000000\n",
      "Name: ENTEROC_NMP_100mL, dtype: float64\n",
      "\n",
      "OD_PORC \n",
      "\n",
      "Verde:\n",
      "\n",
      " count    262.000000\n",
      "mean      75.425573\n",
      "std       22.419429\n",
      "min       34.800000\n",
      "25%       55.625000\n",
      "50%       71.900000\n",
      "75%       95.250000\n",
      "max      129.600000\n",
      "Name: OD_PORC, dtype: float64 \n",
      "\n",
      "Amarillo:\n",
      "\n",
      " count    879.000000\n",
      "mean      77.476428\n",
      "std       27.903925\n",
      "min       10.000000\n",
      "25%       59.350000\n",
      "50%       79.400000\n",
      "75%       96.300000\n",
      "max      226.100000\n",
      "Name: OD_PORC, dtype: float64 \n",
      "\n",
      "Rojo:\n",
      "\n",
      " count    656.000000\n",
      "mean      49.159634\n",
      "std       31.113605\n",
      "min       10.000000\n",
      "25%       22.150000\n",
      "50%       45.050000\n",
      "75%       75.325000\n",
      "max      179.500000\n",
      "Name: OD_PORC, dtype: float64\n",
      "\n",
      "OD_PORC_FON \n",
      "\n",
      "Verde:\n",
      "\n",
      " count    586.000000\n",
      "mean      74.517577\n",
      "std       21.986227\n",
      "min       30.300000\n",
      "25%       57.425000\n",
      "50%       74.800000\n",
      "75%       92.200000\n",
      "max      128.200000\n",
      "Name: OD_PORC_FON, dtype: float64 \n",
      "\n",
      "Amarillo:\n",
      "\n",
      " count    153.000000\n",
      "mean      53.175817\n",
      "std       33.475358\n",
      "min       10.000000\n",
      "25%       23.300000\n",
      "50%       40.400000\n",
      "75%       81.300000\n",
      "max      136.500000\n",
      "Name: OD_PORC_FON, dtype: float64 \n",
      "\n",
      "Rojo:\n",
      "\n",
      " count    207.000000\n",
      "mean      55.338647\n",
      "std       31.756129\n",
      "min       10.000000\n",
      "25%       32.650000\n",
      "50%       52.500000\n",
      "75%       76.000000\n",
      "max      146.000000\n",
      "Name: OD_PORC_FON, dtype: float64\n",
      "\n",
      "OD_PORC_MED \n",
      "\n",
      "Verde:\n",
      "\n",
      " count    277.000000\n",
      "mean      78.641516\n",
      "std       19.869939\n",
      "min       35.200000\n",
      "25%       64.200000\n",
      "50%       80.400000\n",
      "75%       95.100000\n",
      "max      124.300000\n",
      "Name: OD_PORC_MED, dtype: float64 \n",
      "\n",
      "Amarillo:\n",
      "\n",
      " count    102.000000\n",
      "mean      62.990196\n",
      "std       31.509155\n",
      "min       10.000000\n",
      "25%       34.000000\n",
      "50%       61.950000\n",
      "75%       88.475000\n",
      "max      133.000000\n",
      "Name: OD_PORC_MED, dtype: float64 \n",
      "\n",
      "Rojo:\n",
      "\n",
      " count    108.000000\n",
      "mean      61.630556\n",
      "std       30.059416\n",
      "min       10.000000\n",
      "25%       39.400000\n",
      "50%       63.600000\n",
      "75%       88.250000\n",
      "max      126.900000\n",
      "Name: OD_PORC_MED, dtype: float64\n",
      "\n",
      "OD_PORC_SUP \n",
      "\n",
      "Verde:\n",
      "\n",
      " count    962.000000\n",
      "mean      82.649896\n",
      "std       20.880727\n",
      "min       30.200000\n",
      "25%       66.575000\n",
      "50%       85.700000\n",
      "75%       98.800000\n",
      "max      129.100000\n",
      "Name: OD_PORC_SUP, dtype: float64 \n",
      "\n",
      "Amarillo:\n",
      "\n",
      " count    240.000000\n",
      "mean      87.246667\n",
      "std       36.961928\n",
      "min       10.000000\n",
      "25%       60.000000\n",
      "50%       89.450000\n",
      "75%      109.075000\n",
      "max      187.700000\n",
      "Name: OD_PORC_SUP, dtype: float64 \n",
      "\n",
      "Rojo:\n",
      "\n",
      " count    417.000000\n",
      "mean      75.384412\n",
      "std       36.349723\n",
      "min       10.000000\n",
      "25%       49.300000\n",
      "50%       72.800000\n",
      "75%       97.700000\n",
      "max      289.000000\n",
      "Name: OD_PORC_SUP, dtype: float64\n",
      "\n",
      "SST_mg/L \n",
      "\n",
      "Verde:\n",
      "\n",
      " count    1267.000000\n",
      "mean       24.810056\n",
      "std        21.477673\n",
      "min        10.000000\n",
      "25%        10.000000\n",
      "50%        16.000000\n",
      "75%        31.660000\n",
      "max       147.000000\n",
      "Name: SST_mg/L, dtype: float64 \n",
      "\n",
      "Amarillo:\n",
      "\n",
      " count    1135.000000\n",
      "mean       93.376443\n",
      "std       385.109968\n",
      "min        10.000000\n",
      "25%        10.000000\n",
      "50%        23.400000\n",
      "75%        68.000000\n",
      "max      9408.000000\n",
      "Name: SST_mg/L, dtype: float64 \n",
      "\n",
      "Rojo:\n",
      "\n",
      " count    1087.000000\n",
      "mean      201.451951\n",
      "std       674.343978\n",
      "min        10.000000\n",
      "25%        20.000000\n",
      "50%        44.000000\n",
      "75%       123.000000\n",
      "max      9430.000000\n",
      "Name: SST_mg/L, dtype: float64\n",
      "\n",
      "TOX_D_48_SUP_UT \n",
      "\n",
      "Verde:\n",
      "\n",
      " count    277.000000\n",
      "mean       1.011264\n",
      "std        0.105964\n",
      "min        1.000000\n",
      "25%        1.000000\n",
      "50%        1.000000\n",
      "75%        1.000000\n",
      "max        2.390000\n",
      "Name: TOX_D_48_SUP_UT, dtype: float64 \n",
      "\n",
      "Amarillo:\n",
      "\n",
      " count    211.000000\n",
      "mean       1.001137\n",
      "std        0.012292\n",
      "min        1.000000\n",
      "25%        1.000000\n",
      "50%        1.000000\n",
      "75%        1.000000\n",
      "max        1.160000\n",
      "Name: TOX_D_48_SUP_UT, dtype: float64 \n",
      "\n",
      "Rojo:\n",
      "\n",
      " count    274.000000\n",
      "mean       1.139708\n",
      "std        1.440576\n",
      "min        1.000000\n",
      "25%        1.000000\n",
      "50%        1.000000\n",
      "75%        1.000000\n",
      "max       21.320000\n",
      "Name: TOX_D_48_SUP_UT, dtype: float64\n",
      "\n",
      "TOX_D_48_UT \n",
      "\n",
      "Verde:\n",
      "\n",
      " count    267.000000\n",
      "mean       1.006513\n",
      "std        0.103997\n",
      "min        1.000000\n",
      "25%        1.000000\n",
      "50%        1.000000\n",
      "75%        1.000000\n",
      "max        2.699000\n",
      "Name: TOX_D_48_UT, dtype: float64 \n",
      "\n",
      "Amarillo:\n",
      "\n",
      " count    888.000000\n",
      "mean       1.004065\n",
      "std        0.044441\n",
      "min        1.000000\n",
      "25%        1.000000\n",
      "50%        1.000000\n",
      "75%        1.000000\n",
      "max        1.971000\n",
      "Name: TOX_D_48_UT, dtype: float64 \n",
      "\n",
      "Rojo:\n",
      "\n",
      " count    661.000000\n",
      "mean       1.161204\n",
      "std        1.071292\n",
      "min        1.000000\n",
      "25%        1.000000\n",
      "50%        1.000000\n",
      "75%        1.000000\n",
      "max       23.949000\n",
      "Name: TOX_D_48_UT, dtype: float64\n",
      "\n",
      "TOX_FIS_SUP_15_UT \n",
      "\n",
      "Verde:\n",
      "\n",
      " count    1000.0\n",
      "mean        1.0\n",
      "std         0.0\n",
      "min         1.0\n",
      "25%         1.0\n",
      "50%         1.0\n",
      "75%         1.0\n",
      "max         1.0\n",
      "Name: TOX_FIS_SUP_15_UT, dtype: float64 \n",
      "\n",
      "Amarillo:\n",
      "\n",
      " count    246.000000\n",
      "mean       1.026016\n",
      "std        0.250649\n",
      "min        1.000000\n",
      "25%        1.000000\n",
      "50%        1.000000\n",
      "75%        1.000000\n",
      "max        4.230000\n",
      "Name: TOX_FIS_SUP_15_UT, dtype: float64 \n",
      "\n",
      "Rojo:\n",
      "\n",
      " count    428.000000\n",
      "mean       1.082407\n",
      "std        0.599980\n",
      "min        1.000000\n",
      "25%        1.000000\n",
      "50%        1.000000\n",
      "75%        1.000000\n",
      "max        7.870000\n",
      "Name: TOX_FIS_SUP_15_UT, dtype: float64\n",
      "\n",
      "TOX_V_15_UT \n",
      "\n",
      "Verde:\n",
      "\n",
      " count    267.000000\n",
      "mean       1.009210\n",
      "std        0.117461\n",
      "min        1.000000\n",
      "25%        1.000000\n",
      "50%        1.000000\n",
      "75%        1.000000\n",
      "max        2.808000\n",
      "Name: TOX_V_15_UT, dtype: float64 \n",
      "\n",
      "Amarillo:\n",
      "\n",
      " count    889.0\n",
      "mean       1.0\n",
      "std        0.0\n",
      "min        1.0\n",
      "25%        1.0\n",
      "50%        1.0\n",
      "75%        1.0\n",
      "max        1.0\n",
      "Name: TOX_V_15_UT, dtype: float64 \n",
      "\n",
      "Rojo:\n",
      "\n",
      " count    663.000000\n",
      "mean       3.179268\n",
      "std       10.339494\n",
      "min        1.000000\n",
      "25%        1.000000\n",
      "50%        1.000000\n",
      "75%        1.000000\n",
      "max      156.250000\n",
      "Name: TOX_V_15_UT, dtype: float64\n",
      "\n",
      "DBO_mg/L \n",
      "\n",
      "Verde:\n",
      "\n",
      " count    543.000000\n",
      "mean       3.372192\n",
      "std        3.097493\n",
      "min        2.000000\n",
      "25%        2.000000\n",
      "50%        2.000000\n",
      "75%        2.915000\n",
      "max       21.500000\n",
      "Name: DBO_mg/L, dtype: float64 \n",
      "\n",
      "Amarillo:\n",
      "\n",
      " count    1100.000000\n",
      "mean        3.821706\n",
      "std         3.810731\n",
      "min         2.000000\n",
      "25%         2.000000\n",
      "50%         2.000000\n",
      "75%         4.200000\n",
      "max        26.110000\n",
      "Name: DBO_mg/L, dtype: float64 \n",
      "\n",
      "Rojo:\n",
      "\n",
      " count     938.000000\n",
      "mean       40.030949\n",
      "std       104.012630\n",
      "min         2.000000\n",
      "25%         5.837500\n",
      "50%        13.105000\n",
      "75%        33.525000\n",
      "max      1500.000000\n",
      "Name: DBO_mg/L, dtype: float64\n",
      "\n",
      "DQO_mg/L \n",
      "\n",
      "Verde:\n",
      "\n",
      " count    543.000000\n",
      "mean      18.241230\n",
      "std        8.976886\n",
      "min       10.000000\n",
      "25%       10.000000\n",
      "50%       15.140000\n",
      "75%       24.635000\n",
      "max       40.000000\n",
      "Name: DQO_mg/L, dtype: float64 \n",
      "\n",
      "Amarillo:\n",
      "\n",
      " count    1100.000000\n",
      "mean       18.644803\n",
      "std         9.170450\n",
      "min        10.000000\n",
      "25%        10.000000\n",
      "50%        15.960000\n",
      "75%        25.535000\n",
      "max        40.000000\n",
      "Name: DQO_mg/L, dtype: float64 \n",
      "\n",
      "Rojo:\n",
      "\n",
      " count     938.000000\n",
      "mean      144.593989\n",
      "std       227.014240\n",
      "min        14.400000\n",
      "25%        52.680000\n",
      "50%        78.465000\n",
      "75%       134.247500\n",
      "max      2871.250000\n",
      "Name: DQO_mg/L, dtype: float64\n",
      "\n"
     ]
    }
   ],
   "source": [
    "for col in metric_cols:\n",
    "    print(col,'\\n\\nVerde:\\n\\n',df_subterraneas[df_subterraneas[\"SEMAFORO\"]==\"Verde\"][col].describe(),'\\n\\nAmarillo:\\n\\n',df_subterraneas[df_subterraneas[\"SEMAFORO\"]==\"Amarillo\"][col].describe(),'\\n\\nRojo:\\n\\n',df_subterraneas[df_subterraneas[\"SEMAFORO\"]==\"Rojo\"][col].describe(),end='\\n\\n')"
   ]
  },
  {
   "cell_type": "markdown",
   "metadata": {},
   "source": [
    "Vemos que para cada metrica hay cambios en la media de acuerdo a su diagnostico de contaminacion."
   ]
  },
  {
   "cell_type": "markdown",
   "metadata": {},
   "source": [
    "Validar diferencias de cada feature con respecto a su valor en el semaforo"
   ]
  },
  {
   "cell_type": "code",
   "execution_count": 32,
   "metadata": {},
   "outputs": [],
   "source": [
    "def function_map(metrica = \"OD_PORC_FON\"):\n",
    "    sns.color_palette(\"husl\", 9)\n",
    "    sns.set_theme(style='whitegrid')\n",
    "    plt.title(metrica)\n",
    "    sns.kdeplot(x=df_subterraneas[metrica],hue = df_subterraneas['SEMAFORO'], palette={\"Rojo\":\"red\",\"Verde\":\"green\",\"Amarillo\":\"yellow\"} )\n",
    "    plt.tight_layout()\n",
    "    plt.show()"
   ]
  },
  {
   "cell_type": "code",
   "execution_count": 33,
   "metadata": {},
   "outputs": [
    {
     "data": {
      "application/vnd.jupyter.widget-view+json": {
       "model_id": "f09ba26c32054f10af9f0572519eaf6f",
       "version_major": 2,
       "version_minor": 0
      },
      "text/plain": [
       "interactive(children=(Dropdown(description='metrica', index=4, options=('COLI_FEC_NMP_100mL', 'E_COLI_NMP_100m…"
      ]
     },
     "metadata": {},
     "output_type": "display_data"
    },
    {
     "data": {
      "text/plain": [
       "<function __main__.function_map(metrica='OD_PORC_FON')>"
      ]
     },
     "execution_count": 33,
     "metadata": {},
     "output_type": "execute_result"
    }
   ],
   "source": [
    "interact(function_map, metrica=metric_cols)"
   ]
  },
  {
   "cell_type": "markdown",
   "metadata": {},
   "source": [
    "## <a id='2.3'>2.3. Matriz de correlacion</a>"
   ]
  },
  {
   "cell_type": "code",
   "execution_count": 26,
   "metadata": {},
   "outputs": [
    {
     "data": {
      "text/plain": [
       "<AxesSubplot:>"
      ]
     },
     "execution_count": 26,
     "metadata": {},
     "output_type": "execute_result"
    },
    {
     "data": {
      "image/png": "[encoded data removed]",
      "text/plain": [
       "<Figure size 720x720 with 2 Axes>"
      ]
     },
     "metadata": {},
     "output_type": "display_data"
    }
   ],
   "source": [
    "plt.rcParams['figure.figsize'] = [10, 10]\n",
    "sns.heatmap(df_subterraneas.corr())\n"
   ]
  },
  {
   "cell_type": "markdown",
   "metadata": {},
   "source": [
    "## <a id='2.4'>2.4. Identificar medidas de posición no centrales , los cuartiles , outliers. </a>  "
   ]
  },
  {
   "cell_type": "code",
   "execution_count": 96,
   "metadata": {},
   "outputs": [],
   "source": [
    "def function_map(metrica='OD_PORC_FON'):\n",
    "\n",
    "    fig,ax = plt.subplots(1,4,figsize=(20,5))\n",
    "    \n",
    "    sns.distplot(df_subterraneas[metrica],ax=ax[0],color='green')\n",
    "    sns.boxplot(df_subterraneas[metrica],ax=ax[1],color='yellow')\n",
    "    sns.violinplot(df_subterraneas[metrica],ax=ax[2],color='purple')\n",
    "    stats.probplot(df_subterraneas[metrica],plot=ax[3])\n",
    "\n",
    "    fig.tight_layout()\n",
    "    fig.subplots_adjust(top=0.90)\n",
    "    plt.suptitle(\"Visualiziando columnas continuas\",fontsize=30)\n",
    "\n"
   ]
  },
  {
   "cell_type": "code",
   "execution_count": 97,
   "metadata": {},
   "outputs": [
    {
     "data": {
      "application/vnd.jupyter.widget-view+json": {
       "model_id": "37c99ded821446708ad74f8f6bab9727",
       "version_major": 2,
       "version_minor": 0
      },
      "text/plain": [
       "interactive(children=(Dropdown(description='metrica', index=4, options=('COLI_FEC_NMP_100mL', 'E_COLI_NMP_100m…"
      ]
     },
     "metadata": {},
     "output_type": "display_data"
    },
    {
     "data": {
      "text/plain": [
       "<function __main__.function_map(metrica='OD_PORC_FON')>"
      ]
     },
     "execution_count": 97,
     "metadata": {},
     "output_type": "execute_result"
    }
   ],
   "source": [
    "interact(function_map, metrica=metric_cols)"
   ]
  },
  {
   "cell_type": "markdown",
   "metadata": {},
   "source": [
    "# <a id='3'>3. Preparar los datos</a>"
   ]
  },
  {
   "cell_type": "markdown",
   "metadata": {},
   "source": [
    "## <a href='#3.1'>3.1. Label encoding</a>"
   ]
  },
  {
   "cell_type": "markdown",
   "metadata": {},
   "source": [
    "# <a id='4'>4. Mapa</a>"
   ]
  },
  {
   "cell_type": "markdown",
   "metadata": {},
   "source": [
    "## <a id='4.1'>4.1. Graficar archivo KML</a>"
   ]
  },
  {
   "cell_type": "code",
   "execution_count": 28,
   "metadata": {},
   "outputs": [],
   "source": [
    "supported_drivers['LIBKML'] = 'rw'\n",
    "\n",
    "fiona.drvsupport.supported_drivers['KML'] = 'rw'\n",
    "\n",
    "df = gpd.read_file('https://raw.githubusercontent.com/PosgradoMNA/actividades-del-projecto-grupo26/main/Reto/data/doc.kml', driver='LIBKML')"
   ]
  },
  {
   "cell_type": "code",
   "execution_count": 29,
   "metadata": {},
   "outputs": [
    {
     "data": {
      "text/plain": [
       "<AxesSubplot:>"
      ]
     },
     "execution_count": 29,
     "metadata": {},
     "output_type": "execute_result"
    },
    {
     "data": {
      "image/png": "[encoded data removed]",
      "text/plain": [
       "<Figure size 720x720 with 1 Axes>"
      ]
     },
     "metadata": {},
     "output_type": "display_data"
    }
   ],
   "source": [
    "df.plot()"
   ]
  },
  {
   "cell_type": "markdown",
   "metadata": {},
   "source": [
    "# <a id='5'>5. K- Means</a>"
   ]
  },
  {
   "cell_type": "markdown",
   "metadata": {},
   "source": [
    "## <a id='5.1'>5.1. Realizar análisis para encontrar si existe una relación entre la calidad del agua y su ubicación geográfica a través de K- means.</a>"
   ]
  },
  {
   "cell_type": "markdown",
   "metadata": {},
   "source": [
    "## <a id='5.2'>5.2. Mostrar resultados de agrupamiento de latitudes y longitudes con K means en el mapa de México.</a>"
   ]
  },
  {
   "cell_type": "markdown",
   "metadata": {},
   "source": []
  }
 ],
 "metadata": {
  "kernelspec": {
   "display_name": "Python 3.10.2 64-bit",
   "language": "python",
   "name": "python3"
  },
  "language_info": {
   "codemirror_mode": {
    "name": "ipython",
    "version": 3
   },
   "file_extension": ".py",
   "mimetype": "text/x-python",
   "name": "python",
   "nbconvert_exporter": "python",
   "pygments_lexer": "ipython3",
   "version": "3.10.2"
  },
  "orig_nbformat": 4,
  "vscode": {
   "interpreter": {
    "hash": "4dd15ac4cfe006e7770f1748318df5853f91b1709ffe23ecf86429a8a977c856"
   }
  }
 },
 "nbformat": 4,
 "nbformat_minor": 2
}
