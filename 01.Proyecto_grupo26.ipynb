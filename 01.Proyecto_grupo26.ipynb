{
 "cells": [
  {
   "cell_type": "markdown",
   "metadata": {},
   "source": [
    "# **Proyecto grupo 26**"
   ]
  },
  {
   "cell_type": "markdown",
   "metadata": {},
   "source": [
    "## **Nombres:**\n",
    "### -> *Diego Alberto Olarte Mira:*         **A01794028**\n",
    "### -> *Yeison Fernando Villamil Franco:*   **A01793803**"
   ]
  },
  {
   "cell_type": "markdown",
   "metadata": {},
   "source": [
    "---"
   ]
  },
  {
   "cell_type": "markdown",
   "metadata": {},
   "source": [
    "### ***1. El nombre que caracteriza el conjunto de datos***"
   ]
  },
  {
   "cell_type": "markdown",
   "metadata": {},
   "source": [
    "Discapacidades en pacientes. Este es el nombre que caracteriza el *dataset*, donde se presentan seis tipos de discapacidad funcional:\n",
    "\n",
    "* cognitiva: Dificultad grave para concentrarse, recordar o tomar decisiones\n",
    "* Auditiva: Dificultad granve al oír o sordera\n",
    "* Movilidad: Dificultad grave para caminar o subir escaleras\n",
    "* Visión: Dificultad para ver\n",
    "* Cuidado personal: Dificultad para vestir y bañarse\n",
    "* Vida independiente: Dificultad para hacer actividad autónomas"
   ]
  },
  {
   "cell_type": "markdown",
   "metadata": {},
   "source": [
    "### ***2. La organización que lo generó.***"
   ]
  },
  {
   "cell_type": "markdown",
   "metadata": {},
   "source": [
    "Disability and Health Data System (DHDS)"
   ]
  },
  {
   "cell_type": "markdown",
   "metadata": {},
   "source": [
    "### ***3. Incluya un enlace de Internet donde se puedan descargar el base de datos en línea***"
   ]
  },
  {
   "cell_type": "markdown",
   "metadata": {},
   "source": [
    "https://data.cdc.gov/api/views/k62p-6esq/rows.csv?accessType=DOWNLOAD"
   ]
  }
 ],
 "metadata": {
  "kernelspec": {
   "display_name": "Python 3.10.4 ('ml_projects')",
   "language": "python",
   "name": "python3"
  },
  "language_info": {
   "codemirror_mode": {
    "name": "ipython",
    "version": 3
   },
   "file_extension": ".py",
   "mimetype": "text/x-python",
   "name": "python",
   "nbconvert_exporter": "python",
   "pygments_lexer": "ipython3",
   "version": "3.10.4"
  },
  "orig_nbformat": 4,
  "vscode": {
   "interpreter": {
    "hash": "7830fdd6266474239bfd7de8190294ed8bdbfb59df3ffbae438fbb1179d117c0"
   }
  }
 },
 "nbformat": 4,
 "nbformat_minor": 2
}
