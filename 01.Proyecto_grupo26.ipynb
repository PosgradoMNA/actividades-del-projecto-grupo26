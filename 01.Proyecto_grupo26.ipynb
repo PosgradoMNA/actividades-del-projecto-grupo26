{
 "cells": [
  {
   "cell_type": "markdown",
   "metadata": {},
   "source": [
    "# **Proyecto grupo 26**"
   ]
  },
  {
   "cell_type": "markdown",
   "metadata": {},
   "source": [
    "## **Nombres:**\n",
    "### -> *Diego Alberto Olarte Mira:*         **A01794028**\n",
    "### -> *Yeison Fernando Villamil Franco:*   **A01793803**"
   ]
  },
  {
   "cell_type": "markdown",
   "metadata": {},
   "source": [
    "---"
   ]
  },
  {
   "cell_type": "markdown",
   "metadata": {},
   "source": [
    "## **Proyecto final: Avance 1**"
   ]
  },
  {
   "cell_type": "markdown",
   "metadata": {},
   "source": [
    "### ***1. El nombre que caracteriza el conjunto de datos***"
   ]
  },
  {
   "cell_type": "markdown",
   "metadata": {},
   "source": [
    "**Diabetes Health Indicators**. Este es el nombre que caracteriza el *dataset*. Consiste en un análisis de pacientes con diabetes donde son analizados ciertas carácteristicas específicas para distinguirlos con aquellos que no poseen la enfermedad."
   ]
  },
  {
   "cell_type": "markdown",
   "metadata": {},
   "source": [
    "### ***2. La organización que lo generó.***"
   ]
  },
  {
   "cell_type": "markdown",
   "metadata": {},
   "source": [
    "**Behavioral Risk Factor Surveillance System**"
   ]
  },
  {
   "cell_type": "markdown",
   "metadata": {},
   "source": [
    "### ***3. Incluya un enlace de Internet donde se puedan descargar el base de datos en línea***"
   ]
  },
  {
   "cell_type": "markdown",
   "metadata": {},
   "source": [
    "https://www.kaggle.com/datasets/cdc/behavioral-risk-factor-surveillance-system"
   ]
  },
  {
   "cell_type": "markdown",
   "metadata": {},
   "source": [
    "### ***4. Describe el conjunto de datos. ¿Qué datos contiene?***"
   ]
  },
  {
   "cell_type": "markdown",
   "metadata": {},
   "source": [
    "Como se mencionó, el estudio muestra una serie de investigaciones y entrevistas que fueron realizados a diferentes pacientes que poseen la enfermedad de `DIABETES`. Para esto, se recopiló información de riesgo, carácterización demográfica, etc. Un resumen de algunos parámetros recolectados son los siguientes:\n",
    "\n",
    "* Presión arterial\n",
    "* BMI (índice de masa corporal)\n",
    "* Ataques al corazón\n",
    "* Ingesta de alimentos\n",
    "* Consumo de alcohol\n",
    "* Sexo\n",
    "* Edad\n",
    "* Educación\n",
    "* Actividad física\n",
    "\n",
    "Apróximadamente contiene 454 columnas con este tipo de información y adicionalmente, existen conjuntos de datos con un resumen en función del tipo de diabetes. Ya que este conjunto grande contiene varios tipos de `DIABETES`. Es importante mencionar que algunos de los parámetros son binarios, categóricos y continuos."
   ]
  },
  {
   "cell_type": "markdown",
   "metadata": {},
   "source": [
    "### ***5. ¿Cuáles son algunas de las preguntas de investigación que podría responder con estos datos? Enumere al menos OCHO (no responda las preguntas).***"
   ]
  },
  {
   "cell_type": "markdown",
   "metadata": {},
   "source": [
    "1. Factores de riesgos más importantes\n",
    "2. Clasificación de distribución de factores de riesgo por característica específica (alimentación, problema de corazón, etc)\n",
    "3. Distribución demográfica de la `DIABETES`\n",
    "4. Es una muestra significativa para entender el problema de `DIABETES`\n",
    "5. Es posible con un método de *machine learning* predecir para otra muestra de datos aquellos pacientes propensos a sufrir `DIABETES`\n",
    "6. Identificar soluciones que puedan ser recomendadas en función de pacientes sanos y no sanos [Naturales y Medicina]\n",
    "7. Rangos de edad donde se presenta con mayor frecuencia la enfermedad de `DIABETES`\n",
    "8. Posibles pacientes curados por tratamiento que se muestra dentro del conjunto de datos"
   ]
  },
  {
   "cell_type": "markdown",
   "metadata": {},
   "source": [
    "### ***6. ¿Qué actor (empresa, sector de la sociedad, organismo descentralizado, gobierno, etc.) estaría interesado en las preguntas mencionadas que identificó?***"
   ]
  },
  {
   "cell_type": "markdown",
   "metadata": {},
   "source": [
    "El principal autor interesado en el **`sector de la salud`**. Identificando factores de riesgos y posibles soluciones a la enfermedad de `DIABETES`"
   ]
  }
 ],
 "metadata": {
  "kernelspec": {
   "display_name": "Python 3.10.4 ('ml_projects')",
   "language": "python",
   "name": "python3"
  },
  "language_info": {
   "codemirror_mode": {
    "name": "ipython",
    "version": 3
   },
   "file_extension": ".py",
   "mimetype": "text/x-python",
   "name": "python",
   "nbconvert_exporter": "python",
   "pygments_lexer": "ipython3",
   "version": "3.10.4"
  },
  "orig_nbformat": 4,
  "vscode": {
   "interpreter": {
    "hash": "7830fdd6266474239bfd7de8190294ed8bdbfb59df3ffbae438fbb1179d117c0"
   }
  }
 },
 "nbformat": 4,
 "nbformat_minor": 2
}
