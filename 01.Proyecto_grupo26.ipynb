{
 "cells": [
  {
   "cell_type": "markdown",
   "metadata": {},
   "source": [
    "# Proyecto grupo 26"
   ]
  }
 ],
 "metadata": {
  "kernelspec": {
   "display_name": "Python 3.10.4 ('ml_projects')",
   "language": "python",
   "name": "python3"
  },
  "language_info": {
   "name": "python",
   "version": "3.10.4"
  },
  "orig_nbformat": 4,
  "vscode": {
   "interpreter": {
    "hash": "7830fdd6266474239bfd7de8190294ed8bdbfb59df3ffbae438fbb1179d117c0"
   }
  }
 },
 "nbformat": 4,
 "nbformat_minor": 2
}
